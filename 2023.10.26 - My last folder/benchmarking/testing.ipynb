{
 "cells": [
  {
   "cell_type": "code",
   "execution_count": 1,
   "id": "171056a0",
   "metadata": {},
   "outputs": [],
   "source": [
    "import numpy as np\n",
    "import matplotlib.pyplot as plt\n",
    "from tqdm import tqdm\n",
    "import scan, simulate_data"
   ]
  },
  {
   "cell_type": "code",
   "execution_count": 30,
   "id": "26845fbc",
   "metadata": {},
   "outputs": [],
   "source": [
    "params = {\n",
    "    'M':1,\n",
    "    'N':30,\n",
    "    'D':51,\n",
    "    'T':1000,\n",
    "    'seed':3,\n",
    "    'SM_repetitions':2,\n",
    "    'spikes_in_SM':7,\n",
    "    'noise':600\n",
    "}"
   ]
  },
  {
   "cell_type": "code",
   "execution_count": 31,
   "id": "d1b4e806",
   "metadata": {},
   "outputs": [
    {
     "name": "stdout",
     "output_type": "stream",
     "text": [
      "614 Windows\n",
      "35 patterns found...... 97% 10.01 | opt_cutoff - 1.37 | most_detections - 1etections - 1\n",
      "[0.63636364]plates... 97%\n"
     ]
    }
   ],
   "source": [
    "A_dense, A_sparse, B_dense, B_sparse, K_dense, K_sparse = simulate_data.generate_synthetic_data(params)\n",
    "pattern_template, all_times, window_time, cluster_time, sequence_time, opt_cutoff = scan.scan_raster(A_sparse[1],A_sparse[0])\n",
    "SM_acc, cc, _ = simulate_data.check_ground_truth(pattern_template, K_dense)\n",
    "print(SM_acc)"
   ]
  },
  {
   "cell_type": "code",
   "execution_count": null,
   "id": "313897ef",
   "metadata": {},
   "outputs": [],
   "source": []
  }
 ],
 "metadata": {
  "kernelspec": {
   "display_name": "Python 3 (ipykernel)",
   "language": "python",
   "name": "python3"
  },
  "language_info": {
   "codemirror_mode": {
    "name": "ipython",
    "version": 3
   },
   "file_extension": ".py",
   "mimetype": "text/x-python",
   "name": "python",
   "nbconvert_exporter": "python",
   "pygments_lexer": "ipython3",
   "version": "3.11.5"
  }
 },
 "nbformat": 4,
 "nbformat_minor": 5
}
