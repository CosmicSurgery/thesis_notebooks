{
 "cells": [
  {
   "cell_type": "code",
   "execution_count": 2,
   "id": "d53f1a24",
   "metadata": {},
   "outputs": [],
   "source": [
    "import tarfile\n",
    "import numpy as np\n",
    "import os\n",
    "import pandas as pd\n",
    "import matplotlib.pyplot as plt\n",
    "import scipy\n",
    "import pickle"
   ]
  },
  {
   "cell_type": "code",
   "execution_count": 43,
   "id": "ab8ffd5b",
   "metadata": {},
   "outputs": [],
   "source": [
    "master_dict = {}"
   ]
  },
  {
   "cell_type": "markdown",
   "id": "898e11c3",
   "metadata": {},
   "source": [
    "### hc-2"
   ]
  },
  {
   "cell_type": "code",
   "execution_count": 44,
   "id": "1eaaf1ca",
   "metadata": {},
   "outputs": [],
   "source": [
    "dataset = 'hc2'\n",
    "master_dict[dataset] = {}"
   ]
  },
  {
   "cell_type": "code",
   "execution_count": 47,
   "id": "b278bc62",
   "metadata": {},
   "outputs": [],
   "source": [
    "session = 'ec013.527'\n",
    "master_dict[dataset][session] = {}"
   ]
  },
  {
   "cell_type": "code",
   "execution_count": 4,
   "id": "a8546725",
   "metadata": {},
   "outputs": [
    {
     "data": {
      "text/plain": [
       "'C:\\\\Users\\\\miles\\\\Projects\\\\datasets'"
      ]
     },
     "execution_count": 4,
     "metadata": {},
     "output_type": "execute_result"
    }
   ],
   "source": [
    "file =r'C:\\Users\\miles\\Projects\\datasets\\crcns\\hc2\\ec013.527\\ec013.527.clu.1'\n",
    "os.path.abspath('C:\\\\Users\\\\miles\\\\Projects\\\\datasets')"
   ]
  },
  {
   "cell_type": "code",
   "execution_count": 5,
   "id": "69d383e3",
   "metadata": {},
   "outputs": [],
   "source": [
    "def get_data(clusters_file, spikes_file):\n",
    "#     labels_file = open(labels_file)\n",
    "    clusters = clusters_file.readlines()\n",
    "    num_clu = int(clusters[0][:-1])-2\n",
    "#     num_clu = clusters[0][:-1]\n",
    "    clusters = np.array([k[:-1] for k in clusters],dtype='int')[1:]\n",
    "#     labels = np.array([k[:-1] for k in labels])\n",
    "    \n",
    "    spikes = spikes_file.readlines()\n",
    "    spikes = np.array([k[:-1] for k in spikes],dtype='float')\n",
    "    \n",
    "    spikes = spikes[clusters>1]\n",
    "    clusters = clusters[clusters>1]\n",
    "    \n",
    "    spikes, clusters = spikes[spikes.argsort()], clusters[spikes.argsort()] # sorting the arrays by spike time\n",
    "    \n",
    "    \n",
    "    return clusters, spikes, num_clu\n"
   ]
  },
  {
   "cell_type": "code",
   "execution_count": 33,
   "id": "0f0c9fbe",
   "metadata": {},
   "outputs": [
    {
     "data": {
      "text/plain": [
       "(array([   3150,    3957,    5109, ..., 1058318, 1058344, 1058347]),\n",
       " array([ 7, 11, 12, ..., 12, 12, 12]))"
      ]
     },
     "execution_count": 33,
     "metadata": {},
     "output_type": "execute_result"
    }
   ],
   "source": [
    "spikes[0], clusters[0]"
   ]
  },
  {
   "cell_type": "code",
   "execution_count": 6,
   "id": "15064810",
   "metadata": {},
   "outputs": [],
   "source": [
    "shanks = 4"
   ]
  },
  {
   "cell_type": "code",
   "execution_count": 48,
   "id": "2947f60a",
   "metadata": {},
   "outputs": [],
   "source": [
    "clusters, spikes, num_clu = [],[],[]\n",
    "\n",
    "for i in range(shanks):\n",
    "    (clusters_file, spikes_file) = (\n",
    "        open(f\"C:\\\\Users\\\\miles\\\\Projects\\\\datasets\\\\crcns\\\\hc2\\\\ec013.527\\\\ec013.527.clu.{i+1}\"),\n",
    "        open(f\"C:\\\\Users\\miles\\\\Projects\\\\datasets\\\\crcns\\\\hc2\\\\ec013.527\\\\ec013.527.res.{i+1}\")\n",
    "    )\n",
    "    a,b,c = get_data(clusters_file, spikes_file)\n",
    "    a,b = a.astype(int), (b/20).astype(int)\n",
    "    clusters.append(a)\n",
    "    spikes.append(b)\n",
    "    num_clu.append(c)\n",
    "    master_dict[dataset][session][i] = {}\n",
    "    master_dict[dataset][session][i]['raster'] = (b,a)\n",
    "    master_dict[dataset][session]['surrogate'] = (None)\n",
    "      "
   ]
  },
  {
   "cell_type": "code",
   "execution_count": 49,
   "id": "52c0ef40",
   "metadata": {},
   "outputs": [
    {
     "data": {
      "text/plain": [
       "{'hc2': {'ec013.527': {0: {'raster': (array([   3150,    3957,    5109, ..., 1058318, 1058344, 1058347]),\n",
       "     array([ 7, 11, 12, ..., 12, 12, 12]))},\n",
       "   'surrogate': None,\n",
       "   1: {'raster': (array([      7,      53,      76, ..., 1059719, 1059734, 1059969]),\n",
       "     array([ 6,  4,  4, ...,  4, 10,  4]))},\n",
       "   2: {'raster': (array([      2,      25,      53, ..., 1059919, 1059937, 1059985]),\n",
       "     array([5, 5, 4, ..., 5, 5, 5]))},\n",
       "   3: {'raster': (array([   3953,    5431,    7545, ..., 1059634, 1059901, 1060090]),\n",
       "     array([4, 3, 5, ..., 4, 4, 4]))}}}}"
      ]
     },
     "execution_count": 49,
     "metadata": {},
     "output_type": "execute_result"
    }
   ],
   "source": [
    "master_dict"
   ]
  },
  {
   "cell_type": "markdown",
   "id": "e9b3aeaf",
   "metadata": {},
   "source": [
    "### ac-3\n",
    "Big Dataset!!!"
   ]
  },
  {
   "cell_type": "code",
   "execution_count": 50,
   "id": "c7134c3c",
   "metadata": {},
   "outputs": [
    {
     "data": {
      "text/plain": [
       "{'hc2': {'ec013.527': {0: {'raster': (array([   3150,    3957,    5109, ..., 1058318, 1058344, 1058347]),\n",
       "     array([ 7, 11, 12, ..., 12, 12, 12]))},\n",
       "   'surrogate': None,\n",
       "   1: {'raster': (array([      7,      53,      76, ..., 1059719, 1059734, 1059969]),\n",
       "     array([ 6,  4,  4, ...,  4, 10,  4]))},\n",
       "   2: {'raster': (array([      2,      25,      53, ..., 1059919, 1059937, 1059985]),\n",
       "     array([5, 5, 4, ..., 5, 5, 5]))},\n",
       "   3: {'raster': (array([   3953,    5431,    7545, ..., 1059634, 1059901, 1060090]),\n",
       "     array([4, 3, 5, ..., 4, 4, 4]))}}},\n",
       " 'ac3': {}}"
      ]
     },
     "execution_count": 50,
     "metadata": {},
     "output_type": "execute_result"
    }
   ],
   "source": [
    "dataset = 'ac3'\n",
    "master_dict[dataset] = {}\n",
    "master_dict"
   ]
  },
  {
   "cell_type": "code",
   "execution_count": 55,
   "id": "b1720ab6",
   "metadata": {},
   "outputs": [
    {
     "name": "stdout",
     "output_type": "stream",
     "text": [
      "(72240,) (72240,)\n"
     ]
    }
   ],
   "source": [
    "filenames = os.listdir(r'C:\\Users\\miles\\Projects\\datasets\\crcns\\ac3\\Data')\n",
    "import scipy.io\n",
    "test = [scipy.io.loadmat(r'C:\\Users\\miles\\Projects\\datasets\\crcns\\ac3\\Data\\\\'+k) for k in filenames]\n",
    "df = pd.DataFrame(test[0]['spk'][0])\n",
    "fs = 20 # Sampling rate in kHz\n",
    "num_units = test[0]['spk'][0]['spiketimes'].shape[0]\n",
    "spikes = np.array([])\n",
    "labels = np.array([])\n",
    "for i in range(num_units):\n",
    "    spikes = np.hstack((spikes,test[0]['spk'][0]['spiketimes'][i].squeeze()))\n",
    "    labels = np.hstack((labels,i*np.ones_like(test[0]['spk'][0]['spiketimes'][i].squeeze())))\n",
    "spikes, labels = spikes[spikes.argsort()], labels[spikes.argsort()] # sorting the arrays by spike time\n",
    "spikes = np.round(spikes).astype(int)\n",
    "labels = labels.astype(int)\n",
    "print(spikes.shape,labels.shape)"
   ]
  },
  {
   "cell_type": "code",
   "execution_count": 57,
   "id": "32cfd32d",
   "metadata": {},
   "outputs": [],
   "source": [
    "session = 1\n",
    "shank = 1\n",
    "master_dict[dataset][session] = {}\n",
    "master_dict[dataset][session][shank] = {}"
   ]
  },
  {
   "cell_type": "code",
   "execution_count": 52,
   "id": "78920714",
   "metadata": {},
   "outputs": [],
   "source": [
    "import simulate_data, scan"
   ]
  },
  {
   "cell_type": "code",
   "execution_count": null,
   "id": "3da0012f",
   "metadata": {},
   "outputs": [
    {
     "name": "stdout",
     "output_type": "stream",
     "text": [
      "72076 Windows\n",
      "Clustering...m matrices 100%\r"
     ]
    }
   ],
   "source": [
    "scan.scan_raster(spikes,labels,window_dim=50)"
   ]
  },
  {
   "cell_type": "code",
   "execution_count": null,
   "id": "6fa38f20",
   "metadata": {},
   "outputs": [],
   "source": []
  }
 ],
 "metadata": {
  "kernelspec": {
   "display_name": "Python 3 (ipykernel)",
   "language": "python",
   "name": "python3"
  },
  "language_info": {
   "codemirror_mode": {
    "name": "ipython",
    "version": 3
   },
   "file_extension": ".py",
   "mimetype": "text/x-python",
   "name": "python",
   "nbconvert_exporter": "python",
   "pygments_lexer": "ipython3",
   "version": "3.11.5"
  }
 },
 "nbformat": 4,
 "nbformat_minor": 5
}
