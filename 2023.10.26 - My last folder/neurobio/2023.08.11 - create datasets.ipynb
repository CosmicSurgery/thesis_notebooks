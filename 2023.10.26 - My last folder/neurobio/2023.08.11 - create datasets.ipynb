{
 "cells": [
  {
   "cell_type": "code",
   "execution_count": 1,
   "id": "33710c88",
   "metadata": {},
   "outputs": [],
   "source": [
    "import scan, simulate_data\n",
    "import numpy as np\n",
    "import matplotlib.pyplot as plt\n",
    "from tqdm import tqdm\n"
   ]
  },
  {
   "cell_type": "code",
   "execution_count": 2,
   "id": "816efea3",
   "metadata": {},
   "outputs": [],
   "source": [
    "dataset_list = []\n",
    "dataset_id_list = []\n",
    "true_parameters = []\n",
    "surrogate_parameters = []"
   ]
  },
  {
   "cell_type": "code",
   "execution_count": null,
   "id": "2bcd9b16",
   "metadata": {},
   "outputs": [],
   "source": []
  }
 ],
 "metadata": {
  "kernelspec": {
   "display_name": "Python 3 (ipykernel)",
   "language": "python",
   "name": "python3"
  },
  "language_info": {
   "codemirror_mode": {
    "name": "ipython",
    "version": 3
   },
   "file_extension": ".py",
   "mimetype": "text/x-python",
   "name": "python",
   "nbconvert_exporter": "python",
   "pygments_lexer": "ipython3",
   "version": "3.11.5"
  }
 },
 "nbformat": 4,
 "nbformat_minor": 5
}
