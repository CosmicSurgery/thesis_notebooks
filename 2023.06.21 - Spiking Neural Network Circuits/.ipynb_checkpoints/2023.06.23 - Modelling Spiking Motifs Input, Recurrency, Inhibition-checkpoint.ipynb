{
 "cells": [
  {
   "cell_type": "code",
   "execution_count": 2,
   "id": "6689b09e",
   "metadata": {},
   "outputs": [],
   "source": [
    "import numpy as np\n",
    "import matplotlib.pyplot as plt"
   ]
  },
  {
   "cell_type": "code",
   "execution_count": null,
   "id": "2648ffa1",
   "metadata": {},
   "outputs": [],
   "source": [
    "T = 50 # miliseconds of simulation time\n",
    "inp_num = 3\n",
    "reservoir_num = 6"
   ]
  },
  {
   "cell_type": "code",
   "execution_count": null,
   "id": "29e79bd5",
   "metadata": {},
   "outputs": [],
   "source": [
    "inp_delays =np.random.randint "
   ]
  },
  {
   "cell_type": "code",
   "execution_count": null,
   "id": "d8dc7135",
   "metadata": {},
   "outputs": [],
   "source": [
    "inp = np.random.randint(0,50)"
   ]
  },
  {
   "cell_type": "code",
   "execution_count": null,
   "id": "90312026",
   "metadata": {},
   "outputs": [],
   "source": []
  },
  {
   "cell_type": "code",
   "execution_count": null,
   "id": "21e79e61",
   "metadata": {},
   "outputs": [],
   "source": []
  }
 ],
 "metadata": {
  "kernelspec": {
   "display_name": "Python 3 (ipykernel)",
   "language": "python",
   "name": "python3"
  },
  "language_info": {
   "codemirror_mode": {
    "name": "ipython",
    "version": 3
   },
   "file_extension": ".py",
   "mimetype": "text/x-python",
   "name": "python",
   "nbconvert_exporter": "python",
   "pygments_lexer": "ipython3",
   "version": "3.11.3"
  }
 },
 "nbformat": 4,
 "nbformat_minor": 5
}
