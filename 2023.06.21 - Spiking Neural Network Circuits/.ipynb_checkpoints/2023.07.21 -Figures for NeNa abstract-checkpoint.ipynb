{
 "cells": [
  {
   "cell_type": "code",
   "execution_count": 295,
   "id": "9572f4bf",
   "metadata": {},
   "outputs": [],
   "source": [
    "import numpy as np\n",
    "import sys\n",
    "import matplotlib.pyplot as plt\n",
    "from tqdm import tqdm\n",
    "\n",
    "from scipy.ndimage import gaussian_filter1d"
   ]
  },
  {
   "cell_type": "code",
   "execution_count": 296,
   "id": "43e2e9cd",
   "metadata": {},
   "outputs": [],
   "source": [
    "np.random.seed(5)\n",
    "np.set_printoptions(threshold=sys.maxsize)"
   ]
  },
  {
   "cell_type": "code",
   "execution_count": 297,
   "id": "841e6c9a",
   "metadata": {},
   "outputs": [
    {
     "data": {
      "text/plain": [
       "[1, 2]"
      ]
     },
     "execution_count": 297,
     "metadata": {},
     "output_type": "execute_result"
    }
   ],
   "source": [
    "x = [1,2,3,4,5]\n",
    "y = slice(0,2)\n",
    "x[y]"
   ]
  },
  {
   "cell_type": "code",
   "execution_count": 298,
   "id": "9ff781e2",
   "metadata": {},
   "outputs": [],
   "source": [
    "'''\n",
    "returns a inp_event_max ** inp_num, inp_num, inp_event_max shape matrix of all possible input events\n",
    "This was made by chatgpt\n",
    "'''\n",
    "\n",
    "def generate_combinations(inp_num, inp_event_max):\n",
    "    total_combinations = inp_event_max ** inp_num\n",
    "    combinations = np.zeros((total_combinations, inp_event_max, inp_num), dtype=int)\n",
    "\n",
    "    for i in range(total_combinations):\n",
    "        temp = i\n",
    "        for j in range(inp_num):\n",
    "            index = temp % inp_event_max\n",
    "            combinations[i, index,j] = 1\n",
    "            temp = temp // inp_event_max\n",
    "\n",
    "    return combinations"
   ]
  },
  {
   "cell_type": "code",
   "execution_count": 308,
   "id": "8355c9c1",
   "metadata": {},
   "outputs": [],
   "source": [
    "def calc_reps(T, start_time, end_time, inp_num, rec_num, inh_num, inh_duration, inp_delay_range, rec_delay_range,V_th):\n",
    "    \n",
    "    \n",
    "    inp_event_max = inp_delay_range[1]-inp_delay_range[0]\n",
    "\n",
    "    inp_delays = np.random.randint(*inp_delay_range,(inp_num ,rec_num))\n",
    "    rec_delays = np.random.randint(*rec_delay_range,(rec_num+inp_num+inh_num,rec_num+inp_num+inh_num))\n",
    "    inp_delays.shape,rec_delays.shape\n",
    "    all_input_events = np.zeros((inp_event_max**inp_num, T, inp_num))\n",
    "    all_rec_events = np.zeros((inp_event_max**inp_num, T,rec_num))\n",
    "    all_events = np.zeros((inp_event_max**inp_num,T,inp_num+rec_num+inh_num))\n",
    "    \n",
    "\n",
    "    '''\n",
    "    this needs to be a recursive loop since we don't know how mnay inputs there will be!\n",
    "    '''\n",
    "    idc = 0\n",
    "    curr_inp = 0\n",
    "    all_input_events[:,start_time:start_time+inp_event_max,:] = generate_combinations(inp_num, inp_event_max)\n",
    "    nrn_labels = np.array(inp_num*[0] + rec_num*[1] + inh_num*[2])\n",
    "    \n",
    "    rec_label=2\n",
    "    \n",
    "# all_input_events[-1,:,:]\n",
    "    idc=0\n",
    "    for inp_events in all_input_events:\n",
    "        rec_events = np.zeros((T,rec_num+inh_num))\n",
    "    #     inp = np.random.randint(0,10,(inp_num))\n",
    "    #     inp_events = np.zeros((T,inp_num))\n",
    "    #     for i in range(inp_num):\n",
    "    #         inp_events[start_time+inp[i],i] =1\n",
    "    #     inp_events.shape\n",
    "\n",
    "        for t in range(1+start_time,end_time):\n",
    "            for j in range(rec_num): # this for loop only iterates over excitatory recurrent neurons\n",
    "                I = 0\n",
    "\n",
    "                for i in range(inp_num):\n",
    "                    I += inp_events[t-inp_delays[i,j],i]\n",
    "                for i in range(rec_num+inh_num):\n",
    "                    if i!=j:\n",
    "                        I += rec_events[t-rec_delays[i,j],i]/2 # this offsets their label value\n",
    "\n",
    "                if I>V_th:\n",
    "                    rec_events[t,j] =2\n",
    "                else:\n",
    "                    rec_events[t,j] =0\n",
    "\n",
    "            for j in range(rec_num,rec_num+inh_num): # this loop only iterates over inhbiitory recurrent neurons\n",
    "                I = 0\n",
    "\n",
    "                for i in range(rec_num):\n",
    "                    if i!=j:\n",
    "                        I += rec_events[t-rec_delays[i,j],i]\n",
    "\n",
    "\n",
    "                if I>1:\n",
    "                    rec_events[t,j] =-2\n",
    "                else:\n",
    "                    rec_events[t,j] =0\n",
    "\n",
    "        events = np.zeros((T,inp_num+rec_num+inh_num))\n",
    "        events[:,:inp_num] = inp_events\n",
    "        events[:,inp_num:inp_num+rec_num+inh_num] = rec_events\n",
    "        all_events[idc]=events\n",
    "    #     all_rec_events[]\n",
    "        idc+=1\n",
    "        \n",
    "        '''\n",
    "        Do stats in the same method...?\n",
    "        \n",
    "        '''\n",
    "        \n",
    "        pct_response = 0 # pct of independent responses\n",
    "    all_events_bin = np.zeros_like(all_events)\n",
    "    all_events_bin[all_events != 0] = 1\n",
    "    total_spikes = np.mean(np.sum(all_events_bin,axis=(1,2))-inp_num) # number of rec spikes for each trial    \n",
    "    pct_response = ((inp_event_max ** inp_num - \n",
    "                    len(np.where(np.sum(all_events_bin,axis=(1,2))-inp_num == 0)[0])) / \n",
    "                    inp_event_max ** inp_num) # Pct of non-zero recurrent responses to input\n",
    "    \n",
    "    \n",
    "    return all_events, nrn_labels, (total_spikes, pct_response)\n",
    "    \n",
    "\n",
    "# all_rec_events, evoked_spikes, temporal_depth,  unique_signatures = calc_reps(**params)"
   ]
  },
  {
   "cell_type": "code",
   "execution_count": 309,
   "id": "92ccfc1a",
   "metadata": {},
   "outputs": [],
   "source": [
    "\n",
    "T = 100 # miliseconds of simulation time\n",
    "start_time=10\n",
    "end_time=90\n",
    "inp_num = 2\n",
    "rec_num = 4\n",
    "inh_num = 2\n",
    "nrns = np.array((inp_num*[0]+rec_num*[1]+inh_num*[2]))\n",
    "\n",
    "inh_duration = 2\n",
    "inp_delay_range=(1,5)\n",
    "rec_delay_range=(1,5)\n",
    "inp_event_max=4\n",
    "V_th=1\n",
    "\n",
    "default_params = {\n",
    "    'T' : T, # miliseconds of simulation time\n",
    "    'start_time':start_time,\n",
    "    'end_time':end_time,\n",
    "    'inp_num' : inp_num,\n",
    "    'rec_num' : rec_num,\n",
    "    'inh_num' : inh_num,\n",
    "    'inh_duration' : inh_duration,\n",
    "    'inp_delay_range':inp_delay_range,\n",
    "    'rec_delay_range':rec_delay_range,\n",
    "    'V_th':V_th\n",
    "}\n",
    "\n",
    "colors = np.array(['#1f77b4', '#1f77b4', '#1f77b4', '#d62728', '#d62728', '#d62728', '#d62728', '#d62728', '#d62728', '#17becf'])\n",
    "colors = np.array(inp_num*['#1f77b4'] + rec_num*['#d62728'] + inh_num*['#17becf'])"
   ]
  },
  {
   "cell_type": "code",
   "execution_count": 310,
   "id": "c348c811",
   "metadata": {},
   "outputs": [
    {
     "name": "stderr",
     "output_type": "stream",
     "text": [
      "100%|████████████████████████████████████████████████████████████████████████████████████| 1/1 [00:00<00:00, 16.36it/s]\n"
     ]
    }
   ],
   "source": [
    "trials = 1\n",
    "\n",
    "all_events = np.zeros((trials, inp_event_max**inp_num,T,inp_num+rec_num+inh_num))\n",
    "\n",
    "for trial in tqdm(range(trials)):\n",
    "    all_events[trial],nrn_labels, stats = calc_reps(**default_params)\n"
   ]
  },
  {
   "cell_type": "code",
   "execution_count": 311,
   "id": "3c7c0dbd",
   "metadata": {},
   "outputs": [
    {
     "data": {
      "text/plain": [
       "(2.5625, 0.4375)"
      ]
     },
     "execution_count": 311,
     "metadata": {},
     "output_type": "execute_result"
    }
   ],
   "source": [
    "stats"
   ]
  },
  {
   "cell_type": "code",
   "execution_count": 304,
   "id": "63d41bfd",
   "metadata": {},
   "outputs": [
    {
     "data": {
      "text/plain": [
       "((1, 16, 100, 8), 2)"
      ]
     },
     "execution_count": 304,
     "metadata": {},
     "output_type": "execute_result"
    }
   ],
   "source": [
    "all_events.shape, inp_num"
   ]
  },
  {
   "cell_type": "code",
   "execution_count": 316,
   "id": "e7400695",
   "metadata": {},
   "outputs": [
    {
     "data": {
      "text/plain": [
       "(1, 16, 100, 8)"
      ]
     },
     "execution_count": 316,
     "metadata": {},
     "output_type": "execute_result"
    }
   ],
   "source": [
    "all_events_bin.shape"
   ]
  },
  {
   "cell_type": "markdown",
   "id": "adf963fc",
   "metadata": {},
   "source": [
    "# statistics!"
   ]
  },
  {
   "cell_type": "code",
   "execution_count": 320,
   "id": "a1e5c05f",
   "metadata": {},
   "outputs": [],
   "source": [
    "scan_dict = {\n",
    "    'inp_num':[2,3],\n",
    "    'rec_num':[2,3,4,5,6,9,13,20],\n",
    "    'inh_num':[0,1,2,3,4,8,12],\n",
    "    'inh_duration':[1,2,3,4,5],\n",
    "    'inp_delay_range':[(1,5),(1,6),(1,7),(1,8),(1,10),(1,15),(1,20)],\n",
    "    'rec_delay_range':[(1,5),(1,6),(1,7),(1,10)],\n",
    "    'V_th':[1,2,3,4,5]\n",
    "}"
   ]
  },
  {
   "cell_type": "code",
   "execution_count": 321,
   "id": "ad44ddcb",
   "metadata": {},
   "outputs": [
    {
     "data": {
      "text/plain": [
       "2"
      ]
     },
     "execution_count": 321,
     "metadata": {},
     "output_type": "execute_result"
    }
   ],
   "source": [
    "len(scan_dict['inp_num'])"
   ]
  },
  {
   "cell_type": "code",
   "execution_count": 382,
   "id": "885fc30b",
   "metadata": {
    "scrolled": true
   },
   "outputs": [
    {
     "name": "stderr",
     "output_type": "stream",
     "text": [
      "100%|████████████████████████████████████████████████████████████████████████████████████| 3/3 [00:00<00:00, 42.35it/s]\n",
      "100%|████████████████████████████████████████████████████████████████████████████████████| 3/3 [00:00<00:00, 11.14it/s]\n",
      "100%|████████████████████████████████████████████████████████████████████████████████████| 3/3 [00:00<00:00, 88.40it/s]\n",
      "100%|████████████████████████████████████████████████████████████████████████████████████| 3/3 [00:00<00:00, 65.33it/s]\n",
      "100%|████████████████████████████████████████████████████████████████████████████████████| 3/3 [00:00<00:00, 47.72it/s]\n",
      "100%|████████████████████████████████████████████████████████████████████████████████████| 3/3 [00:00<00:00, 34.56it/s]\n",
      "100%|████████████████████████████████████████████████████████████████████████████████████| 3/3 [00:00<00:00, 27.09it/s]\n",
      "100%|████████████████████████████████████████████████████████████████████████████████████| 3/3 [00:00<00:00, 14.03it/s]\n",
      "100%|████████████████████████████████████████████████████████████████████████████████████| 3/3 [00:00<00:00,  7.16it/s]\n",
      "100%|████████████████████████████████████████████████████████████████████████████████████| 3/3 [00:00<00:00,  3.73it/s]\n",
      "100%|████████████████████████████████████████████████████████████████████████████████████| 3/3 [00:00<00:00, 73.37it/s]\n",
      "100%|████████████████████████████████████████████████████████████████████████████████████| 3/3 [00:00<00:00, 53.71it/s]\n",
      "100%|████████████████████████████████████████████████████████████████████████████████████| 3/3 [00:00<00:00, 44.87it/s]\n",
      "100%|████████████████████████████████████████████████████████████████████████████████████| 3/3 [00:00<00:00, 38.75it/s]\n",
      "100%|████████████████████████████████████████████████████████████████████████████████████| 3/3 [00:00<00:00, 34.18it/s]\n",
      "100%|████████████████████████████████████████████████████████████████████████████████████| 3/3 [00:00<00:00, 21.33it/s]\n",
      "100%|████████████████████████████████████████████████████████████████████████████████████| 3/3 [00:00<00:00, 15.50it/s]\n",
      "100%|████████████████████████████████████████████████████████████████████████████████████| 3/3 [00:00<00:00, 43.78it/s]\n",
      "100%|████████████████████████████████████████████████████████████████████████████████████| 3/3 [00:00<00:00, 45.58it/s]\n",
      "100%|████████████████████████████████████████████████████████████████████████████████████| 3/3 [00:00<00:00, 46.25it/s]\n",
      "100%|████████████████████████████████████████████████████████████████████████████████████| 3/3 [00:00<00:00, 45.58it/s]\n",
      "100%|████████████████████████████████████████████████████████████████████████████████████| 3/3 [00:00<00:00, 45.55it/s]\n",
      "100%|████████████████████████████████████████████████████████████████████████████████████| 3/3 [00:00<00:00, 44.86it/s]\n",
      "100%|████████████████████████████████████████████████████████████████████████████████████| 3/3 [00:00<00:00, 28.65it/s]\n",
      "100%|████████████████████████████████████████████████████████████████████████████████████| 3/3 [00:00<00:00, 20.20it/s]\n",
      "100%|████████████████████████████████████████████████████████████████████████████████████| 3/3 [00:00<00:00, 15.24it/s]\n",
      "100%|████████████████████████████████████████████████████████████████████████████████████| 3/3 [00:00<00:00,  9.25it/s]\n",
      "100%|████████████████████████████████████████████████████████████████████████████████████| 3/3 [00:00<00:00,  3.84it/s]\n",
      "100%|████████████████████████████████████████████████████████████████████████████████████| 3/3 [00:01<00:00,  2.05it/s]\n",
      "100%|████████████████████████████████████████████████████████████████████████████████████| 3/3 [00:00<00:00, 45.58it/s]\n",
      "100%|████████████████████████████████████████████████████████████████████████████████████| 3/3 [00:00<00:00, 46.28it/s]\n",
      "100%|████████████████████████████████████████████████████████████████████████████████████| 3/3 [00:00<00:00, 46.97it/s]\n",
      "100%|████████████████████████████████████████████████████████████████████████████████████| 3/3 [00:00<00:00, 45.58it/s]\n",
      "100%|████████████████████████████████████████████████████████████████████████████████████| 3/3 [00:00<00:00, 44.86it/s]\n",
      "100%|████████████████████████████████████████████████████████████████████████████████████| 3/3 [00:00<00:00, 44.21it/s]\n",
      "100%|████████████████████████████████████████████████████████████████████████████████████| 3/3 [00:00<00:00, 44.87it/s]\n",
      "100%|████████████████████████████████████████████████████████████████████████████████████| 3/3 [00:00<00:00, 45.55it/s]\n",
      "100%|████████████████████████████████████████████████████████████████████████████████████| 3/3 [00:00<00:00, 44.87it/s]\n"
     ]
    }
   ],
   "source": [
    "trials = 3\n",
    "np.random.seed(5)\n",
    "\n",
    "events_dict = {}\n",
    "labels_dict = {}\n",
    "stats_dict = {}\n",
    "for key_idc, key in enumerate(scan_dict):\n",
    "    \n",
    "    events_dict[key] = {}\n",
    "    labels_dict[key] = {}\n",
    "    stats_dict[key] = {}\n",
    "    \n",
    "    for val_idc, val in enumerate(scan_dict[key]):\n",
    "        \n",
    "        \n",
    "        \n",
    "        params = default_params.copy()\n",
    "        params[key]=val\n",
    "        \n",
    "\n",
    "        all_events = []\n",
    "        stats = []\n",
    "        np.zeros((trials, inp_event_max**inp_num,T,inp_num+rec_num+inh_num))\n",
    "\n",
    "        for trial in tqdm(range(trials)):\n",
    "            x, nrn_labels, stats_ = calc_reps(**params)\n",
    "            all_events.append(x)\n",
    "            stats.append(stats_)\n",
    "        \n",
    "        all_events = np.array(all_events)\n",
    "        stats = np.array(stats)\n",
    "        events_dict[key][val] = all_events\n",
    "        labels_dict[key][val] = nrn_labels\n",
    "        stats_dict[key][val] = stats\n"
   ]
  },
  {
   "cell_type": "code",
   "execution_count": 396,
   "id": "7b938854",
   "metadata": {},
   "outputs": [
    {
     "data": {
      "text/plain": [
       "[(1, 5), (1, 6), (1, 7), (1, 8), (1, 10), (1, 15), (1, 20)]"
      ]
     },
     "execution_count": 396,
     "metadata": {},
     "output_type": "execute_result"
    }
   ],
   "source": [
    "mean_spikes = []\n",
    "std_spikes = []\n",
    "mean_pct_indep = []\n",
    "std_pct_indep = []\n",
    "xlabels = []\n",
    "for k in stats_dict['inp_delay_range'].keys():\n",
    "    mean_spikes.append(np.mean(stats_dict['inp_delay_range'][k],axis=0)[0])\n",
    "    std_spikes.append(np.std(stats_dict['inp_delay_range'][k],axis=0)[0])\n",
    "    xlabels.append(k)\n",
    "    mean_pct_indep.append(np.mean(stats_dict['inp_delay_range'][k],axis=0)[1])\n",
    "    std_pct_indep.append(np.std(stats_dict['inp_delay_range'][k],axis=0)[1])\n",
    "    \n",
    "    \n",
    "xlabels"
   ]
  },
  {
   "cell_type": "code",
   "execution_count": 397,
   "id": "08d2bc65",
   "metadata": {},
   "outputs": [
    {
     "data": {
      "text/plain": [
       "array([[0.44875346, 0.14958449],\n",
       "       [0.44875346, 0.11357341],\n",
       "       [0.4432133 , 0.12188366]])"
      ]
     },
     "execution_count": 397,
     "metadata": {},
     "output_type": "execute_result"
    }
   ],
   "source": [
    "stats_dict['inp_delay_range'][k]"
   ]
  },
  {
   "cell_type": "code",
   "execution_count": 393,
   "id": "30a31d43",
   "metadata": {},
   "outputs": [
    {
     "data": {
      "text/plain": [
       "0.4469067405355494"
      ]
     },
     "execution_count": 393,
     "metadata": {},
     "output_type": "execute_result"
    }
   ],
   "source": [
    "np.mean(stats_dict['inp_delay_range'][k],axis=0)[0]"
   ]
  },
  {
   "cell_type": "code",
   "execution_count": 398,
   "id": "9714908f",
   "metadata": {},
   "outputs": [
    {
     "data": {
      "text/plain": [
       "[3.3541666666666665,\n",
       " 1.8666666666666665,\n",
       " 1.4907407407407405,\n",
       " 1.965986394557823,\n",
       " 1.2386831275720167,\n",
       " 0.5816326530612245,\n",
       " 0.4469067405355494]"
      ]
     },
     "execution_count": 398,
     "metadata": {},
     "output_type": "execute_result"
    }
   ],
   "source": [
    "mean_spikes"
   ]
  },
  {
   "cell_type": "code",
   "execution_count": 399,
   "id": "110707ec",
   "metadata": {},
   "outputs": [
    {
     "data": {
      "text/plain": [
       "([3.3541666666666665,\n",
       "  1.8666666666666665,\n",
       "  1.4907407407407405,\n",
       "  1.965986394557823,\n",
       "  1.2386831275720167,\n",
       "  0.5816326530612245,\n",
       "  0.4469067405355494],\n",
       " [1.1346040670158417,\n",
       "  0.4622649552895924,\n",
       "  0.48076870317582104,\n",
       "  0.29870065850476407,\n",
       "  0.18705050497717718,\n",
       "  0.2164612595469023,\n",
       "  0.0026116593949641657])"
      ]
     },
     "execution_count": 399,
     "metadata": {},
     "output_type": "execute_result"
    }
   ],
   "source": [
    "mean_spikes, std_spikes"
   ]
  },
  {
   "cell_type": "code",
   "execution_count": 412,
   "id": "b83d704d",
   "metadata": {
    "scrolled": false
   },
   "outputs": [
    {
     "data": {
      "image/png": "[encoded data removed]",
      "text/plain": [
       "<Figure size 1200x600 with 2 Axes>"
      ]
     },
     "metadata": {},
     "output_type": "display_data"
    }
   ],
   "source": [
    "fig,ax = plt.subplot_mosaic('AB',figsize=(12,6))\n",
    "\n",
    "a = np.arange(0,len(mean_spikes))\n",
    "\n",
    "yerr=std_spikes\n",
    "ax['A'].bar(a,mean_spikes,alpha=0.7)\n",
    "ax['A'].errorbar(a,mean_spikes, yerr, fmt='.', color='Black', elinewidth=1,capthick=1,errorevery=1, alpha=0.5, ms=4, capsize = 2)\n",
    "ax['A'].set_xticks(a,labels=xlabels)\n",
    "ax['A'].set_xlabel('inp delay range')\n",
    "ax['B'].set_ylabel('ave num rec spikes')\n",
    "ax['A'].set_title('average number of recurrent spikes per input delay range distribution')\n",
    "\n",
    "yerr=std_pct_indep\n",
    "b = np.arange(0,len(mean_pct_indep))\n",
    "ax['B'].bar(b,mean_pct_indep,alpha=0.7)\n",
    "ax['B'].errorbar(a,mean_pct_indep, yerr, fmt='.', color='Black', elinewidth=1,capthick=1,errorevery=1, alpha=0.5, ms=4, capsize = 2)\n",
    "ax['B'].set_xticks(b,labels=xlabels)\n",
    "ax['B'].set_xlabel('inp delay range')\n",
    "ax['B'].set_ylabel('pct indep results')\n",
    "ax['B'].set_title('precent independent results per input delay range distribution')\n",
    "\n",
    "plt.show()"
   ]
  },
  {
   "cell_type": "code",
   "execution_count": 183,
   "id": "7f0f65ab",
   "metadata": {},
   "outputs": [
    {
     "data": {
      "text/plain": [
       "dict_keys(['inp_num', 'rec_num', 'inh_num', 'inh_duration', 'inp_delay_range', 'rec_delay_range', 'V_th'])"
      ]
     },
     "execution_count": 183,
     "metadata": {},
     "output_type": "execute_result"
    }
   ],
   "source": [
    "events_dict.keys()"
   ]
  },
  {
   "cell_type": "code",
   "execution_count": 195,
   "id": "f896b186",
   "metadata": {},
   "outputs": [
    {
     "data": {
      "text/plain": [
       "((1, 16, 100, 8), (8,))"
      ]
     },
     "execution_count": 195,
     "metadata": {},
     "output_type": "execute_result"
    }
   ],
   "source": [
    "events_dict['inp_num'][2][0].shape, nrn_labels.shape"
   ]
  },
  {
   "cell_type": "code",
   "execution_count": 210,
   "id": "7705bd10",
   "metadata": {},
   "outputs": [
    {
     "data": {
      "text/plain": [
       "array([0, 0, 0, 1, 1, 1, 1, 2, 2])"
      ]
     },
     "execution_count": 210,
     "metadata": {},
     "output_type": "execute_result"
    }
   ],
   "source": [
    "nrn_labels"
   ]
  },
  {
   "cell_type": "code",
   "execution_count": 211,
   "id": "79a37e87",
   "metadata": {},
   "outputs": [
    {
     "data": {
      "text/plain": [
       "array(['#1f77b4', '#1f77b4', '#1f77b4', '#d62728', '#d62728', '#d62728',\n",
       "       '#d62728', '#17becf', '#17becf'], dtype='<U7')"
      ]
     },
     "execution_count": 211,
     "metadata": {},
     "output_type": "execute_result"
    }
   ],
   "source": [
    "colors = np.array(['#1f77b4', '#d62728', '#17becf'])\n",
    "colors[nrn_labels]"
   ]
  },
  {
   "cell_type": "code",
   "execution_count": 213,
   "id": "55313e05",
   "metadata": {},
   "outputs": [
    {
     "data": {
      "text/plain": [
       "array([1, 2, 0, 4, 6, 3, 4, 5, 7, 8, 7], dtype=int64)"
      ]
     },
     "execution_count": 213,
     "metadata": {},
     "output_type": "execute_result"
    }
   ],
   "source": [
    "np.where(current_events[i,...])[1]"
   ]
  },
  {
   "cell_type": "code",
   "execution_count": 269,
   "id": "3daa7046",
   "metadata": {},
   "outputs": [
    {
     "data": {
      "text/plain": [
       "[0, 1, 2, 3, 4, 8, 12]"
      ]
     },
     "execution_count": 269,
     "metadata": {},
     "output_type": "execute_result"
    }
   ],
   "source": [
    "list(events_dict[key].keys())"
   ]
  },
  {
   "cell_type": "code",
   "execution_count": 274,
   "id": "f9dbfe76",
   "metadata": {},
   "outputs": [
    {
     "name": "stdout",
     "output_type": "stream",
     "text": [
      "[0 0 1 1 1 1 2 2 2 2 2 2 2 2 2 2 2 2]\n",
      "(16, 100, 18)\n"
     ]
    },
    {
     "data": {
      "image/png": "[encoded data removed]",
      "text/plain": [
       "<Figure size 640x480 with 1 Axes>"
      ]
     },
     "metadata": {},
     "output_type": "display_data"
    }
   ],
   "source": [
    "key = 'inh_num'\n",
    "values = list(events_dict[key].keys())\n",
    "val = values[-1]\n",
    "current_events = events_dict[key][val][0][0,...]\n",
    "nrn_labels = events_dict[key][val][1]\n",
    "print(nrn_labels)\n",
    "colors = np.array(['#1f77b4', '#d62728', '#17becf'])\n",
    "colors = colors[nrn_labels]\n",
    "print(current_events.shape)\n",
    "plt.figure()\n",
    "i=7\n",
    "plt.scatter(np.where(current_events[i,...])[0],np.where(current_events[i,...])[1],c=colors[np.where(current_events[i,...])[1]])\n",
    "plt.show()"
   ]
  },
  {
   "cell_type": "code",
   "execution_count": 181,
   "id": "ea696e53",
   "metadata": {
    "scrolled": true
   },
   "outputs": [
    {
     "data": {
      "text/plain": [
       "array([[ 0.,  0.,  0.,  0.,  0.,  0.,  0.,  0.,  0.],\n",
       "       [ 0.,  0.,  0.,  0.,  0.,  0.,  0.,  0.,  0.],\n",
       "       [ 0.,  0.,  0.,  0.,  0.,  0.,  0.,  0.,  0.],\n",
       "       [ 0.,  0.,  0.,  0.,  0.,  0.,  0.,  0.,  0.],\n",
       "       [ 0.,  0.,  0.,  0.,  0.,  0.,  0.,  0.,  0.],\n",
       "       [ 0.,  0.,  0.,  0.,  0.,  0.,  0.,  0.,  0.],\n",
       "       [ 0.,  0.,  0.,  0.,  0.,  0.,  0.,  0.,  0.],\n",
       "       [ 0.,  0.,  0.,  0.,  0.,  0.,  0.,  0.,  0.],\n",
       "       [ 0.,  0.,  0.,  0.,  0.,  0.,  0.,  0.,  0.],\n",
       "       [ 0.,  0.,  0.,  0.,  0.,  0.,  0.,  0.,  0.],\n",
       "       [ 0.,  1.,  1.,  0.,  0.,  0.,  0.,  0.,  0.],\n",
       "       [ 0.,  0.,  0.,  0.,  0.,  0.,  0.,  0.,  0.],\n",
       "       [ 0.,  0.,  0.,  0.,  0.,  0.,  0.,  0.,  0.],\n",
       "       [ 1.,  0.,  0.,  0.,  0.,  0.,  0.,  0.,  0.],\n",
       "       [ 0.,  0.,  0.,  0.,  1.,  0.,  1.,  0.,  0.],\n",
       "       [ 0.,  0.,  0.,  0.,  0.,  0.,  0.,  0.,  0.],\n",
       "       [ 0.,  0.,  0.,  0.,  0.,  0.,  0.,  0.,  0.],\n",
       "       [ 0.,  0.,  0.,  1.,  1.,  1.,  0.,  0.,  0.],\n",
       "       [ 0.,  0.,  0.,  0.,  0.,  0.,  0., -2., -2.],\n",
       "       [ 0.,  0.,  0.,  0.,  0.,  0.,  0.,  0.,  0.],\n",
       "       [ 0.,  0.,  0.,  0.,  0.,  0.,  0., -2.,  0.],\n",
       "       [ 0.,  0.,  0.,  0.,  0.,  0.,  0.,  0.,  0.],\n",
       "       [ 0.,  0.,  0.,  0.,  0.,  0.,  0.,  0.,  0.],\n",
       "       [ 0.,  0.,  0.,  0.,  0.,  0.,  0.,  0.,  0.],\n",
       "       [ 0.,  0.,  0.,  0.,  0.,  0.,  0.,  0.,  0.],\n",
       "       [ 0.,  0.,  0.,  0.,  0.,  0.,  0.,  0.,  0.],\n",
       "       [ 0.,  0.,  0.,  0.,  0.,  0.,  0.,  0.,  0.],\n",
       "       [ 0.,  0.,  0.,  0.,  0.,  0.,  0.,  0.,  0.],\n",
       "       [ 0.,  0.,  0.,  0.,  0.,  0.,  0.,  0.,  0.],\n",
       "       [ 0.,  0.,  0.,  0.,  0.,  0.,  0.,  0.,  0.],\n",
       "       [ 0.,  0.,  0.,  0.,  0.,  0.,  0.,  0.,  0.],\n",
       "       [ 0.,  0.,  0.,  0.,  0.,  0.,  0.,  0.,  0.],\n",
       "       [ 0.,  0.,  0.,  0.,  0.,  0.,  0.,  0.,  0.],\n",
       "       [ 0.,  0.,  0.,  0.,  0.,  0.,  0.,  0.,  0.],\n",
       "       [ 0.,  0.,  0.,  0.,  0.,  0.,  0.,  0.,  0.],\n",
       "       [ 0.,  0.,  0.,  0.,  0.,  0.,  0.,  0.,  0.],\n",
       "       [ 0.,  0.,  0.,  0.,  0.,  0.,  0.,  0.,  0.],\n",
       "       [ 0.,  0.,  0.,  0.,  0.,  0.,  0.,  0.,  0.],\n",
       "       [ 0.,  0.,  0.,  0.,  0.,  0.,  0.,  0.,  0.],\n",
       "       [ 0.,  0.,  0.,  0.,  0.,  0.,  0.,  0.,  0.],\n",
       "       [ 0.,  0.,  0.,  0.,  0.,  0.,  0.,  0.,  0.],\n",
       "       [ 0.,  0.,  0.,  0.,  0.,  0.,  0.,  0.,  0.],\n",
       "       [ 0.,  0.,  0.,  0.,  0.,  0.,  0.,  0.,  0.],\n",
       "       [ 0.,  0.,  0.,  0.,  0.,  0.,  0.,  0.,  0.],\n",
       "       [ 0.,  0.,  0.,  0.,  0.,  0.,  0.,  0.,  0.],\n",
       "       [ 0.,  0.,  0.,  0.,  0.,  0.,  0.,  0.,  0.],\n",
       "       [ 0.,  0.,  0.,  0.,  0.,  0.,  0.,  0.,  0.],\n",
       "       [ 0.,  0.,  0.,  0.,  0.,  0.,  0.,  0.,  0.],\n",
       "       [ 0.,  0.,  0.,  0.,  0.,  0.,  0.,  0.,  0.],\n",
       "       [ 0.,  0.,  0.,  0.,  0.,  0.,  0.,  0.,  0.],\n",
       "       [ 0.,  0.,  0.,  0.,  0.,  0.,  0.,  0.,  0.],\n",
       "       [ 0.,  0.,  0.,  0.,  0.,  0.,  0.,  0.,  0.],\n",
       "       [ 0.,  0.,  0.,  0.,  0.,  0.,  0.,  0.,  0.],\n",
       "       [ 0.,  0.,  0.,  0.,  0.,  0.,  0.,  0.,  0.],\n",
       "       [ 0.,  0.,  0.,  0.,  0.,  0.,  0.,  0.,  0.],\n",
       "       [ 0.,  0.,  0.,  0.,  0.,  0.,  0.,  0.,  0.],\n",
       "       [ 0.,  0.,  0.,  0.,  0.,  0.,  0.,  0.,  0.],\n",
       "       [ 0.,  0.,  0.,  0.,  0.,  0.,  0.,  0.,  0.],\n",
       "       [ 0.,  0.,  0.,  0.,  0.,  0.,  0.,  0.,  0.],\n",
       "       [ 0.,  0.,  0.,  0.,  0.,  0.,  0.,  0.,  0.],\n",
       "       [ 0.,  0.,  0.,  0.,  0.,  0.,  0.,  0.,  0.],\n",
       "       [ 0.,  0.,  0.,  0.,  0.,  0.,  0.,  0.,  0.],\n",
       "       [ 0.,  0.,  0.,  0.,  0.,  0.,  0.,  0.,  0.],\n",
       "       [ 0.,  0.,  0.,  0.,  0.,  0.,  0.,  0.,  0.],\n",
       "       [ 0.,  0.,  0.,  0.,  0.,  0.,  0.,  0.,  0.],\n",
       "       [ 0.,  0.,  0.,  0.,  0.,  0.,  0.,  0.,  0.],\n",
       "       [ 0.,  0.,  0.,  0.,  0.,  0.,  0.,  0.,  0.],\n",
       "       [ 0.,  0.,  0.,  0.,  0.,  0.,  0.,  0.,  0.],\n",
       "       [ 0.,  0.,  0.,  0.,  0.,  0.,  0.,  0.,  0.],\n",
       "       [ 0.,  0.,  0.,  0.,  0.,  0.,  0.,  0.,  0.],\n",
       "       [ 0.,  0.,  0.,  0.,  0.,  0.,  0.,  0.,  0.],\n",
       "       [ 0.,  0.,  0.,  0.,  0.,  0.,  0.,  0.,  0.],\n",
       "       [ 0.,  0.,  0.,  0.,  0.,  0.,  0.,  0.,  0.],\n",
       "       [ 0.,  0.,  0.,  0.,  0.,  0.,  0.,  0.,  0.],\n",
       "       [ 0.,  0.,  0.,  0.,  0.,  0.,  0.,  0.,  0.],\n",
       "       [ 0.,  0.,  0.,  0.,  0.,  0.,  0.,  0.,  0.],\n",
       "       [ 0.,  0.,  0.,  0.,  0.,  0.,  0.,  0.,  0.],\n",
       "       [ 0.,  0.,  0.,  0.,  0.,  0.,  0.,  0.,  0.],\n",
       "       [ 0.,  0.,  0.,  0.,  0.,  0.,  0.,  0.,  0.],\n",
       "       [ 0.,  0.,  0.,  0.,  0.,  0.,  0.,  0.,  0.],\n",
       "       [ 0.,  0.,  0.,  0.,  0.,  0.,  0.,  0.,  0.],\n",
       "       [ 0.,  0.,  0.,  0.,  0.,  0.,  0.,  0.,  0.],\n",
       "       [ 0.,  0.,  0.,  0.,  0.,  0.,  0.,  0.,  0.],\n",
       "       [ 0.,  0.,  0.,  0.,  0.,  0.,  0.,  0.,  0.],\n",
       "       [ 0.,  0.,  0.,  0.,  0.,  0.,  0.,  0.,  0.],\n",
       "       [ 0.,  0.,  0.,  0.,  0.,  0.,  0.,  0.,  0.],\n",
       "       [ 0.,  0.,  0.,  0.,  0.,  0.,  0.,  0.,  0.],\n",
       "       [ 0.,  0.,  0.,  0.,  0.,  0.,  0.,  0.,  0.],\n",
       "       [ 0.,  0.,  0.,  0.,  0.,  0.,  0.,  0.,  0.],\n",
       "       [ 0.,  0.,  0.,  0.,  0.,  0.,  0.,  0.,  0.],\n",
       "       [ 0.,  0.,  0.,  0.,  0.,  0.,  0.,  0.,  0.],\n",
       "       [ 0.,  0.,  0.,  0.,  0.,  0.,  0.,  0.,  0.],\n",
       "       [ 0.,  0.,  0.,  0.,  0.,  0.,  0.,  0.,  0.],\n",
       "       [ 0.,  0.,  0.,  0.,  0.,  0.,  0.,  0.,  0.],\n",
       "       [ 0.,  0.,  0.,  0.,  0.,  0.,  0.,  0.,  0.],\n",
       "       [ 0.,  0.,  0.,  0.,  0.,  0.,  0.,  0.,  0.],\n",
       "       [ 0.,  0.,  0.,  0.,  0.,  0.,  0.,  0.,  0.],\n",
       "       [ 0.,  0.,  0.,  0.,  0.,  0.,  0.,  0.,  0.],\n",
       "       [ 0.,  0.,  0.,  0.,  0.,  0.,  0.,  0.,  0.],\n",
       "       [ 0.,  0.,  0.,  0.,  0.,  0.,  0.,  0.,  0.]])"
      ]
     },
     "execution_count": 181,
     "metadata": {},
     "output_type": "execute_result"
    }
   ],
   "source": [
    "current_events[i,...]"
   ]
  }
 ],
 "metadata": {
  "kernelspec": {
   "display_name": "Python 3 (ipykernel)",
   "language": "python",
   "name": "python3"
  },
  "language_info": {
   "codemirror_mode": {
    "name": "ipython",
    "version": 3
   },
   "file_extension": ".py",
   "mimetype": "text/x-python",
   "name": "python",
   "nbconvert_exporter": "python",
   "pygments_lexer": "ipython3",
   "version": "3.11.3"
  }
 },
 "nbformat": 4,
 "nbformat_minor": 5
}
