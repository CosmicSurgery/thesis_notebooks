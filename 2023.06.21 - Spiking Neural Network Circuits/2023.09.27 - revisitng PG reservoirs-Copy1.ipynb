{
 "cells": [
  {
   "cell_type": "code",
   "execution_count": 1,
   "id": "23f8d347",
   "metadata": {},
   "outputs": [],
   "source": [
    "import numpy as np\n",
    "import sys\n",
    "import matplotlib.pyplot as plt\n",
    "from tqdm import tqdm\n",
    "import random\n",
    "import pandas as pd\n"
   ]
  },
  {
   "cell_type": "code",
   "execution_count": 184,
   "id": "fc889365",
   "metadata": {},
   "outputs": [],
   "source": [
    "\n",
    "T = 50 # miliseconds of simulation time\n",
    "start_time=0\n",
    "end_time=50\n",
    "inp_num = 10\n",
    "rec_num = 80\n",
    "inh_num = 20\n",
    "nrns = np.array((inp_num*[0]+rec_num*[1]+inh_num*[2]))\n",
    "\n",
    "inh_duration = 1\n",
    "inp_delay_range=(1,31)\n",
    "rec_delay_range=(1,5)\n",
    "inp_event_thresh=2\n",
    "inh_event_thresh=1\n",
    "combination_samples=1\n",
    "inh_weight = 5\n",
    "inp_weight = 1\n",
    "\n",
    "params = {\n",
    "    'T' : T, # miliseconds of simulation time\n",
    "    'start_time':start_time,\n",
    "    'end_time':end_time,\n",
    "    'inp_num' : inp_num,\n",
    "    'rec_num' : rec_num,\n",
    "    'inh_num' : inh_num,\n",
    "    'inh_duration' : inh_duration,\n",
    "    'inp_delay_range':inp_delay_range,\n",
    "    'rec_delay_range':rec_delay_range,\n",
    "    'inp_event_thresh':inp_event_thresh,\n",
    "    'inh_event_thresh':inh_event_thresh,\n",
    "    'inh_weight':inh_weight,\n",
    "    'combination_samples':combination_samples\n",
    "}"
   ]
  },
  {
   "cell_type": "code",
   "execution_count": 185,
   "id": "9855bfe3",
   "metadata": {},
   "outputs": [],
   "source": [
    "from itertools import product\n",
    "\n",
    "l1, l2 = np.arange(*inp_delay_range), np.arange(*inp_delay_range)\n",
    "permutations = np.array(list(product(l1, l2)))\n",
    "permutation_samples = permutations.shape[0]"
   ]
  },
  {
   "cell_type": "code",
   "execution_count": 186,
   "id": "ca2675d4",
   "metadata": {},
   "outputs": [
    {
     "data": {
      "text/plain": [
       "900"
      ]
     },
     "execution_count": 186,
     "metadata": {},
     "output_type": "execute_result"
    }
   ],
   "source": [
    "np.array(permutations).shape[0]"
   ]
  },
  {
   "cell_type": "code",
   "execution_count": 195,
   "id": "1197d9ff",
   "metadata": {},
   "outputs": [
    {
     "data": {
      "text/plain": [
       "[array([ 1,  2,  3,  4,  5,  6,  7,  8,  9, 10, 11, 12, 13, 14, 15, 16, 17,\n",
       "        18, 19, 20, 21, 22, 23, 24, 25, 26, 27, 28, 29, 30]),\n",
       " array([ 1,  2,  3,  4,  5,  6,  7,  8,  9, 10, 11, 12, 13, 14, 15, 16, 17,\n",
       "        18, 19, 20, 21, 22, 23, 24, 25, 26, 27, 28, 29, 30]),\n",
       " array([ 1,  2,  3,  4,  5,  6,  7,  8,  9, 10, 11, 12, 13, 14, 15, 16, 17,\n",
       "        18, 19, 20, 21, 22, 23, 24, 25, 26, 27, 28, 29, 30]),\n",
       " array([ 1,  2,  3,  4,  5,  6,  7,  8,  9, 10, 11, 12, 13, 14, 15, 16, 17,\n",
       "        18, 19, 20, 21, 22, 23, 24, 25, 26, 27, 28, 29, 30]),\n",
       " array([ 1,  2,  3,  4,  5,  6,  7,  8,  9, 10, 11, 12, 13, 14, 15, 16, 17,\n",
       "        18, 19, 20, 21, 22, 23, 24, 25, 26, 27, 28, 29, 30]),\n",
       " array([ 1,  2,  3,  4,  5,  6,  7,  8,  9, 10, 11, 12, 13, 14, 15, 16, 17,\n",
       "        18, 19, 20, 21, 22, 23, 24, 25, 26, 27, 28, 29, 30]),\n",
       " array([ 1,  2,  3,  4,  5,  6,  7,  8,  9, 10, 11, 12, 13, 14, 15, 16, 17,\n",
       "        18, 19, 20, 21, 22, 23, 24, 25, 26, 27, 28, 29, 30]),\n",
       " array([ 1,  2,  3,  4,  5,  6,  7,  8,  9, 10, 11, 12, 13, 14, 15, 16, 17,\n",
       "        18, 19, 20, 21, 22, 23, 24, 25, 26, 27, 28, 29, 30]),\n",
       " array([ 1,  2,  3,  4,  5,  6,  7,  8,  9, 10, 11, 12, 13, 14, 15, 16, 17,\n",
       "        18, 19, 20, 21, 22, 23, 24, 25, 26, 27, 28, 29, 30]),\n",
       " array([ 1,  2,  3,  4,  5,  6,  7,  8,  9, 10, 11, 12, 13, 14, 15, 16, 17,\n",
       "        18, 19, 20, 21, 22, 23, 24, 25, 26, 27, 28, 29, 30])]"
      ]
     },
     "execution_count": 195,
     "metadata": {},
     "output_type": "execute_result"
    }
   ],
   "source": [
    "ls = [np.arange(*inp_delay_range) for k in range(inp_num)]\n",
    "# np.array(list(product(ls)))\n",
    "ls"
   ]
  },
  {
   "cell_type": "code",
   "execution_count": 187,
   "id": "740675c7",
   "metadata": {},
   "outputs": [],
   "source": [
    "inp_delays = np.random.randint(*rec_delay_range,(inp_num ,rec_num))\n",
    "rec_delays = np.random.randint(*rec_delay_range,(rec_num+inp_num+inh_num,rec_num+inp_num+inh_num))\n",
    "\n",
    "from itertools import product\n",
    "\n",
    "ls = [np.arange(*inp_delay_range) for k in range(inp_num)]\n",
    "\n",
    "permutations = np.array(list(product(l1, l2)))\n",
    "permutation_samples = permutations.shape[0]\n",
    "\n",
    "\n",
    "\n",
    "all_input_events = np.zeros((permutation_samples, T, inp_num))\n",
    "all_rec_events = np.zeros((permutation_samples, T,rec_num+inh_num))\n",
    "all_inh_events = np.zeros((permutation_samples, T, inh_num))\n",
    "all_events = np.zeros((permutation_samples,T,inp_num+rec_num+inh_num))\n",
    "\n",
    "inp_perms = permutations\n",
    "permutation_samples\n",
    "\n",
    "for i,k in enumerate(inp_perms):\n",
    "    for j in range(k.shape[0]):\n",
    "        all_input_events[i,k[j],j]=inp_weight"
   ]
  },
  {
   "cell_type": "code",
   "execution_count": 188,
   "id": "9ab1ccdf",
   "metadata": {},
   "outputs": [
    {
     "name": "stderr",
     "output_type": "stream",
     "text": [
      "100%|██████████████████████████████████████████████████████████████████████████████████| 30/30 [00:08<00:00,  3.63it/s]\n"
     ]
    }
   ],
   "source": [
    "\n",
    "for l,inp_events in enumerate(tqdm(all_input_events[:30,...])):\n",
    "    rec_events = all_rec_events[l,...]\n",
    "    inh_events = all_inh_events[l,...]\n",
    "    for t in range(0,end_time):\n",
    "        for j in range(rec_num):\n",
    "            I = 0\n",
    "\n",
    "            for i in range(inp_num):\n",
    "                I += inp_events[t-inp_delays[i,j],i]\n",
    "            for i in range(rec_num+inh_num):\n",
    "                if i!=j:\n",
    "                    I += rec_events[t-rec_delays[i,j],i]\n",
    "\n",
    "            if I>=inp_event_thresh:\n",
    "                rec_events[t,j] =1 \n",
    "            else:\n",
    "                rec_events[t,j] =0\n",
    "\n",
    "        for j in range(rec_num,rec_num+inh_num):\n",
    "            I = 0\n",
    "\n",
    "            for i in range(rec_num):\n",
    "                if i!=j:\n",
    "                    I += rec_events[t-rec_delays[i,j],i]\n",
    "\n",
    "\n",
    "            if I>inh_event_thresh:\n",
    "                rec_events[t,j] =-inh_weight\n",
    "            else:\n",
    "                rec_events[t,j] =0\n",
    "    all_events[l,...] = np.concatenate((inp_events,rec_events),axis=1)\n",
    "    all_input_events[l,...] = inp_events\n",
    "    all_rec_events[l,...] = rec_events\n",
    "    all_inh_events[l,...] = inh_events"
   ]
  },
  {
   "cell_type": "code",
   "execution_count": 189,
   "id": "afb484f2",
   "metadata": {},
   "outputs": [
    {
     "data": {
      "text/plain": [
       "(900, 50, 100)"
      ]
     },
     "execution_count": 189,
     "metadata": {},
     "output_type": "execute_result"
    }
   ],
   "source": [
    "all_rec_events.shape"
   ]
  },
  {
   "cell_type": "code",
   "execution_count": 190,
   "id": "f75848f2",
   "metadata": {
    "scrolled": false
   },
   "outputs": [
    {
     "data": {
      "text/plain": [
       "array([5678., 5659., 5658., 5658., 5658., 5658., 5658., 5658., 5658.,\n",
       "       5658., 5658., 5658., 5658., 5658., 5658., 5658., 5658., 5658.,\n",
       "       5658., 5658., 5658., 5658., 5658., 5658., 5658., 5658., 5658.,\n",
       "       5658., 5658., 5658.])"
      ]
     },
     "execution_count": 190,
     "metadata": {},
     "output_type": "execute_result"
    }
   ],
   "source": [
    "np.sum(np.abs(all_rec_events),axis=(1,2))[:30]"
   ]
  },
  {
   "cell_type": "markdown",
   "id": "37bbec29",
   "metadata": {},
   "source": [
    "# First question, what amount of neurons do I need in the reservoir to get X% specificity in the output representation?"
   ]
  },
  {
   "cell_type": "code",
   "execution_count": 191,
   "id": "045f48aa",
   "metadata": {},
   "outputs": [
    {
     "data": {
      "text/plain": [
       "['#1f77b4',\n",
       " '#1f77b4',\n",
       " '#1f77b4',\n",
       " '#1f77b4',\n",
       " '#1f77b4',\n",
       " '#1f77b4',\n",
       " '#1f77b4',\n",
       " '#1f77b4',\n",
       " '#1f77b4',\n",
       " '#1f77b4',\n",
       " '#d62728',\n",
       " '#d62728',\n",
       " '#d62728',\n",
       " '#d62728',\n",
       " '#d62728',\n",
       " '#d62728',\n",
       " '#d62728',\n",
       " '#d62728',\n",
       " '#d62728',\n",
       " '#d62728',\n",
       " '#d62728',\n",
       " '#d62728',\n",
       " '#d62728',\n",
       " '#d62728',\n",
       " '#d62728',\n",
       " '#d62728',\n",
       " '#d62728',\n",
       " '#d62728',\n",
       " '#d62728',\n",
       " '#d62728',\n",
       " '#d62728',\n",
       " '#d62728',\n",
       " '#d62728',\n",
       " '#d62728',\n",
       " '#d62728',\n",
       " '#d62728',\n",
       " '#d62728',\n",
       " '#d62728',\n",
       " '#d62728',\n",
       " '#d62728',\n",
       " '#d62728',\n",
       " '#d62728',\n",
       " '#d62728',\n",
       " '#d62728',\n",
       " '#d62728',\n",
       " '#d62728',\n",
       " '#d62728',\n",
       " '#d62728',\n",
       " '#d62728',\n",
       " '#d62728',\n",
       " '#d62728',\n",
       " '#d62728',\n",
       " '#d62728',\n",
       " '#d62728',\n",
       " '#d62728',\n",
       " '#d62728',\n",
       " '#d62728',\n",
       " '#d62728',\n",
       " '#d62728',\n",
       " '#d62728',\n",
       " '#d62728',\n",
       " '#d62728',\n",
       " '#d62728',\n",
       " '#d62728',\n",
       " '#d62728',\n",
       " '#d62728',\n",
       " '#d62728',\n",
       " '#d62728',\n",
       " '#d62728',\n",
       " '#d62728',\n",
       " '#d62728',\n",
       " '#d62728',\n",
       " '#d62728',\n",
       " '#d62728',\n",
       " '#d62728',\n",
       " '#d62728',\n",
       " '#d62728',\n",
       " '#d62728',\n",
       " '#d62728',\n",
       " '#d62728',\n",
       " '#d62728',\n",
       " '#d62728',\n",
       " '#d62728',\n",
       " '#d62728',\n",
       " '#d62728',\n",
       " '#d62728',\n",
       " '#d62728',\n",
       " '#d62728',\n",
       " '#d62728',\n",
       " '#d62728',\n",
       " '#17becf',\n",
       " '#17becf',\n",
       " '#17becf',\n",
       " '#17becf',\n",
       " '#17becf',\n",
       " '#17becf',\n",
       " '#17becf',\n",
       " '#17becf',\n",
       " '#17becf',\n",
       " '#17becf',\n",
       " '#17becf',\n",
       " '#17becf',\n",
       " '#17becf',\n",
       " '#17becf',\n",
       " '#17becf',\n",
       " '#17becf',\n",
       " '#17becf',\n",
       " '#17becf',\n",
       " '#17becf',\n",
       " '#17becf']"
      ]
     },
     "execution_count": 191,
     "metadata": {},
     "output_type": "execute_result"
    }
   ],
   "source": [
    "colors = ['#1f77b4']*inp_num + ['#d62728']*rec_num + ['#17becf']*inh_num\n",
    "colors"
   ]
  },
  {
   "cell_type": "code",
   "execution_count": 192,
   "id": "c41822bc",
   "metadata": {},
   "outputs": [
    {
     "data": {
      "image/png": "[encoded data removed]",
      "text/plain": [
       "<Figure size 640x480 with 1 Axes>"
      ]
     },
     "metadata": {},
     "output_type": "display_data"
    }
   ],
   "source": [
    "plt.figure()\n",
    "i = 2\n",
    "events = all_events[i,...]\n",
    "palette = [colors[k] for k in np.where(events)[1]]\n",
    "plt.scatter(np.where(events)[0], np.where(events)[1],c=palette)\n",
    "plt.show()"
   ]
  },
  {
   "cell_type": "code",
   "execution_count": null,
   "id": "4e0a5651",
   "metadata": {},
   "outputs": [],
   "source": []
  }
 ],
 "metadata": {
  "kernelspec": {
   "display_name": "Python 3 (ipykernel)",
   "language": "python",
   "name": "python3"
  },
  "language_info": {
   "codemirror_mode": {
    "name": "ipython",
    "version": 3
   },
   "file_extension": ".py",
   "mimetype": "text/x-python",
   "name": "python",
   "nbconvert_exporter": "python",
   "pygments_lexer": "ipython3",
   "version": "3.11.3"
  }
 },
 "nbformat": 4,
 "nbformat_minor": 5
}
