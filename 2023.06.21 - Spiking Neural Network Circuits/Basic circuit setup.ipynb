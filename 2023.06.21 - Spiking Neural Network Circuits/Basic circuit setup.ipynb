{
 "cells": [
  {
   "cell_type": "code",
   "execution_count": 1,
   "id": "1755aa02",
   "metadata": {},
   "outputs": [],
   "source": [
    "import numpy as np\n",
    "import matplotlib.pyplot as plt"
   ]
  },
  {
   "cell_type": "code",
   "execution_count": 90,
   "id": "c7246de7",
   "metadata": {},
   "outputs": [],
   "source": [
    "T=10\n",
    "N_inp = 4\n",
    "layer1 = np.zeros((T-1,N_inp))"
   ]
  },
  {
   "cell_type": "code",
   "execution_count": 160,
   "id": "f2273f13",
   "metadata": {},
   "outputs": [
    {
     "data": {
      "text/plain": [
       "array([[0.5, 0.5, 0. , 0. ],\n",
       "       [0.5, 0. , 0.5, 0. ],\n",
       "       [0. , 0.5, 0. , 0.5],\n",
       "       [0. , 0. , 0.5, 0.5],\n",
       "       [0. , 0. , 0. , 0. ]])"
      ]
     },
     "execution_count": 160,
     "metadata": {},
     "output_type": "execute_result"
    }
   ],
   "source": [
    "layer2_kernel_1 = np.array(([0.5,0.5,0,0]))\n",
    "layer2_kernel_2 = np.array(([0.5,0,0.5,0]))\n",
    "layer2_kernel_3 = np.array(([0,0.5,0,0.5]))\n",
    "layer2_kernel_4 = np.array(([0,0,0.5,0.5]))\n",
    "layer2_kernel_5 = np.zeros((4))\n",
    "layer2_inp_kernels = np.array([layer2_kernel_1,layer2_kernel_2,layer2_kernel_3,layer2_kernel_4,layer2_kernel_5])\n",
    "layer2_inp_kernels"
   ]
  },
  {
   "cell_type": "code",
   "execution_count": 173,
   "id": "f5efbe68",
   "metadata": {},
   "outputs": [
    {
     "name": "stdout",
     "output_type": "stream",
     "text": [
      "0\n",
      "1\n",
      "2\n",
      "3\n",
      "4\n",
      "5\n",
      "6\n",
      "7\n",
      "8\n"
     ]
    }
   ],
   "source": [
    "layer2_rec_kernels = np.array([[0  ,0  ,0.5,0.5,0  ],\n",
    "                               [0.5,0  ,0  ,0  ,0.5],\n",
    "                               [0.5,0.5,0  ,0.5,0  ],\n",
    "                               [0.5,0.5,0  ,0  ,0.5],\n",
    "                               [0  ,0.5,0.5,0.5,0  ]])\n",
    "layer2_out = np.zeros((layer1.shape[0]+1,layer2_rec_kernels.shape[0]))\n",
    "pattern = [1,1,1,0]\n",
    "layer1[0]=pattern\n",
    "layer1\n",
    "for t in range(layer1.shape[0]):\n",
    "    print(t)\n",
    "    current_inp = layer1[t]\n",
    "    current_rec = layer2_out[t]\n",
    "    layer2_out[t+1] = np.sum(layer2_inp_kernels*current_inp,axis=1)  + np.sum(layer2_rec_kernels*layer2_out[t],axis=1)\n",
    "    layer2_out[layer2_out < 1] =0\n",
    "    layer2_out[layer2_out>1] =1\n",
    "# layer2_out = np.concatenate(([[0,0,0,0]],layer2_out[:-1]))"
   ]
  },
  {
   "cell_type": "code",
   "execution_count": 174,
   "id": "ae5bc881",
   "metadata": {},
   "outputs": [
    {
     "data": {
      "text/plain": [
       "array([[0., 0., 0., 0., 0.],\n",
       "       [1., 1., 0., 0., 0.],\n",
       "       [0., 0., 1., 1., 0.],\n",
       "       [1., 0., 0., 0., 1.],\n",
       "       [0., 1., 0., 1., 0.],\n",
       "       [0., 0., 1., 0., 1.],\n",
       "       [0., 0., 0., 0., 0.],\n",
       "       [0., 0., 0., 0., 0.],\n",
       "       [0., 0., 0., 0., 0.],\n",
       "       [0., 0., 0., 0., 0.]])"
      ]
     },
     "execution_count": 174,
     "metadata": {},
     "output_type": "execute_result"
    }
   ],
   "source": [
    "layer2_out"
   ]
  },
  {
   "cell_type": "code",
   "execution_count": 168,
   "id": "0ef94b2c",
   "metadata": {},
   "outputs": [
    {
     "ename": "ValueError",
     "evalue": "operands could not be broadcast together with shapes (5,) (4,) ",
     "output_type": "error",
     "traceback": [
      "\u001b[1;31m---------------------------------------------------------------------------\u001b[0m",
      "\u001b[1;31mValueError\u001b[0m                                Traceback (most recent call last)",
      "Cell \u001b[1;32mIn[168], line 13\u001b[0m\n\u001b[0;32m     11\u001b[0m     current_inp \u001b[38;5;241m=\u001b[39m layer1[t]\n\u001b[0;32m     12\u001b[0m     current_rec \u001b[38;5;241m=\u001b[39m layer2_out[t]\n\u001b[1;32m---> 13\u001b[0m     layer2_out[t\u001b[38;5;241m+\u001b[39m\u001b[38;5;241m1\u001b[39m] \u001b[38;5;241m=\u001b[39m np\u001b[38;5;241m.\u001b[39msum(layer2_inp_kernels\u001b[38;5;241m*\u001b[39mcurrent_inp,axis\u001b[38;5;241m=\u001b[39m\u001b[38;5;241m1\u001b[39m)  \u001b[38;5;241m+\u001b[39m np\u001b[38;5;241m.\u001b[39msum(layer2_rec_kernels\u001b[38;5;241m*\u001b[39mlayer2_out[t],axis\u001b[38;5;241m=\u001b[39m\u001b[38;5;241m1\u001b[39m)\n\u001b[0;32m     14\u001b[0m \u001b[38;5;66;03m#     layer2_out[layer2_out < 1] =0\u001b[39;00m\n\u001b[0;32m     15\u001b[0m \u001b[38;5;66;03m#     layer2_out[layer2_out>1] =1\u001b[39;00m\n\u001b[0;32m     16\u001b[0m \u001b[38;5;66;03m# layer2_out = np.concatenate(([[0,0,0,0]],layer2_out[:-1]))\u001b[39;00m\n\u001b[0;32m     17\u001b[0m layer2_out\n",
      "\u001b[1;31mValueError\u001b[0m: operands could not be broadcast together with shapes (5,) (4,) "
     ]
    }
   ],
   "source": [
    "layer2_rec_kernels = np.array([[0,0,0,0.4],\n",
    "                              [0.4,0,0,0.5],\n",
    "                              [0.5,0.5,0,0],\n",
    "                              [0.5,0.5,0,0]])\n",
    "layer2_out = np.zeros((layer1.shape[0]+1,layer1.shape[1]))\n",
    "pattern1 = [1,1,1,0]\n",
    "pattern2 = [0,0,0,1]\n",
    "layer1[0]=pattern1\n",
    "layer1[1]=pattern2\n",
    "for t in range(layer1.shape[0]):\n",
    "    current_inp = layer1[t]\n",
    "    current_rec = layer2_out[t]\n",
    "    layer2_out[t+1] = np.sum(layer2_inp_kernels*current_inp,axis=1)  + np.sum(layer2_rec_kernels*layer2_out[t],axis=1)\n",
    "#     layer2_out[layer2_out < 1] =0\n",
    "#     layer2_out[layer2_out>1] =1\n",
    "# layer2_out = np.concatenate(([[0,0,0,0]],layer2_out[:-1]))\n",
    "layer2_out"
   ]
  },
  {
   "cell_type": "code",
   "execution_count": null,
   "id": "12aaaf62",
   "metadata": {},
   "outputs": [],
   "source": []
  }
 ],
 "metadata": {
  "kernelspec": {
   "display_name": "Python 3 (ipykernel)",
   "language": "python",
   "name": "python3"
  },
  "language_info": {
   "codemirror_mode": {
    "name": "ipython",
    "version": 3
   },
   "file_extension": ".py",
   "mimetype": "text/x-python",
   "name": "python",
   "nbconvert_exporter": "python",
   "pygments_lexer": "ipython3",
   "version": "3.11.3"
  }
 },
 "nbformat": 4,
 "nbformat_minor": 5
}
