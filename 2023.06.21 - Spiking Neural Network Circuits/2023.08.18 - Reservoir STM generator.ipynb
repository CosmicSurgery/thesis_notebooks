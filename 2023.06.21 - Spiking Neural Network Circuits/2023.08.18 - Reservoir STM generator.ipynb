{
 "cells": [
  {
   "cell_type": "code",
   "execution_count": 68,
   "id": "00036724",
   "metadata": {},
   "outputs": [],
   "source": [
    "import numpy as np\n",
    "import sys\n",
    "import matplotlib.pyplot as plt\n",
    "from tqdm import tqdm\n",
    "import random\n",
    "import pandas as pd\n",
    "\n",
    "from scipy.ndimage import gaussian_filter1d"
   ]
  },
  {
   "cell_type": "code",
   "execution_count": 310,
   "id": "1c8d2c72",
   "metadata": {},
   "outputs": [],
   "source": [
    "T = 50 # miliseconds of simulation time\n",
    "start_time=10\n",
    "end_time=50\n",
    "inp_num = 20\n",
    "rec_num = 5500\n",
    "inh_num = 1500\n",
    "nrns = np.array((inp_num*[0]+rec_num*[1]+inh_num*[2]))\n",
    "\n",
    "inh_duration = 1\n",
    "delay_range=(3,5)\n",
    "inp_event_max=20\n",
    "combination_samples=1\n",
    "\n",
    "params = {\n",
    "    'T' : T, # miliseconds of simulation time\n",
    "    'start_time':start_time,\n",
    "    'end_time':end_time,\n",
    "    'inp_num' : inp_num,\n",
    "    'rec_num' : rec_num,\n",
    "    'inh_num' : inh_num,\n",
    "    'inh_duration' : inh_duration,\n",
    "    'delay_range':delay_range,\n",
    "    'inp_event_max':inp_event_max,\n",
    "    'combination_samples':combination_samples\n",
    "}"
   ]
  },
  {
   "cell_type": "code",
   "execution_count": 311,
   "id": "5392e12e",
   "metadata": {},
   "outputs": [
    {
     "data": {
      "text/plain": [
       "((7020, 7020), (20, 5500))"
      ]
     },
     "execution_count": 311,
     "metadata": {},
     "output_type": "execute_result"
    }
   ],
   "source": [
    "inp_delays = np.random.randint(*delay_range,(inp_num ,rec_num))\n",
    "rec_delays = np.random.randint(*delay_range,(rec_num+inp_num+inh_num,rec_num+inp_num+inh_num))\n",
    "rec_delays.shape, inp_delays.shape"
   ]
  },
  {
   "cell_type": "code",
   "execution_count": 312,
   "id": "f7f9e5fd",
   "metadata": {},
   "outputs": [],
   "source": [
    "def calc_reps(T, start_time, end_time, inp_num, rec_num, inh_num, inh_duration, delay_range, inp_event_max, combination_samples):\n",
    "    \n",
    "    inp_delays = np.random.randint(*delay_range,(inp_num ,rec_num))\n",
    "    rec_delays = np.random.randint(*delay_range,(rec_num+inh_num,rec_num+inh_num))\n",
    "    \n",
    "    all_input_events = np.zeros((combination_samples, T, inp_num))\n",
    "    all_rec_events = np.zeros((combination_samples, T,rec_num+inh_num))\n",
    "    all_events = np.zeros((combination_samples,T,inp_num+rec_num+inh_num))\n",
    "    \n",
    "    \n",
    "    inp_combs = np.random.randint(*delay_range,size=(combination_samples,20)) \n",
    "\n",
    "\n",
    "    for i,k in enumerate(inp_combs):\n",
    "        for a,b in zip(k,np.arange(0,20)):\n",
    "            all_input_events[i,a,b]=1\n",
    "\n",
    "            \n",
    "    # all_input_events[-1,:,:]\n",
    "    idc=0\n",
    "    for l,inp_events in enumerate(tqdm(all_input_events)):\n",
    "        rec_events = all_rec_events[l]\n",
    "        for t in tqdm(range(start_time,end_time)):\n",
    "            for j in range(rec_num):\n",
    "                I = 0\n",
    "\n",
    "                for i in range(inp_num):\n",
    "                    I += inp_events[t-inp_delays[i,j],i]\n",
    "                for i in range(rec_num+inh_num):\n",
    "                    if i!=j:\n",
    "                        I += rec_events[t-rec_delays[i,j],i]\n",
    "\n",
    "                if I>=20:\n",
    "                    rec_events[t,j] =1 \n",
    "                else:\n",
    "                    rec_events[t,j] =0\n",
    "\n",
    "            for j in range(rec_num,rec_num+inh_num):\n",
    "                I = 0\n",
    "\n",
    "                for i in range(rec_num):\n",
    "                    if i!=j:\n",
    "                        I += rec_events[t-rec_delays[i,j],i]\n",
    "\n",
    "\n",
    "                if I>1:\n",
    "                    rec_events[t,j] =-1\n",
    "                else:\n",
    "                    rec_events[t,j] =0\n",
    "                    \n",
    "            if t >= start_time+max(delay_range) and np.sum(rec_events) == 0:\n",
    "                break\n",
    "\n",
    "   \n",
    "\n",
    "    return all_rec_events\n",
    "    "
   ]
  },
  {
   "cell_type": "code",
   "execution_count": 313,
   "id": "89838aff",
   "metadata": {},
   "outputs": [],
   "source": [
    "# all_rec_events =  np.zeros((combination_samples, T,rec_num))\n"
   ]
  },
  {
   "cell_type": "code",
   "execution_count": 314,
   "id": "3adc66ab",
   "metadata": {},
   "outputs": [],
   "source": [
    "# all_events = calc_reps(**params)\n"
   ]
  },
  {
   "cell_type": "code",
   "execution_count": 317,
   "id": "64ac1e48",
   "metadata": {},
   "outputs": [],
   "source": [
    "import numpy as np\n",
    "from tqdm import tqdm\n",
    "\n",
    "def calc_reps_optimized(T, start_time, end_time, inp_num, rec_num, inh_num, inh_duration, delay_range, inp_event_max, combination_samples):\n",
    "    inp_delays = np.random.randint(*delay_range, (inp_num, rec_num))\n",
    "    rec_delays = np.random.randint(*delay_range, (rec_num + inh_num, rec_num + inh_num))\n",
    "\n",
    "    all_input_events = np.zeros((combination_samples, T, inp_num))\n",
    "    all_rec_events = np.zeros((combination_samples, T, rec_num + inh_num))\n",
    "\n",
    "    inp_combs = np.random.randint(*delay_range, size=(combination_samples, inp_num))\n",
    "\n",
    "    for i, k in enumerate(inp_combs):\n",
    "        all_input_events[i, k, np.arange(0, inp_num)] = 1\n",
    "\n",
    "    for l, inp_events in enumerate(tqdm(all_input_events)):\n",
    "        rec_events = all_rec_events[l]\n",
    "        for t in tqdm(range(start_time, end_time)):\n",
    "            inp_indices = np.arange(inp_num)\n",
    "            rec_indices = np.arange(rec_num)\n",
    "            inh_indices = np.arange(rec_num, rec_num + inh_num)\n",
    "\n",
    "            inp_contributions = np.sum(inp_events[t - inp_delays[:, rec_indices], inp_indices[:, None]], axis=0)\n",
    "            rec_contributions = np.sum(rec_events[t - rec_delays[rec_indices, rec_indices[:, None]], rec_indices[:, None]], axis=1)\n",
    "            inh_contributions = np.sum(rec_events[t - rec_delays[rec_and_inh_indices, inh_indices[:, None]], inh_indices[:, None]], axis=1)\n",
    "\n",
    "            rec_events[t, rec_indices] = (inp_contributions >= 20).astype(int)\n",
    "            rec_events[t, inh_indices] = np.where(inh_contributions > 1, -1, 0)\n",
    "\n",
    "            if t >= start_time + max(delay_range) and np.sum(rec_events) == 0:\n",
    "                break\n",
    "\n",
    "    return all_input_events, all_rec_events\n"
   ]
  },
  {
   "cell_type": "code",
   "execution_count": 318,
   "id": "5565742b",
   "metadata": {},
   "outputs": [
    {
     "name": "stderr",
     "output_type": "stream",
     "text": [
      "  0%|                                                                                            | 0/1 [00:00<?, ?it/s]\n",
      "  0%|                                                                                           | 0/40 [00:00<?, ?it/s]\u001b[A\n",
      "  2%|██                                                                                 | 1/40 [00:00<00:21,  1.83it/s]\u001b[A\n",
      "  5%|████▏                                                                              | 2/40 [00:01<00:21,  1.74it/s]\u001b[A\n",
      "  8%|██████▏                                                                            | 3/40 [00:01<00:21,  1.71it/s]\u001b[A\n",
      " 10%|████████▎                                                                          | 4/40 [00:02<00:20,  1.72it/s]\u001b[A\n",
      " 12%|██████████▍                                                                        | 5/40 [00:03<00:24,  1.42it/s]\u001b[A\n",
      "100%|████████████████████████████████████████████████████████████████████████████████████| 1/1 [00:03<00:00,  3.52s/it]\n"
     ]
    }
   ],
   "source": [
    "all_input_events, all_events = calc_reps_optimized(**params)\n"
   ]
  },
  {
   "cell_type": "code",
   "execution_count": 306,
   "id": "d62734df",
   "metadata": {},
   "outputs": [
    {
     "data": {
      "image/png": "[encoded data removed]",
      "text/plain": [
       "<Figure size 640x480 with 1 Axes>"
      ]
     },
     "metadata": {},
     "output_type": "display_data"
    }
   ],
   "source": [
    "plt.figure()\n",
    "plt.scatter(np.where(all_events[0])[0],np.where(all_events[0])[1])\n",
    "plt.show()"
   ]
  },
  {
   "cell_type": "code",
   "execution_count": 309,
   "id": "dd32cc8f",
   "metadata": {},
   "outputs": [
    {
     "data": {
      "text/plain": [
       "(0.0, 20.0)"
      ]
     },
     "execution_count": 309,
     "metadata": {},
     "output_type": "execute_result"
    }
   ],
   "source": [
    "np.sum(all_events), np.sum(all_input_events)"
   ]
  },
  {
   "cell_type": "code",
   "execution_count": 331,
   "id": "ccde02d5",
   "metadata": {},
   "outputs": [
    {
     "name": "stderr",
     "output_type": "stream",
     "text": [
      "  0%|                                                                                            | 0/1 [00:00<?, ?it/s]\n",
      "  0%|                                                                                           | 0/40 [00:00<?, ?it/s]\u001b[A\n",
      "  0%|                                                                                            | 0/1 [00:00<?, ?it/s]\n"
     ]
    },
    {
     "ename": "ValueError",
     "evalue": "shape mismatch: value array of shape (20,) could not be broadcast to indexing result of shape (5500,)",
     "output_type": "error",
     "traceback": [
      "\u001b[1;31m---------------------------------------------------------------------------\u001b[0m",
      "\u001b[1;31mValueError\u001b[0m                                Traceback (most recent call last)",
      "Cell \u001b[1;32mIn[331], line 23\u001b[0m\n\u001b[0;32m     20\u001b[0m rec_contributions \u001b[38;5;241m=\u001b[39m np\u001b[38;5;241m.\u001b[39msum(rec_events[t \u001b[38;5;241m-\u001b[39m rec_delays[rec_indices, rec_indices[:, \u001b[38;5;28;01mNone\u001b[39;00m]], rec_indices[:, \u001b[38;5;28;01mNone\u001b[39;00m]], axis\u001b[38;5;241m=\u001b[39m\u001b[38;5;241m1\u001b[39m)\n\u001b[0;32m     21\u001b[0m inh_contributions \u001b[38;5;241m=\u001b[39m np\u001b[38;5;241m.\u001b[39msum(rec_events[t \u001b[38;5;241m-\u001b[39m rec_delays[rec_and_inh_indices, inh_indices[:, \u001b[38;5;28;01mNone\u001b[39;00m]], inh_indices[:, \u001b[38;5;28;01mNone\u001b[39;00m]], axis\u001b[38;5;241m=\u001b[39m\u001b[38;5;241m1\u001b[39m)\n\u001b[1;32m---> 23\u001b[0m rec_events[t, rec_indices] \u001b[38;5;241m=\u001b[39m (inp_contributions \u001b[38;5;241m>\u001b[39m\u001b[38;5;241m=\u001b[39m \u001b[38;5;241m2\u001b[39m)\u001b[38;5;241m.\u001b[39mastype(\u001b[38;5;28mint\u001b[39m)\n\u001b[0;32m     24\u001b[0m rec_events[t, inh_indices] \u001b[38;5;241m=\u001b[39m np\u001b[38;5;241m.\u001b[39mwhere(inh_contributions \u001b[38;5;241m>\u001b[39m \u001b[38;5;241m1\u001b[39m, \u001b[38;5;241m-\u001b[39m\u001b[38;5;241m1\u001b[39m, \u001b[38;5;241m0\u001b[39m)\n\u001b[0;32m     26\u001b[0m \u001b[38;5;28;01mif\u001b[39;00m t \u001b[38;5;241m>\u001b[39m\u001b[38;5;241m=\u001b[39m start_time \u001b[38;5;241m+\u001b[39m \u001b[38;5;28mmax\u001b[39m(delay_range) \u001b[38;5;129;01mand\u001b[39;00m np\u001b[38;5;241m.\u001b[39msum(rec_events) \u001b[38;5;241m==\u001b[39m \u001b[38;5;241m0\u001b[39m:\n",
      "\u001b[1;31mValueError\u001b[0m: shape mismatch: value array of shape (20,) could not be broadcast to indexing result of shape (5500,)"
     ]
    }
   ],
   "source": [
    "inp_delays = np.random.randint(*delay_range, (inp_num, rec_num))\n",
    "rec_delays = np.random.randint(*delay_range, (rec_num + inh_num, rec_num + inh_num))\n",
    "\n",
    "all_input_events = np.zeros((combination_samples, T, inp_num))\n",
    "all_rec_events = np.zeros((combination_samples, T, rec_num + inh_num))\n",
    "\n",
    "inp_combs = np.random.randint(*delay_range, size=(combination_samples, inp_num))\n",
    "\n",
    "for i, k in enumerate(inp_combs):\n",
    "    all_input_events[i, k, np.arange(0, inp_num)] = 1\n",
    "\n",
    "for l, inp_events in enumerate(tqdm(all_input_events)):\n",
    "    rec_events = all_rec_events[l]\n",
    "    for t in tqdm(range(start_time, end_time)):\n",
    "        inp_indices = np.arange(inp_num)\n",
    "        rec_indices = np.arange(rec_num)\n",
    "        inh_indices = np.arange(rec_num, rec_num + inh_num)\n",
    "\n",
    "        inp_contributions = np.sum(inp_events[t - inp_delays[:, rec_indices], inp_indices[:, None]], axis=0)\n",
    "        rec_contributions = np.sum(rec_events[t - rec_delays[rec_indices, rec_indices[:, None]], rec_indices[:, None]], axis=1)\n",
    "        inh_contributions = np.sum(rec_events[t - rec_delays[rec_and_inh_indices, inh_indices[:, None]], inh_indices[:, None]], axis=1)\n",
    "\n",
    "        rec_events[t, rec_indices] = (inp_contributions >= 2).astype(int)\n",
    "        rec_events[t, inh_indices] = np.where(inh_contributions > 1, -1, 0)\n",
    "\n",
    "        if t >= start_time + max(delay_range) and np.sum(rec_events) == 0:\n",
    "            break"
   ]
  },
  {
   "cell_type": "code",
   "execution_count": 340,
   "id": "e934fabc",
   "metadata": {},
   "outputs": [
    {
     "data": {
      "text/plain": [
       "851.0365821339855"
      ]
     },
     "execution_count": 340,
     "metadata": {},
     "output_type": "execute_result"
    }
   ],
   "source": [
    "7000 * 0.9**20"
   ]
  },
  {
   "cell_type": "code",
   "execution_count": 337,
   "id": "da2c3e1a",
   "metadata": {},
   "outputs": [
    {
     "data": {
      "text/plain": [
       "array([[[0., 0., 0., 0., 0., 0., 0., 0., 0., 0., 0., 0., 0., 0., 0., 0.,\n",
       "         0., 0., 0., 0.],\n",
       "        [0., 0., 0., 0., 0., 0., 0., 0., 0., 0., 0., 0., 0., 0., 0., 0.,\n",
       "         0., 0., 0., 0.],\n",
       "        [0., 0., 0., 0., 0., 0., 0., 0., 0., 0., 0., 0., 0., 0., 0., 0.,\n",
       "         0., 0., 0., 0.],\n",
       "        [1., 0., 0., 0., 1., 1., 0., 0., 0., 1., 1., 0., 0., 1., 1., 0.,\n",
       "         0., 0., 0., 0.],\n",
       "        [0., 1., 1., 1., 0., 0., 1., 1., 1., 0., 0., 1., 1., 0., 0., 1.,\n",
       "         1., 1., 1., 1.],\n",
       "        [0., 0., 0., 0., 0., 0., 0., 0., 0., 0., 0., 0., 0., 0., 0., 0.,\n",
       "         0., 0., 0., 0.],\n",
       "        [0., 0., 0., 0., 0., 0., 0., 0., 0., 0., 0., 0., 0., 0., 0., 0.,\n",
       "         0., 0., 0., 0.],\n",
       "        [0., 0., 0., 0., 0., 0., 0., 0., 0., 0., 0., 0., 0., 0., 0., 0.,\n",
       "         0., 0., 0., 0.],\n",
       "        [0., 0., 0., 0., 0., 0., 0., 0., 0., 0., 0., 0., 0., 0., 0., 0.,\n",
       "         0., 0., 0., 0.],\n",
       "        [0., 0., 0., 0., 0., 0., 0., 0., 0., 0., 0., 0., 0., 0., 0., 0.,\n",
       "         0., 0., 0., 0.],\n",
       "        [0., 0., 0., 0., 0., 0., 0., 0., 0., 0., 0., 0., 0., 0., 0., 0.,\n",
       "         0., 0., 0., 0.],\n",
       "        [0., 0., 0., 0., 0., 0., 0., 0., 0., 0., 0., 0., 0., 0., 0., 0.,\n",
       "         0., 0., 0., 0.],\n",
       "        [0., 0., 0., 0., 0., 0., 0., 0., 0., 0., 0., 0., 0., 0., 0., 0.,\n",
       "         0., 0., 0., 0.],\n",
       "        [0., 0., 0., 0., 0., 0., 0., 0., 0., 0., 0., 0., 0., 0., 0., 0.,\n",
       "         0., 0., 0., 0.],\n",
       "        [0., 0., 0., 0., 0., 0., 0., 0., 0., 0., 0., 0., 0., 0., 0., 0.,\n",
       "         0., 0., 0., 0.],\n",
       "        [0., 0., 0., 0., 0., 0., 0., 0., 0., 0., 0., 0., 0., 0., 0., 0.,\n",
       "         0., 0., 0., 0.],\n",
       "        [0., 0., 0., 0., 0., 0., 0., 0., 0., 0., 0., 0., 0., 0., 0., 0.,\n",
       "         0., 0., 0., 0.],\n",
       "        [0., 0., 0., 0., 0., 0., 0., 0., 0., 0., 0., 0., 0., 0., 0., 0.,\n",
       "         0., 0., 0., 0.],\n",
       "        [0., 0., 0., 0., 0., 0., 0., 0., 0., 0., 0., 0., 0., 0., 0., 0.,\n",
       "         0., 0., 0., 0.],\n",
       "        [0., 0., 0., 0., 0., 0., 0., 0., 0., 0., 0., 0., 0., 0., 0., 0.,\n",
       "         0., 0., 0., 0.],\n",
       "        [0., 0., 0., 0., 0., 0., 0., 0., 0., 0., 0., 0., 0., 0., 0., 0.,\n",
       "         0., 0., 0., 0.],\n",
       "        [0., 0., 0., 0., 0., 0., 0., 0., 0., 0., 0., 0., 0., 0., 0., 0.,\n",
       "         0., 0., 0., 0.],\n",
       "        [0., 0., 0., 0., 0., 0., 0., 0., 0., 0., 0., 0., 0., 0., 0., 0.,\n",
       "         0., 0., 0., 0.],\n",
       "        [0., 0., 0., 0., 0., 0., 0., 0., 0., 0., 0., 0., 0., 0., 0., 0.,\n",
       "         0., 0., 0., 0.],\n",
       "        [0., 0., 0., 0., 0., 0., 0., 0., 0., 0., 0., 0., 0., 0., 0., 0.,\n",
       "         0., 0., 0., 0.],\n",
       "        [0., 0., 0., 0., 0., 0., 0., 0., 0., 0., 0., 0., 0., 0., 0., 0.,\n",
       "         0., 0., 0., 0.],\n",
       "        [0., 0., 0., 0., 0., 0., 0., 0., 0., 0., 0., 0., 0., 0., 0., 0.,\n",
       "         0., 0., 0., 0.],\n",
       "        [0., 0., 0., 0., 0., 0., 0., 0., 0., 0., 0., 0., 0., 0., 0., 0.,\n",
       "         0., 0., 0., 0.],\n",
       "        [0., 0., 0., 0., 0., 0., 0., 0., 0., 0., 0., 0., 0., 0., 0., 0.,\n",
       "         0., 0., 0., 0.],\n",
       "        [0., 0., 0., 0., 0., 0., 0., 0., 0., 0., 0., 0., 0., 0., 0., 0.,\n",
       "         0., 0., 0., 0.],\n",
       "        [0., 0., 0., 0., 0., 0., 0., 0., 0., 0., 0., 0., 0., 0., 0., 0.,\n",
       "         0., 0., 0., 0.],\n",
       "        [0., 0., 0., 0., 0., 0., 0., 0., 0., 0., 0., 0., 0., 0., 0., 0.,\n",
       "         0., 0., 0., 0.],\n",
       "        [0., 0., 0., 0., 0., 0., 0., 0., 0., 0., 0., 0., 0., 0., 0., 0.,\n",
       "         0., 0., 0., 0.],\n",
       "        [0., 0., 0., 0., 0., 0., 0., 0., 0., 0., 0., 0., 0., 0., 0., 0.,\n",
       "         0., 0., 0., 0.],\n",
       "        [0., 0., 0., 0., 0., 0., 0., 0., 0., 0., 0., 0., 0., 0., 0., 0.,\n",
       "         0., 0., 0., 0.],\n",
       "        [0., 0., 0., 0., 0., 0., 0., 0., 0., 0., 0., 0., 0., 0., 0., 0.,\n",
       "         0., 0., 0., 0.],\n",
       "        [0., 0., 0., 0., 0., 0., 0., 0., 0., 0., 0., 0., 0., 0., 0., 0.,\n",
       "         0., 0., 0., 0.],\n",
       "        [0., 0., 0., 0., 0., 0., 0., 0., 0., 0., 0., 0., 0., 0., 0., 0.,\n",
       "         0., 0., 0., 0.],\n",
       "        [0., 0., 0., 0., 0., 0., 0., 0., 0., 0., 0., 0., 0., 0., 0., 0.,\n",
       "         0., 0., 0., 0.],\n",
       "        [0., 0., 0., 0., 0., 0., 0., 0., 0., 0., 0., 0., 0., 0., 0., 0.,\n",
       "         0., 0., 0., 0.],\n",
       "        [0., 0., 0., 0., 0., 0., 0., 0., 0., 0., 0., 0., 0., 0., 0., 0.,\n",
       "         0., 0., 0., 0.],\n",
       "        [0., 0., 0., 0., 0., 0., 0., 0., 0., 0., 0., 0., 0., 0., 0., 0.,\n",
       "         0., 0., 0., 0.],\n",
       "        [0., 0., 0., 0., 0., 0., 0., 0., 0., 0., 0., 0., 0., 0., 0., 0.,\n",
       "         0., 0., 0., 0.],\n",
       "        [0., 0., 0., 0., 0., 0., 0., 0., 0., 0., 0., 0., 0., 0., 0., 0.,\n",
       "         0., 0., 0., 0.],\n",
       "        [0., 0., 0., 0., 0., 0., 0., 0., 0., 0., 0., 0., 0., 0., 0., 0.,\n",
       "         0., 0., 0., 0.],\n",
       "        [0., 0., 0., 0., 0., 0., 0., 0., 0., 0., 0., 0., 0., 0., 0., 0.,\n",
       "         0., 0., 0., 0.],\n",
       "        [0., 0., 0., 0., 0., 0., 0., 0., 0., 0., 0., 0., 0., 0., 0., 0.,\n",
       "         0., 0., 0., 0.],\n",
       "        [0., 0., 0., 0., 0., 0., 0., 0., 0., 0., 0., 0., 0., 0., 0., 0.,\n",
       "         0., 0., 0., 0.],\n",
       "        [0., 0., 0., 0., 0., 0., 0., 0., 0., 0., 0., 0., 0., 0., 0., 0.,\n",
       "         0., 0., 0., 0.],\n",
       "        [0., 0., 0., 0., 0., 0., 0., 0., 0., 0., 0., 0., 0., 0., 0., 0.,\n",
       "         0., 0., 0., 0.]]])"
      ]
     },
     "execution_count": 337,
     "metadata": {},
     "output_type": "execute_result"
    }
   ],
   "source": [
    "all_input_events"
   ]
  },
  {
   "cell_type": "code",
   "execution_count": 333,
   "id": "1a92cd3d",
   "metadata": {},
   "outputs": [
    {
     "data": {
      "text/plain": [
       "(5500,)"
      ]
     },
     "execution_count": 333,
     "metadata": {},
     "output_type": "execute_result"
    }
   ],
   "source": [
    "np.sum(inp_events[t - inp_delays[:, rec_indices], inp_indices[:, None]], axis=0).shape"
   ]
  },
  {
   "cell_type": "code",
   "execution_count": 332,
   "id": "23899ecc",
   "metadata": {},
   "outputs": [
    {
     "data": {
      "text/plain": [
       "(20, 5500)"
      ]
     },
     "execution_count": 332,
     "metadata": {},
     "output_type": "execute_result"
    }
   ],
   "source": [
    "inp_events[t - inp_delays[:, rec_indices], inp_indices[:, None]].shape"
   ]
  },
  {
   "cell_type": "code",
   "execution_count": 330,
   "id": "94fed4f0",
   "metadata": {},
   "outputs": [
    {
     "data": {
      "text/plain": [
       "(5500,)"
      ]
     },
     "execution_count": 330,
     "metadata": {},
     "output_type": "execute_result"
    }
   ],
   "source": [
    "np.sum(inp_events[t - inp_delays[:, rec_indices], inp_indices[:, None]], axis=1).shape\n",
    "np.sum(rec_events[t - rec_delays[rec_indices, rec_indices[:, None]], rec_indices[:, None]], axis=1).shape"
   ]
  },
  {
   "cell_type": "code",
   "execution_count": 320,
   "id": "30e4f9df",
   "metadata": {},
   "outputs": [
    {
     "data": {
      "image/png": "[encoded data removed]",
      "text/plain": [
       "<Figure size 640x480 with 1 Axes>"
      ]
     },
     "metadata": {},
     "output_type": "display_data"
    }
   ],
   "source": [
    "plt.figure()\n",
    "plt.scatter(np.where(inp_events)[0],np.where(inp_events)[1])\n",
    "plt.show()"
   ]
  },
  {
   "cell_type": "code",
   "execution_count": 323,
   "id": "9488ce74",
   "metadata": {},
   "outputs": [
    {
     "data": {
      "text/plain": [
       "array([[4, 4, 3, ..., 3, 4, 3],\n",
       "       [4, 3, 3, ..., 3, 3, 4],\n",
       "       [3, 3, 4, ..., 3, 4, 3],\n",
       "       ...,\n",
       "       [3, 4, 3, ..., 3, 4, 4],\n",
       "       [3, 4, 3, ..., 3, 4, 3],\n",
       "       [3, 3, 3, ..., 4, 4, 4]])"
      ]
     },
     "execution_count": 323,
     "metadata": {},
     "output_type": "execute_result"
    }
   ],
   "source": [
    "inp_delays"
   ]
  }
 ],
 "metadata": {
  "kernelspec": {
   "display_name": "Python 3 (ipykernel)",
   "language": "python",
   "name": "python3"
  },
  "language_info": {
   "codemirror_mode": {
    "name": "ipython",
    "version": 3
   },
   "file_extension": ".py",
   "mimetype": "text/x-python",
   "name": "python",
   "nbconvert_exporter": "python",
   "pygments_lexer": "ipython3",
   "version": "3.11.3"
  }
 },
 "nbformat": 4,
 "nbformat_minor": 5
}
