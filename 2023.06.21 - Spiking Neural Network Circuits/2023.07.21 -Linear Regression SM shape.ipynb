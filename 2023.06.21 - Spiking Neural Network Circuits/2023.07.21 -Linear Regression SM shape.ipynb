{
 "cells": [
  {
   "cell_type": "code",
   "execution_count": 15,
   "id": "9572f4bf",
   "metadata": {},
   "outputs": [],
   "source": [
    "import numpy as np\n",
    "import sys\n",
    "import matplotlib.pyplot as plt\n",
    "from tqdm import tqdm\n",
    "\n",
    "from scipy.ndimage import gaussian_filter1d"
   ]
  },
  {
   "cell_type": "code",
   "execution_count": 16,
   "id": "43e2e9cd",
   "metadata": {},
   "outputs": [],
   "source": [
    "np.random.seed(5)\n",
    "np.set_printoptions(threshold=sys.maxsize)"
   ]
  },
  {
   "cell_type": "code",
   "execution_count": 17,
   "id": "841e6c9a",
   "metadata": {},
   "outputs": [
    {
     "data": {
      "text/plain": [
       "[1, 2]"
      ]
     },
     "execution_count": 17,
     "metadata": {},
     "output_type": "execute_result"
    }
   ],
   "source": [
    "x = [1,2,3,4,5]\n",
    "y = slice(0,2)\n",
    "x[y]"
   ]
  },
  {
   "cell_type": "code",
   "execution_count": 26,
   "id": "8355c9c1",
   "metadata": {},
   "outputs": [],
   "source": [
    "def calc_reps(T, start_time, end_time, inp_num, rec_num, inh_num, inh_duration, inp_delay_range, rec_delay_range,V_th):\n",
    "    \n",
    "    \n",
    "    inp_event_max = inp_delay_range[1]-inp_delay_range[0]\n",
    "\n",
    "    inp_delays = np.random.randint(*inp_delay_range,(inp_num ,rec_num))\n",
    "    rec_delays = np.random.randint(*rec_delay_range,(rec_num+inp_num+inh_num,rec_num+inp_num+inh_num))\n",
    "    inp_delays.shape,rec_delays.shape\n",
    "    \n",
    "    all_input_events = np.zeros((inp_event_max**inp_num, T, inp_num))\n",
    "    all_rec_events = np.zeros((inp_event_max**inp_num, T,rec_num))\n",
    "    all_events = np.zeros((inp_event_max**inp_num,T,inp_num+rec_num+inh_num))\n",
    "    \n",
    "\n",
    "    idc = 0\n",
    "    for i in range(inp_event_max):\n",
    "        for j in range(inp_event_max):\n",
    "            all_input_events[idc,j+start_time,slice(0,inp_num)] = 1\n",
    "            idc +=1\n",
    "            \n",
    "    \n",
    "# all_input_events[-1,:,:]\n",
    "    idc=0\n",
    "    for inp_events in all_input_events:\n",
    "        rec_events = np.zeros((T,rec_num+inh_num))\n",
    "    #     inp = np.random.randint(0,10,(inp_num))\n",
    "    #     inp_events = np.zeros((T,inp_num))\n",
    "    #     for i in range(inp_num):\n",
    "    #         inp_events[start_time+inp[i],i] =1\n",
    "    #     inp_events.shape\n",
    "\n",
    "        for t in range(1+start_time,end_time):\n",
    "            for j in range(rec_num):\n",
    "                I = 0\n",
    "\n",
    "                for i in range(inp_num):\n",
    "                    I += inp_events[t-inp_delays[i,j],i]\n",
    "                for i in range(rec_num+inh_num):\n",
    "                    if i!=j:\n",
    "                        I += rec_events[t-rec_delays[i,j],i]\n",
    "\n",
    "                if I>V_th:\n",
    "                    rec_events[t,j] =1\n",
    "                else:\n",
    "                    rec_events[t,j] =0\n",
    "\n",
    "            for j in range(rec_num,rec_num+inh_num):\n",
    "                I = 0\n",
    "\n",
    "                for i in range(rec_num):\n",
    "                    if i!=j:\n",
    "                        I += rec_events[t-rec_delays[i,j],i]\n",
    "\n",
    "\n",
    "                if I>1:\n",
    "                    rec_events[t,j] =-2\n",
    "                else:\n",
    "                    rec_events[t,j] =0\n",
    "\n",
    "        events = np.zeros((T,inp_num+rec_num+inh_num))\n",
    "        events[:,:inp_num] = inp_events\n",
    "        events[:,inp_num:inp_num+rec_num+inh_num] = rec_events\n",
    "        all_events[idc]=events\n",
    "    #     all_rec_events[]\n",
    "        idc+=1\n",
    "    \n",
    "    return all_events\n",
    "    \n",
    "\n",
    "# all_rec_events, evoked_spikes, temporal_depth,  unique_signatures = calc_reps(**params)"
   ]
  },
  {
   "cell_type": "code",
   "execution_count": 31,
   "id": "92ccfc1a",
   "metadata": {},
   "outputs": [],
   "source": [
    "\n",
    "T = 100 # miliseconds of simulation time\n",
    "start_time=10\n",
    "end_time=90\n",
    "inp_num = 2\n",
    "rec_num = 4\n",
    "inh_num = 2\n",
    "nrns = np.array((inp_num*[0]+rec_num*[1]+inh_num*[2]))\n",
    "\n",
    "inh_duration = 2\n",
    "inp_delay_range=(1,5)\n",
    "rec_delay_range=(1,5)\n",
    "inp_event_max=4\n",
    "V_th=1\n",
    "\n",
    "default_params = {\n",
    "    'T' : T, # miliseconds of simulation time\n",
    "    'start_time':start_time,\n",
    "    'end_time':end_time,\n",
    "    'inp_num' : inp_num,\n",
    "    'rec_num' : rec_num,\n",
    "    'inh_num' : inh_num,\n",
    "    'inh_duration' : inh_duration,\n",
    "    'inp_delay_range':inp_delay_range,\n",
    "    'rec_delay_range':rec_delay_range,\n",
    "    'V_th':V_th\n",
    "}\n",
    "\n",
    "colors = np.array(['#1f77b4', '#1f77b4', '#1f77b4', '#d62728', '#d62728', '#d62728', '#d62728', '#d62728', '#d62728', '#17becf'])\n",
    "colors = np.array(inp_num*['#1f77b4'] + rec_num*['#d62728'] + inh_num*['#17becf'])"
   ]
  },
  {
   "cell_type": "code",
   "execution_count": 32,
   "id": "c348c811",
   "metadata": {},
   "outputs": [
    {
     "name": "stderr",
     "output_type": "stream",
     "text": [
      "100%|████████████████████████████████████████████████████████████████████████████████████| 1/1 [00:00<00:00, 18.74it/s]\n"
     ]
    }
   ],
   "source": [
    "trials = 1\n",
    "\n",
    "all_events = np.zeros((trials, inp_event_max**inp_num,T,inp_num+rec_num+inh_num))\n",
    "\n",
    "for trial in tqdm(range(trials)):\n",
    "    all_events[trial] = calc_reps(**default_params)\n"
   ]
  },
  {
   "cell_type": "markdown",
   "id": "adf963fc",
   "metadata": {},
   "source": [
    "# statistics!"
   ]
  },
  {
   "cell_type": "code",
   "execution_count": 40,
   "id": "a1e5c05f",
   "metadata": {},
   "outputs": [],
   "source": [
    "scan_dict = {\n",
    "    'inp_num':[2,3],\n",
    "    'rec_num':[2,3,4,5,6,9,13,20],\n",
    "    'inh_num':[0,1,2,3,4,8,12],\n",
    "    'inh_duration':[1,2,3,4,5],\n",
    "    'inp_delay_range':[(1,5),(1,6),(1,7),(1,8),(1,10),(1,15),(1,20)],\n",
    "    'rec_delay_range':[(1,5),(1,6),(1,7),(1,10)],\n",
    "    'V_th':[1,2,3,4,5]\n",
    "}"
   ]
  },
  {
   "cell_type": "code",
   "execution_count": 41,
   "id": "ad44ddcb",
   "metadata": {},
   "outputs": [
    {
     "data": {
      "text/plain": [
       "2"
      ]
     },
     "execution_count": 41,
     "metadata": {},
     "output_type": "execute_result"
    }
   ],
   "source": [
    "len(scan_dict['inp_num'])"
   ]
  },
  {
   "cell_type": "code",
   "execution_count": 42,
   "id": "885fc30b",
   "metadata": {},
   "outputs": [
    {
     "name": "stderr",
     "output_type": "stream",
     "text": [
      "100%|████████████████████████████████████████████████████████████████████████████████████| 1/1 [00:00<00:00, 21.09it/s]\n",
      "  0%|                                                                                            | 0/1 [00:00<?, ?it/s]\n"
     ]
    },
    {
     "ename": "ValueError",
     "evalue": "could not broadcast input array from shape (64,100,9) into shape (16,100,8)",
     "output_type": "error",
     "traceback": [
      "\u001b[1;31m---------------------------------------------------------------------------\u001b[0m",
      "\u001b[1;31mValueError\u001b[0m                                Traceback (most recent call last)",
      "Cell \u001b[1;32mIn[42], line 19\u001b[0m\n\u001b[0;32m     16\u001b[0m all_events \u001b[38;5;241m=\u001b[39m np\u001b[38;5;241m.\u001b[39mzeros((trials, inp_event_max\u001b[38;5;241m*\u001b[39m\u001b[38;5;241m*\u001b[39minp_num,T,inp_num\u001b[38;5;241m+\u001b[39mrec_num\u001b[38;5;241m+\u001b[39minh_num))\n\u001b[0;32m     18\u001b[0m \u001b[38;5;28;01mfor\u001b[39;00m trial \u001b[38;5;129;01min\u001b[39;00m tqdm(\u001b[38;5;28mrange\u001b[39m(trials)):\n\u001b[1;32m---> 19\u001b[0m     all_events[trial] \u001b[38;5;241m=\u001b[39m calc_reps(\u001b[38;5;241m*\u001b[39m\u001b[38;5;241m*\u001b[39mparams)\n\u001b[0;32m     21\u001b[0m events_dict[key][val] \u001b[38;5;241m=\u001b[39m all_events\n",
      "\u001b[1;31mValueError\u001b[0m: could not broadcast input array from shape (64,100,9) into shape (16,100,8)"
     ]
    }
   ],
   "source": [
    "trials = 1\n",
    "\n",
    "events_dict = {}\n",
    "for key_idc, key in enumerate(scan_dict):\n",
    "    \n",
    "    events_dict[key] = {}\n",
    "    \n",
    "    for val_idc, val in enumerate(scan_dict[key]):\n",
    "        \n",
    "        \n",
    "        \n",
    "        params = default_params.copy()\n",
    "        params[key]=val\n",
    "        \n",
    "\n",
    "        all_events = np.zeros((trials, inp_event_max**inp_num,T,inp_num+rec_num+inh_num))\n",
    "\n",
    "        for trial in tqdm(range(trials)):\n",
    "            all_events[trial] = calc_reps(**params)\n",
    "            \n",
    "        events_dict[key][val] = all_events\n"
   ]
  },
  {
   "cell_type": "code",
   "execution_count": null,
   "id": "7f0f65ab",
   "metadata": {},
   "outputs": [],
   "source": []
  }
 ],
 "metadata": {
  "kernelspec": {
   "display_name": "Python 3 (ipykernel)",
   "language": "python",
   "name": "python3"
  },
  "language_info": {
   "codemirror_mode": {
    "name": "ipython",
    "version": 3
   },
   "file_extension": ".py",
   "mimetype": "text/x-python",
   "name": "python",
   "nbconvert_exporter": "python",
   "pygments_lexer": "ipython3",
   "version": "3.11.3"
  }
 },
 "nbformat": 4,
 "nbformat_minor": 5
}
