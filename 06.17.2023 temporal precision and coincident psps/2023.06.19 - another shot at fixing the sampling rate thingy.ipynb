{
 "cells": [
  {
   "cell_type": "code",
   "execution_count": 62,
   "id": "2ab79c67",
   "metadata": {},
   "outputs": [],
   "source": [
    "import numpy as np\n",
    "import matplotlib.pyplot as plt\n"
   ]
  },
  {
   "cell_type": "code",
   "execution_count": 67,
   "id": "ab98bc53",
   "metadata": {},
   "outputs": [
    {
     "data": {
      "text/plain": [
       "[0.02, 0.2, -65, 8]"
      ]
     },
     "execution_count": 67,
     "metadata": {},
     "output_type": "execute_result"
    }
   ],
   "source": [
    "T = 100 # total samples\n",
    "dt=0.1 # sample resolution\n",
    "params = {\n",
    "    'rs':[0.02, 0.2, -65, 8],\n",
    "    'ib':[0.02,0.2,-55, 4],\n",
    "    'fs':[0.1,0.2,-65,2],\n",
    "    'lts':[0.02,0.25,-65,2]\n",
    "}\n",
    "params['rs']"
   ]
  },
  {
   "cell_type": "code",
   "execution_count": 68,
   "id": "ba768ab7",
   "metadata": {},
   "outputs": [],
   "source": [
    "# code for an izhekivich chattering neuron\n",
    "def run(I, a = 0.02, b = 0.2, c = -55, d = 4,dt=1):\n",
    "    T = len(I)\n",
    "    ######### Constants\n",
    "    spike_value = 35                            # Maximal Spike Value\n",
    "\n",
    "    ######### Experimental Setup\n",
    "    # VOLTAGE\n",
    "    V               =   np.zeros(int(T))     # array for saving voltage history\n",
    "    V[0]            =   -40                     # set initial to resting potential\n",
    "    # RECOVERY\n",
    "    u               =   np.zeros(int(T))     # array for saving Recovery history\n",
    "    u[0]            =   -14\n",
    "    \n",
    "    spikes = []\n",
    "\n",
    "    for t in range(1, T):\n",
    "        # if we still didnt reach spike potential\n",
    "        if V[t-1] < spike_value:\n",
    "            # ODE for membrane potential\n",
    "            dV      = (0.04 * V[t-1] + 5) * V[t-1] + 140 - u[t-1]\n",
    "            V[t]    = V[t-1] + (dV) * dt\n",
    "            # ODE for recovery variable\n",
    "            du      = a * (b * V[t-1] - u[t-1])\n",
    "            u[t]    = u[t-1] + du * dt\n",
    "        # spike reached!\n",
    "        else:\n",
    "            V[t-1] = spike_value    # set to spike value\n",
    "            V[t] = c                # reset membrane voltage\n",
    "            u[t] = u[t-1] + d       # reset recovery\n",
    "            spikes.append((t-1)*dt)\n",
    "    \n",
    "    return V, spikes"
   ]
  },
  {
   "cell_type": "code",
   "execution_count": 71,
   "id": "8d4b9bb8",
   "metadata": {},
   "outputs": [
    {
     "name": "stdout",
     "output_type": "stream",
     "text": [
      "100\n",
      "10\n"
     ]
    }
   ],
   "source": [
    "%matplotlib qt\n",
    "I = 10*np.ones((T))\n",
    "I[:200] = 0\n",
    "print(len(I))\n",
    "V, spikes = run(I,dt=0.1)\n",
    "I = 10*np.ones((10))\n",
    "I[:20] = 0\n",
    "print(len(I))\n",
    "V2,spikes2 = run(I,dt=1)\n",
    "\n",
    "plt.figure()\n",
    "plt.plot(np.arange(0,int(T*dt),dt), V)\n",
    "plt.plot(np.arange(0,10),V2)\n",
    "plt.show()"
   ]
  },
  {
   "cell_type": "code",
   "execution_count": 66,
   "id": "c1111e94",
   "metadata": {},
   "outputs": [
    {
     "data": {
      "text/plain": [
       "(1, 1)"
      ]
     },
     "execution_count": 66,
     "metadata": {},
     "output_type": "execute_result"
    }
   ],
   "source": [
    "len(spikes), len(spikes2)"
   ]
  },
  {
   "cell_type": "code",
   "execution_count": 72,
   "id": "e8d6b53a",
   "metadata": {},
   "outputs": [
    {
     "data": {
      "text/plain": [
       "(array([0. , 0.1, 0.2, 0.3, 0.4, 0.5, 0.6, 0.7, 0.8, 0.9, 1. , 1.1, 1.2,\n",
       "        1.3, 1.4, 1.5, 1.6, 1.7, 1.8, 1.9, 2. , 2.1, 2.2, 2.3, 2.4, 2.5,\n",
       "        2.6, 2.7, 2.8, 2.9, 3. , 3.1, 3.2, 3.3, 3.4, 3.5, 3.6, 3.7, 3.8,\n",
       "        3.9, 4. , 4.1, 4.2, 4.3, 4.4, 4.5, 4.6, 4.7, 4.8, 4.9, 5. , 5.1,\n",
       "        5.2, 5.3, 5.4, 5.5, 5.6, 5.7, 5.8, 5.9, 6. , 6.1, 6.2, 6.3, 6.4,\n",
       "        6.5, 6.6, 6.7, 6.8, 6.9, 7. , 7.1, 7.2, 7.3, 7.4, 7.5, 7.6, 7.7,\n",
       "        7.8, 7.9, 8. , 8.1, 8.2, 8.3, 8.4, 8.5, 8.6, 8.7, 8.8, 8.9, 9. ,\n",
       "        9.1, 9.2, 9.3, 9.4, 9.5, 9.6, 9.7, 9.8, 9.9]),\n",
       " array([0, 1, 2, 3, 4, 5, 6, 7, 8, 9]))"
      ]
     },
     "execution_count": 72,
     "metadata": {},
     "output_type": "execute_result"
    }
   ],
   "source": [
    "np.arange(0,int(T*dt),dt), np.arange(0,10)"
   ]
  }
 ],
 "metadata": {
  "kernelspec": {
   "display_name": "Python 3 (ipykernel)",
   "language": "python",
   "name": "python3"
  },
  "language_info": {
   "codemirror_mode": {
    "name": "ipython",
    "version": 3
   },
   "file_extension": ".py",
   "mimetype": "text/x-python",
   "name": "python",
   "nbconvert_exporter": "python",
   "pygments_lexer": "ipython3",
   "version": "3.11.3"
  }
 },
 "nbformat": 4,
 "nbformat_minor": 5
}
