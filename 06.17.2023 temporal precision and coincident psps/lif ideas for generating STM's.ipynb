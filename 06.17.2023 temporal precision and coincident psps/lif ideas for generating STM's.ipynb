{
 "cells": [
  {
   "cell_type": "code",
   "execution_count": 1,
   "id": "ede823f6",
   "metadata": {},
   "outputs": [],
   "source": [
    "import numpy as np\n",
    "import matplotlib.pyplot as plt"
   ]
  },
  {
   "cell_type": "code",
   "execution_count": 2,
   "id": "25193151",
   "metadata": {},
   "outputs": [],
   "source": [
    "def default_pars( **kwargs):\n",
    "    pars = {}\n",
    "    \n",
    "    ### typical neuron parameters###\n",
    "    pars['V_th']    = -55. # spike threshold [mV]\n",
    "    pars['V_reset'] = -75. #reset potential [mV]\n",
    "    pars['tau_m']   = 10. # membrane time constant [ms]\n",
    "    pars['g_L']     = 10. #leak conductance [nS]\n",
    "    pars['V_init']  = -65. # initial potential [mV]\n",
    "    pars['V_L']     = -75. #leak reversal potential [mV]\n",
    "    pars['tref']    = 2. # refractory time (ms)\n",
    "\n",
    "    ### simulation parameters ###\n",
    "    pars['T'] = 400. # Total duration of simulation [ms]\n",
    "    pars['dt'] = .1  # Simulation time step [ms]\n",
    "    \n",
    "    ### external parameters if any ###\n",
    "    for k in kwargs:\n",
    "        pars[k] = kwargs[k]\n",
    "    \n",
    "    pars['range_t'] = np.arange(0, pars['T'], pars['dt']) # Vector of discretized time points [ms]\n",
    "        \n",
    "    return pars"
   ]
  },
  {
   "cell_type": "code",
   "execution_count": 7,
   "id": "99ccea40",
   "metadata": {},
   "outputs": [],
   "source": [
    "def run_LIF(pars, I):\n",
    "    '''\n",
    "    Simulate the LIF dynamics with external input current \n",
    "    \n",
    "    Expects:\n",
    "    pars       : parameter dictionary\n",
    "    I          : input current [pA]. The injected current here can be a value or an array\n",
    "    \n",
    "    Returns:\n",
    "    rec_spikes : spike times\n",
    "    rec_v      : mebrane potential\n",
    "    '''\n",
    "    \n",
    "    # Set parameters\n",
    "    V_th, V_reset = pars['V_th'], pars['V_reset']   \n",
    "    tau_m, g_L = pars['tau_m'], pars['g_L']        \n",
    "    V_init, V_L = pars['V_init'], pars['V_L']       \n",
    "    dt, range_t = pars['dt'], pars['range_t'] \n",
    "    Lt = range_t.size \n",
    "    tref = pars['tref']\n",
    "    # Initialize voltage and current \n",
    "    v = np.zeros(Lt)\n",
    "    v[0] = V_init\n",
    "    I = I * np.ones(Lt) \n",
    "    tr = 0.\n",
    "    # simulate the LIF dynamics \n",
    "    rec_spikes = []               # record spike times\n",
    "    for it in range(Lt-1):\n",
    "      if tr >0:\n",
    "            v[it] = V_reset\n",
    "            tr = tr-1\n",
    "      elif v[it] >= V_th:         #reset voltage and record spike event\n",
    "            rec_spikes.append(it)\n",
    "            v[it] = V_reset\n",
    "            tr = tref/dt\n",
    "      #calculate the increment of the membrane potential\n",
    "      dv = (-(v[it]-V_L) + I[it]/g_L) * (dt/tau_m)\n",
    "        \n",
    "      #update the membrane potential\n",
    "      v[it+1] = v[it] + dv\n",
    "        \n",
    "    rec_spikes = np.array(rec_spikes) * dt\n",
    "        \n",
    "    return v, rec_spikes"
   ]
  },
  {
   "cell_type": "code",
   "execution_count": null,
   "id": "257c204c",
   "metadata": {},
   "outputs": [],
   "source": []
  }
 ],
 "metadata": {
  "kernelspec": {
   "display_name": "Python 3 (ipykernel)",
   "language": "python",
   "name": "python3"
  },
  "language_info": {
   "codemirror_mode": {
    "name": "ipython",
    "version": 3
   },
   "file_extension": ".py",
   "mimetype": "text/x-python",
   "name": "python",
   "nbconvert_exporter": "python",
   "pygments_lexer": "ipython3",
   "version": "3.11.3"
  }
 },
 "nbformat": 4,
 "nbformat_minor": 5
}
