{
 "cells": [
  {
   "cell_type": "code",
   "execution_count": 1,
   "id": "a8af4c0b",
   "metadata": {},
   "outputs": [],
   "source": [
    "import random\n",
    "import numpy as np\n",
    "import json\n",
    "from tqdm import tqdm\n",
    "from scipy.cluster.hierarchy import dendrogram, linkage, fcluster\n",
    "from scipy.spatial.distance import pdist, squareform\n",
    "from scipy.optimize import linear_sum_assignment\n",
    "from collections import Counter\n",
    "import time\n",
    "import os\n",
    "import pandas as pd\n",
    "from scipy.signal import correlate\n",
    "np. set_printoptions(threshold=np. inf)"
   ]
  },
  {
   "cell_type": "code",
   "execution_count": 2,
   "id": "8acced35",
   "metadata": {},
   "outputs": [
    {
     "data": {
      "text/plain": [
       "'Sept26th-scan_stats.json'"
      ]
     },
     "execution_count": 2,
     "metadata": {},
     "output_type": "execute_result"
    }
   ],
   "source": [
    "date = 'Sept26th-'\n",
    "filename = ''.join((date,'scan_stats.json'))\n",
    "filename"
   ]
  },
  {
   "cell_type": "code",
   "execution_count": 3,
   "id": "963746c9",
   "metadata": {},
   "outputs": [],
   "source": [
    "import scan\n",
    "import simulate_data"
   ]
  },
  {
   "cell_type": "code",
   "execution_count": 4,
   "id": "d4be0125",
   "metadata": {},
   "outputs": [],
   "source": [
    "default_params = {\n",
    "    'M':8,\n",
    "    'N':40,\n",
    "    'D':51,\n",
    "    'T':1000,\n",
    "    'seed':0,\n",
    "    'num_SM_events':16,\n",
    "    'SM_total_spikes':10,\n",
    "    'noise':100\n",
    "}\n",
    "scan_dict = {\n",
    "    'M':[1,4,8,16,32],\n",
    "    'N':[10,20,40,80,120],\n",
    "    'D':[11,31,51,71,101],\n",
    "    'T':[1000],\n",
    "    'seed':[0],\n",
    "    'num_SM_events':[2,4,8,16,32],\n",
    "    'SM_total_spikes':[3,5,10,20,50],\n",
    "    'noise':[0,50,100,500,1000]\n",
    "}"
   ]
  },
  {
   "cell_type": "code",
   "execution_count": 5,
   "id": "ccf37a74",
   "metadata": {},
   "outputs": [],
   "source": [
    "from scipy.signal import correlate\n",
    "def get_acc(ground_truths,detected_patterns):\n",
    "    # Calculate cross-correlation matrix\n",
    "    cross_corr_matrix = np.zeros((ground_truths.shape[2], detected_patterns.shape[2]))\n",
    "    SM_acc = np.zeros((ground_truths.shape[2]))\n",
    "    \n",
    "    if len(detected_patterns) == 0:\n",
    "        return SM_acc, cross_corr_matrix\n",
    "    \n",
    "    for ground_truths_idx in range(ground_truths.shape[2]):\n",
    "        for detected_patterns_idx in range(detected_patterns.shape[2]):\n",
    "            cross_corr = np.zeros((ground_truths.shape[1]+detected_patterns.shape[1]-1))\n",
    "            for n in range(ground_truths.shape[0]):\n",
    "                cross_corr += correlate(ground_truths[n, :, ground_truths_idx], detected_patterns[n, :, detected_patterns_idx], mode='full')\n",
    "            max_corr = np.max(cross_corr) / max(np.sum(ground_truths[...,ground_truths_idx]),np.sum(detected_patterns[...,detected_patterns_idx]))\n",
    "            cross_corr_matrix[ground_truths_idx, detected_patterns_idx] = max_corr\n",
    "#     print(cross_corr_matrix)\n",
    "#     print( np.sum(ground_truths[...,ground_truths_idx]))\n",
    "    SM_acc = np.max(cross_corr_matrix,axis=1)\n",
    "    return SM_acc, cross_corr_matrix"
   ]
  },
  {
   "cell_type": "code",
   "execution_count": 6,
   "id": "3891e37f",
   "metadata": {},
   "outputs": [],
   "source": [
    "param_combinations = []\n",
    "for param_name, param_values in scan_dict.items():\n",
    "    for param_value in param_values:\n",
    "        params = default_params.copy()\n",
    "        params[param_name] = param_value\n",
    "        param_combinations.append(params)"
   ]
  },
  {
   "cell_type": "code",
   "execution_count": 8,
   "id": "0b6600a9",
   "metadata": {},
   "outputs": [
    {
     "data": {
      "text/plain": [
       "32"
      ]
     },
     "execution_count": 8,
     "metadata": {},
     "output_type": "execute_result"
    }
   ],
   "source": [
    "len(param_combinations)"
   ]
  },
  {
   "cell_type": "code",
   "execution_count": null,
   "id": "324d1f17",
   "metadata": {
    "scrolled": true
   },
   "outputs": [
    {
     "name": "stderr",
     "output_type": "stream",
     "text": [
      "\r",
      "0it [00:00, ?it/s]"
     ]
    },
    {
     "name": "stdout",
     "output_type": "stream",
     "text": [
      "260 Windows\n",
      "progress - 96.0% | cutoff - 9.48 | opt_cutoff - 1.37 | most_detections - 15etections - 15\r"
     ]
    },
    {
     "name": "stderr",
     "output_type": "stream",
     "text": [
      "\r",
      "1it [00:00,  1.33it/s]"
     ]
    },
    {
     "name": "stdout",
     "output_type": "stream",
     "text": [
      "2 patterns found...s... 50% 10.01 | opt_cutoff - 1.37 | most_detections - 15\n",
      "734 Windows\n",
      "6 patterns found...s... 83% 10.01 | opt_cutoff - 0.47000000000000003 | most_detections - 15tections - 155\n"
     ]
    },
    {
     "name": "stderr",
     "output_type": "stream",
     "text": [
      "\r",
      "2it [00:02,  1.48s/it]"
     ]
    },
    {
     "name": "stdout",
     "output_type": "stream",
     "text": [
      "1359 Windows\n",
      "8 patterns found...s... 88% 10.01 | opt_cutoff - 0.47000000000000003 | most_detections - 15tections - 155\n"
     ]
    },
    {
     "name": "stderr",
     "output_type": "stream",
     "text": [
      "\r",
      "3it [00:13,  5.56s/it]"
     ]
    },
    {
     "name": "stdout",
     "output_type": "stream",
     "text": [
      "2571 Windows\n",
      "39 patterns found...... 97% 10.01 | opt_cutoff - 0.34 | most_detections - 3etections - 33\n"
     ]
    },
    {
     "name": "stderr",
     "output_type": "stream",
     "text": [
      "\r",
      "4it [00:31, 10.47s/it]"
     ]
    },
    {
     "name": "stdout",
     "output_type": "stream",
     "text": [
      "4903 Windows\n",
      "73 patterns found...... 99% 10.01 | opt_cutoff - 0.42 | most_detections - 2etections - 22\n"
     ]
    },
    {
     "name": "stderr",
     "output_type": "stream",
     "text": [
      "\r",
      "5it [02:02, 39.56s/it]"
     ]
    },
    {
     "name": "stdout",
     "output_type": "stream",
     "text": [
      "1298 Windows\n",
      "14 patterns found...... 93% 10.01 | opt_cutoff - 0.83 | most_detections - 4etections - 4\n"
     ]
    },
    {
     "name": "stderr",
     "output_type": "stream",
     "text": [
      "\r",
      "6it [02:13, 29.84s/it]"
     ]
    },
    {
     "name": "stdout",
     "output_type": "stream",
     "text": [
      "1335 Windows\n",
      "2 patterns found...s... 50% 10.01 | opt_cutoff - 0.67 | most_detections - 15tections - 15\n"
     ]
    },
    {
     "name": "stderr",
     "output_type": "stream",
     "text": [
      "\r",
      "7it [02:22, 22.97s/it]"
     ]
    },
    {
     "name": "stdout",
     "output_type": "stream",
     "text": [
      "1361 Windows\n",
      "10 patterns found...... 90% 10.01 | opt_cutoff - 0.47000000000000003 | most_detections - 15tections - 155\n"
     ]
    },
    {
     "name": "stderr",
     "output_type": "stream",
     "text": [
      "\r",
      "8it [02:38, 20.97s/it]"
     ]
    },
    {
     "name": "stdout",
     "output_type": "stream",
     "text": [
      "1367 Windows\n",
      "22 patterns found...... 95% 10.01 | opt_cutoff - 0.34 | most_detections - 15tections - 155\n"
     ]
    },
    {
     "name": "stderr",
     "output_type": "stream",
     "text": [
      "\r",
      "9it [02:50, 18.23s/it]"
     ]
    },
    {
     "name": "stdout",
     "output_type": "stream",
     "text": [
      "1369 Windows\n",
      "17 patterns found...... 94% 10.01 | opt_cutoff - 0.34 | most_detections - 15tections - 155detections - 2\n"
     ]
    },
    {
     "name": "stderr",
     "output_type": "stream",
     "text": [
      "\r",
      "10it [03:04, 16.73s/it]"
     ]
    },
    {
     "name": "stdout",
     "output_type": "stream",
     "text": [
      "1363 Windows\n",
      "23 patterns found...... 96% 10.01 | opt_cutoff - 1.09 | most_detections - 15tections - 15_detections - 2\n"
     ]
    },
    {
     "name": "stderr",
     "output_type": "stream",
     "text": [
      "\r",
      "11it [03:09, 13.14s/it]"
     ]
    },
    {
     "name": "stdout",
     "output_type": "stream",
     "text": [
      "1360 Windows\n",
      "21 patterns found...... 95% 10.01 | opt_cutoff - 0.61 | most_detections - 15tections - 15_detections - 8\n"
     ]
    },
    {
     "name": "stderr",
     "output_type": "stream",
     "text": [
      "\r",
      "12it [03:16, 11.23s/it]"
     ]
    },
    {
     "name": "stdout",
     "output_type": "stream",
     "text": [
      "1354 Windows\n",
      "12 patterns found...... 92% 10.01 | opt_cutoff - 0.51 | most_detections - 15tections - 15\n"
     ]
    },
    {
     "name": "stderr",
     "output_type": "stream",
     "text": [
      "\r",
      "13it [03:25, 10.60s/it]"
     ]
    },
    {
     "name": "stdout",
     "output_type": "stream",
     "text": [
      "1364 Windows\n",
      "13 patterns found...... 92% 10.01 | opt_cutoff - 0.38 | most_detections - 15tections - 155\n"
     ]
    },
    {
     "name": "stderr",
     "output_type": "stream",
     "text": [
      "\r",
      "14it [03:38, 11.27s/it]"
     ]
    },
    {
     "name": "stdout",
     "output_type": "stream",
     "text": [
      "1363 Windows\n",
      "9 patterns found...s... 89% 10.01 | opt_cutoff - 0.34 | most_detections - 14tections - 144\n"
     ]
    },
    {
     "name": "stderr",
     "output_type": "stream",
     "text": [
      "\r",
      "15it [03:57, 13.79s/it]"
     ]
    },
    {
     "name": "stdout",
     "output_type": "stream",
     "text": [
      "1351 Windows\n",
      "15 patterns found...... 93% 10.01 | opt_cutoff - 0.38 | most_detections - 15tections - 155\n"
     ]
    },
    {
     "name": "stderr",
     "output_type": "stream",
     "text": [
      "\r",
      "16it [04:07, 12.43s/it]"
     ]
    },
    {
     "name": "stdout",
     "output_type": "stream",
     "text": [
      "1361 Windows\n",
      "13 patterns found...... 92% 10.01 | opt_cutoff - 0.47000000000000003 | most_detections - 15tections - 155\n"
     ]
    },
    {
     "name": "stderr",
     "output_type": "stream",
     "text": [
      "\r",
      "17it [04:26, 14.53s/it]"
     ]
    },
    {
     "name": "stdout",
     "output_type": "stream",
     "text": [
      "260 Windows\n",
      "progress - 94.0% | cutoff - 8.79 | opt_cutoff - 0.09 | most_detections - 1detections - 11\r"
     ]
    },
    {
     "name": "stderr",
     "output_type": "stream",
     "text": [
      "\r",
      "18it [04:28, 10.71s/it]"
     ]
    },
    {
     "name": "stdout",
     "output_type": "stream",
     "text": [
      "1 patterns found...s... 0%- 10.01 | opt_cutoff - 0.09 | most_detections - 1\n",
      "412 Windows\n",
      "11 patterns found...... 91% 10.01 | opt_cutoff - 0.51 | most_detections - 5etections - 54\n"
     ]
    },
    {
     "name": "stderr",
     "output_type": "stream",
     "text": [
      "\r",
      "19it [04:30,  8.17s/it]"
     ]
    },
    {
     "name": "stdout",
     "output_type": "stream",
     "text": [
      "731 Windows\n",
      "19 patterns found...... 95% 10.01 | opt_cutoff - 0.3 | most_detections - 7etections - 77\n"
     ]
    },
    {
     "name": "stderr",
     "output_type": "stream",
     "text": [
      "\r",
      "20it [04:34,  6.90s/it]"
     ]
    },
    {
     "name": "stdout",
     "output_type": "stream",
     "text": [
      "1354 Windows\n",
      "5 patterns found...s... 80% 10.01 | opt_cutoff - 0.67 | most_detections - 16tections - 165detections - 15\n"
     ]
    },
    {
     "name": "stderr",
     "output_type": "stream",
     "text": [
      "\r",
      "21it [04:49,  9.44s/it]"
     ]
    },
    {
     "name": "stdout",
     "output_type": "stream",
     "text": [
      "2578 Windows\n",
      "23 patterns found...... 96% 10.01 | opt_cutoff - 0.47000000000000003 | most_detections - 31tections - 311\n"
     ]
    },
    {
     "name": "stderr",
     "output_type": "stream",
     "text": [
      "\r",
      "22it [05:24, 17.04s/it]"
     ]
    },
    {
     "name": "stdout",
     "output_type": "stream",
     "text": [
      "480 Windows\n",
      "progress - 82.0% | cutoff - 5.14 | opt_cutoff - 0.14 | most_detections - 1detections - 11\r"
     ]
    },
    {
     "name": "stderr",
     "output_type": "stream",
     "text": [
      "\r",
      "23it [05:26, 12.46s/it]"
     ]
    },
    {
     "name": "stdout",
     "output_type": "stream",
     "text": [
      "1 patterns found...s... 0%- 10.01 | opt_cutoff - 0.14 | most_detections - 1etections - 1\n",
      "736 Windows\n",
      "3 patterns found...s... 67% 10.01 | opt_cutoff - 0.47000000000000003 | most_detections - 15tections - 155\n"
     ]
    },
    {
     "name": "stderr",
     "output_type": "stream",
     "text": [
      "\r",
      "24it [05:29,  9.53s/it]"
     ]
    },
    {
     "name": "stdout",
     "output_type": "stream",
     "text": [
      "1360 Windows\n",
      "8 patterns found...s... 88% 10.01 | opt_cutoff - 0.42 | most_detections - 15tections - 155\n"
     ]
    },
    {
     "name": "stderr",
     "output_type": "stream",
     "text": [
      "\r",
      "25it [05:36,  8.79s/it]"
     ]
    },
    {
     "name": "stdout",
     "output_type": "stream",
     "text": [
      "2567 Windows\n",
      "18 patterns found...... 94% 10.01 | opt_cutoff - 0.56 | most_detections - 15tections - 153detections - 13\n"
     ]
    },
    {
     "name": "stderr",
     "output_type": "stream",
     "text": [
      "\r",
      "26it [06:08, 15.92s/it]"
     ]
    },
    {
     "name": "stdout",
     "output_type": "stream",
     "text": [
      "6008 Windows\n",
      "142 patterns found..... 99% 10.01 | opt_cutoff - 0.67 | most_detections - 6etections - 6t_detections - 1\n"
     ]
    },
    {
     "name": "stderr",
     "output_type": "stream",
     "text": [
      "\r",
      "27it [10:24, 88.03s/it]"
     ]
    },
    {
     "name": "stdout",
     "output_type": "stream",
     "text": [
      "40000 Windows\n",
      "Windowing... 27%\r"
     ]
    }
   ],
   "source": [
    "import numpy as np\n",
    "import random\n",
    "import os\n",
    "import pandas as pd\n",
    "import json\n",
    "from tqdm import tqdm\n",
    "\n",
    "# Define default parameters and scan values\n",
    "default_params = {\n",
    "    'M': 8,\n",
    "    'N': 40,\n",
    "    'D': 51,\n",
    "    'T': 1000,\n",
    "    'seed': 0,\n",
    "    'num_SM_events': 16,\n",
    "    'SM_total_spikes': 10,\n",
    "    'noise': 100\n",
    "}\n",
    "\n",
    "scan_dict = {\n",
    "    'M': [1, 4, 8, 16, 32],\n",
    "    'N': [10, 20, 40, 80, 120],\n",
    "    'D': [11, 31, 51, 71, 101], \n",
    "    'num_SM_events': [2, 4, 8, 16, 32],\n",
    "    'SM_total_spikes': [3, 5, 10, 20, 50],\n",
    "    'noise': [0, 50, 100, 500, 1000]\n",
    "}\n",
    "\n",
    "# Generate all parameter combinations\n",
    "param_combinations = []\n",
    "for param_name, param_values in scan_dict.items():\n",
    "    for param_value in param_values:\n",
    "        params = default_params.copy()\n",
    "        params[param_name] = param_value\n",
    "        param_combinations.append(params)\n",
    "\n",
    "num_samples = len(param_combinations)\n",
    "results = []\n",
    "\n",
    "# Iterate through parameter combinations\n",
    "for idx, params in tqdm(enumerate(param_combinations)):\n",
    "\n",
    "    if os.path.isfile(filename):\n",
    "        df = pd.read_json(filename)\n",
    "        with open(filename, 'r') as results_file:\n",
    "            results = json.load(results_file)\n",
    "    start = time.time()\n",
    "    A_dense, A_sparse, B_dense, B_sparse, K_dense, K_sparse = simulate_data.generate_synthetic_data(params)\n",
    "    pattern_template, sublist_keys_filt, window_time, cluster_time, sequence_time = scan.scan_raster(A_sparse[1], A_sparse[0], window_dim=params['D'])\n",
    "    end = time.time()\n",
    "    result = {\n",
    "        'M':params['M'],\n",
    "        'N':params['N'],\n",
    "        'D':params['D'],\n",
    "        'T':params['T'],\n",
    "        'num_SM_events':params['num_SM_events'],\n",
    "        'SM_total_spikes':params['SM_total_spikes'],\n",
    "        'noise':params['noise'],\n",
    "        'window_time': window_time,\n",
    "        'cluster_time': cluster_time,\n",
    "        'sequence_time': sequence_time,\n",
    "        'total_time': end-start\n",
    "    }\n",
    "\n",
    "    results.append(result)\n",
    "\n",
    "    with open(filename, 'w') as results_file:\n",
    "        json.dump(results, results_file, indent=4)\n"
   ]
  },
  {
   "cell_type": "code",
   "execution_count": 9,
   "id": "a9043059",
   "metadata": {},
   "outputs": [
    {
     "data": {
      "text/plain": [
       "[{'M': 1,\n",
       "  'N': 40,\n",
       "  'D': 51,\n",
       "  'T': 1000,\n",
       "  'seed': 0,\n",
       "  'num_SM_events': 16,\n",
       "  'SM_total_spikes': 10,\n",
       "  'noise': 100},\n",
       " {'M': 4,\n",
       "  'N': 40,\n",
       "  'D': 51,\n",
       "  'T': 1000,\n",
       "  'seed': 0,\n",
       "  'num_SM_events': 16,\n",
       "  'SM_total_spikes': 10,\n",
       "  'noise': 100},\n",
       " {'M': 8,\n",
       "  'N': 40,\n",
       "  'D': 51,\n",
       "  'T': 1000,\n",
       "  'seed': 0,\n",
       "  'num_SM_events': 16,\n",
       "  'SM_total_spikes': 10,\n",
       "  'noise': 100},\n",
       " {'M': 16,\n",
       "  'N': 40,\n",
       "  'D': 51,\n",
       "  'T': 1000,\n",
       "  'seed': 0,\n",
       "  'num_SM_events': 16,\n",
       "  'SM_total_spikes': 10,\n",
       "  'noise': 100},\n",
       " {'M': 32,\n",
       "  'N': 40,\n",
       "  'D': 51,\n",
       "  'T': 1000,\n",
       "  'seed': 0,\n",
       "  'num_SM_events': 16,\n",
       "  'SM_total_spikes': 10,\n",
       "  'noise': 100},\n",
       " {'M': 8,\n",
       "  'N': 10,\n",
       "  'D': 51,\n",
       "  'T': 1000,\n",
       "  'seed': 0,\n",
       "  'num_SM_events': 16,\n",
       "  'SM_total_spikes': 10,\n",
       "  'noise': 100},\n",
       " {'M': 8,\n",
       "  'N': 20,\n",
       "  'D': 51,\n",
       "  'T': 1000,\n",
       "  'seed': 0,\n",
       "  'num_SM_events': 16,\n",
       "  'SM_total_spikes': 10,\n",
       "  'noise': 100},\n",
       " {'M': 8,\n",
       "  'N': 40,\n",
       "  'D': 51,\n",
       "  'T': 1000,\n",
       "  'seed': 0,\n",
       "  'num_SM_events': 16,\n",
       "  'SM_total_spikes': 10,\n",
       "  'noise': 100},\n",
       " {'M': 8,\n",
       "  'N': 80,\n",
       "  'D': 51,\n",
       "  'T': 1000,\n",
       "  'seed': 0,\n",
       "  'num_SM_events': 16,\n",
       "  'SM_total_spikes': 10,\n",
       "  'noise': 100},\n",
       " {'M': 8,\n",
       "  'N': 120,\n",
       "  'D': 51,\n",
       "  'T': 1000,\n",
       "  'seed': 0,\n",
       "  'num_SM_events': 16,\n",
       "  'SM_total_spikes': 10,\n",
       "  'noise': 100},\n",
       " {'M': 8,\n",
       "  'N': 40,\n",
       "  'D': 11,\n",
       "  'T': 1000,\n",
       "  'seed': 0,\n",
       "  'num_SM_events': 16,\n",
       "  'SM_total_spikes': 10,\n",
       "  'noise': 100},\n",
       " {'M': 8,\n",
       "  'N': 40,\n",
       "  'D': 31,\n",
       "  'T': 1000,\n",
       "  'seed': 0,\n",
       "  'num_SM_events': 16,\n",
       "  'SM_total_spikes': 10,\n",
       "  'noise': 100},\n",
       " {'M': 8,\n",
       "  'N': 40,\n",
       "  'D': 51,\n",
       "  'T': 1000,\n",
       "  'seed': 0,\n",
       "  'num_SM_events': 16,\n",
       "  'SM_total_spikes': 10,\n",
       "  'noise': 100},\n",
       " {'M': 8,\n",
       "  'N': 40,\n",
       "  'D': 71,\n",
       "  'T': 1000,\n",
       "  'seed': 0,\n",
       "  'num_SM_events': 16,\n",
       "  'SM_total_spikes': 10,\n",
       "  'noise': 100},\n",
       " {'M': 8,\n",
       "  'N': 40,\n",
       "  'D': 101,\n",
       "  'T': 1000,\n",
       "  'seed': 0,\n",
       "  'num_SM_events': 16,\n",
       "  'SM_total_spikes': 10,\n",
       "  'noise': 100},\n",
       " {'M': 8,\n",
       "  'N': 40,\n",
       "  'D': 51,\n",
       "  'T': 1000,\n",
       "  'seed': 0,\n",
       "  'num_SM_events': 16,\n",
       "  'SM_total_spikes': 10,\n",
       "  'noise': 100},\n",
       " {'M': 8,\n",
       "  'N': 40,\n",
       "  'D': 51,\n",
       "  'T': 1000,\n",
       "  'seed': 0,\n",
       "  'num_SM_events': 16,\n",
       "  'SM_total_spikes': 10,\n",
       "  'noise': 100},\n",
       " {'M': 8,\n",
       "  'N': 40,\n",
       "  'D': 51,\n",
       "  'T': 1000,\n",
       "  'seed': 0,\n",
       "  'num_SM_events': 2,\n",
       "  'SM_total_spikes': 10,\n",
       "  'noise': 100},\n",
       " {'M': 8,\n",
       "  'N': 40,\n",
       "  'D': 51,\n",
       "  'T': 1000,\n",
       "  'seed': 0,\n",
       "  'num_SM_events': 4,\n",
       "  'SM_total_spikes': 10,\n",
       "  'noise': 100},\n",
       " {'M': 8,\n",
       "  'N': 40,\n",
       "  'D': 51,\n",
       "  'T': 1000,\n",
       "  'seed': 0,\n",
       "  'num_SM_events': 8,\n",
       "  'SM_total_spikes': 10,\n",
       "  'noise': 100},\n",
       " {'M': 8,\n",
       "  'N': 40,\n",
       "  'D': 51,\n",
       "  'T': 1000,\n",
       "  'seed': 0,\n",
       "  'num_SM_events': 16,\n",
       "  'SM_total_spikes': 10,\n",
       "  'noise': 100},\n",
       " {'M': 8,\n",
       "  'N': 40,\n",
       "  'D': 51,\n",
       "  'T': 1000,\n",
       "  'seed': 0,\n",
       "  'num_SM_events': 32,\n",
       "  'SM_total_spikes': 10,\n",
       "  'noise': 100},\n",
       " {'M': 8,\n",
       "  'N': 40,\n",
       "  'D': 51,\n",
       "  'T': 1000,\n",
       "  'seed': 0,\n",
       "  'num_SM_events': 16,\n",
       "  'SM_total_spikes': 3,\n",
       "  'noise': 100},\n",
       " {'M': 8,\n",
       "  'N': 40,\n",
       "  'D': 51,\n",
       "  'T': 1000,\n",
       "  'seed': 0,\n",
       "  'num_SM_events': 16,\n",
       "  'SM_total_spikes': 5,\n",
       "  'noise': 100},\n",
       " {'M': 8,\n",
       "  'N': 40,\n",
       "  'D': 51,\n",
       "  'T': 1000,\n",
       "  'seed': 0,\n",
       "  'num_SM_events': 16,\n",
       "  'SM_total_spikes': 10,\n",
       "  'noise': 100},\n",
       " {'M': 8,\n",
       "  'N': 40,\n",
       "  'D': 51,\n",
       "  'T': 1000,\n",
       "  'seed': 0,\n",
       "  'num_SM_events': 16,\n",
       "  'SM_total_spikes': 20,\n",
       "  'noise': 100},\n",
       " {'M': 8,\n",
       "  'N': 40,\n",
       "  'D': 51,\n",
       "  'T': 1000,\n",
       "  'seed': 0,\n",
       "  'num_SM_events': 16,\n",
       "  'SM_total_spikes': 50,\n",
       "  'noise': 100},\n",
       " {'M': 8,\n",
       "  'N': 40,\n",
       "  'D': 51,\n",
       "  'T': 1000,\n",
       "  'seed': 0,\n",
       "  'num_SM_events': 16,\n",
       "  'SM_total_spikes': 10,\n",
       "  'noise': 0},\n",
       " {'M': 8,\n",
       "  'N': 40,\n",
       "  'D': 51,\n",
       "  'T': 1000,\n",
       "  'seed': 0,\n",
       "  'num_SM_events': 16,\n",
       "  'SM_total_spikes': 10,\n",
       "  'noise': 50},\n",
       " {'M': 8,\n",
       "  'N': 40,\n",
       "  'D': 51,\n",
       "  'T': 1000,\n",
       "  'seed': 0,\n",
       "  'num_SM_events': 16,\n",
       "  'SM_total_spikes': 10,\n",
       "  'noise': 100},\n",
       " {'M': 8,\n",
       "  'N': 40,\n",
       "  'D': 51,\n",
       "  'T': 1000,\n",
       "  'seed': 0,\n",
       "  'num_SM_events': 16,\n",
       "  'SM_total_spikes': 10,\n",
       "  'noise': 500},\n",
       " {'M': 8,\n",
       "  'N': 40,\n",
       "  'D': 51,\n",
       "  'T': 1000,\n",
       "  'seed': 0,\n",
       "  'num_SM_events': 16,\n",
       "  'SM_total_spikes': 10,\n",
       "  'noise': 1000}]"
      ]
     },
     "execution_count": 9,
     "metadata": {},
     "output_type": "execute_result"
    }
   ],
   "source": [
    "param_combinations"
   ]
  },
  {
   "cell_type": "code",
   "execution_count": 47,
   "id": "f86b774f",
   "metadata": {},
   "outputs": [
    {
     "name": "stderr",
     "output_type": "stream",
     "text": [
      "\r",
      "  0%|                                                                                            | 0/3 [00:00<?, ?it/s]"
     ]
    },
    {
     "name": "stdout",
     "output_type": "stream",
     "text": [
      "1186 Windows\n",
      "4 patterns found...s... 75% 10.01 | opt_cutoff - 0.67 | most_detections - 3etections - 3\n"
     ]
    },
    {
     "name": "stderr",
     "output_type": "stream",
     "text": [
      "\r",
      " 33%|████████████████████████████                                                        | 1/3 [00:02<00:04,  2.15s/it]"
     ]
    },
    {
     "name": "stdout",
     "output_type": "stream",
     "text": [
      "364 Windows\n",
      "progress - 98.0% | cutoff - 10.01 | opt_cutoff - 0.13 | most_detections - 1etections - 11\r"
     ]
    },
    {
     "name": "stderr",
     "output_type": "stream",
     "text": [
      "\r",
      " 67%|████████████████████████████████████████████████████████                            | 2/3 [00:02<00:01,  1.28s/it]"
     ]
    },
    {
     "name": "stdout",
     "output_type": "stream",
     "text": [
      "1 patterns found...s... 0%\n",
      "120000 Windows\n",
      "Windowing... 2%\r"
     ]
    },
    {
     "name": "stderr",
     "output_type": "stream",
     "text": [
      "\r",
      " 67%|████████████████████████████████████████████████████████                            | 2/3 [00:11<00:05,  5.97s/it]"
     ]
    },
    {
     "name": "stdout",
     "output_type": "stream",
     "text": [
      "Windowing... 2%\r",
      "Windowing... 2%\r",
      "Windowing... 2%\r",
      "Windowing... 2%\r",
      "Windowing... 2%\r",
      "Windowing... 2%\r",
      "Windowing... 2%\r",
      "Windowing... 2%\r",
      "Windowing... 2%\r"
     ]
    },
    {
     "name": "stderr",
     "output_type": "stream",
     "text": [
      "\n"
     ]
    },
    {
     "ename": "KeyboardInterrupt",
     "evalue": "",
     "output_type": "error",
     "traceback": [
      "\u001b[1;31m---------------------------------------------------------------------------\u001b[0m",
      "\u001b[1;31mKeyboardInterrupt\u001b[0m                         Traceback (most recent call last)",
      "Cell \u001b[1;32mIn[47], line 22\u001b[0m\n\u001b[0;32m     20\u001b[0m \u001b[38;5;28;01mif\u001b[39;00m (\u001b[38;5;129;01mnot\u001b[39;00m idx \u001b[38;5;129;01min\u001b[39;00m df[\u001b[38;5;124m'\u001b[39m\u001b[38;5;124midx\u001b[39m\u001b[38;5;124m'\u001b[39m]\u001b[38;5;241m.\u001b[39mtolist()):\n\u001b[0;32m     21\u001b[0m     A_dense, A_sparse, B_dense, B_sparse, K_dense, K_sparse \u001b[38;5;241m=\u001b[39m simulate_data\u001b[38;5;241m.\u001b[39mgenerate_synthetic_data(params)\n\u001b[1;32m---> 22\u001b[0m     pattern_template, sublist_keys_filt, window_time, cluster_time, sequence_time \u001b[38;5;241m=\u001b[39m scan\u001b[38;5;241m.\u001b[39mscan_raster(A_sparse[\u001b[38;5;241m1\u001b[39m], A_sparse[\u001b[38;5;241m0\u001b[39m], window_dim\u001b[38;5;241m=\u001b[39mparams[\u001b[38;5;124m'\u001b[39m\u001b[38;5;124mD\u001b[39m\u001b[38;5;124m'\u001b[39m])\n\u001b[0;32m     27\u001b[0m     result \u001b[38;5;241m=\u001b[39m {\n\u001b[0;32m     28\u001b[0m         \u001b[38;5;124m'\u001b[39m\u001b[38;5;124midx\u001b[39m\u001b[38;5;124m'\u001b[39m:idx,\n\u001b[0;32m     29\u001b[0m         \u001b[38;5;124m'\u001b[39m\u001b[38;5;124mwindow_time\u001b[39m\u001b[38;5;124m'\u001b[39m:window_time,   \n\u001b[0;32m     30\u001b[0m         \u001b[38;5;124m'\u001b[39m\u001b[38;5;124mcluster_time\u001b[39m\u001b[38;5;124m'\u001b[39m:cluster_time,\n\u001b[0;32m     31\u001b[0m         \u001b[38;5;124m'\u001b[39m\u001b[38;5;124msequence_time\u001b[39m\u001b[38;5;124m'\u001b[39m:sequence_time\n\u001b[0;32m     32\u001b[0m     }\n\u001b[0;32m     34\u001b[0m     results\u001b[38;5;241m.\u001b[39mappend(result)\n",
      "File \u001b[1;32m~\\Projects\\thesis_notebooks\\2023.09.26 - Final Drafts\\scan.py:37\u001b[0m, in \u001b[0;36mscan_raster\u001b[1;34m(T_labels, N_labels, window_dim)\u001b[0m\n\u001b[0;32m     35\u001b[0m \u001b[38;5;28;01mfor\u001b[39;00m i,window_time \u001b[38;5;129;01min\u001b[39;00m \u001b[38;5;28menumerate\u001b[39m(T_labels):\n\u001b[0;32m     36\u001b[0m     condition \u001b[38;5;241m=\u001b[39m (T_labels \u001b[38;5;241m>\u001b[39m window_time\u001b[38;5;241m-\u001b[39mwindow_dim) \u001b[38;5;241m&\u001b[39m (T_labels \u001b[38;5;241m<\u001b[39m window_time \u001b[38;5;241m+\u001b[39m window_dim)\n\u001b[1;32m---> 37\u001b[0m     window \u001b[38;5;241m=\u001b[39m np\u001b[38;5;241m.\u001b[39marray([T_labels[condition]\u001b[38;5;241m-\u001b[39mwindow_time, N_labels[condition]])\u001b[38;5;241m.\u001b[39mT\n\u001b[0;32m     38\u001b[0m     window \u001b[38;5;241m=\u001b[39m  {\u001b[38;5;28mtuple\u001b[39m(row) \u001b[38;5;28;01mfor\u001b[39;00m row \u001b[38;5;129;01min\u001b[39;00m  window}\n\u001b[0;32m     39\u001b[0m     windows[i] \u001b[38;5;241m=\u001b[39m window\n",
      "\u001b[1;31mKeyboardInterrupt\u001b[0m: "
     ]
    }
   ],
   "source": [
    "num_samples = 3\n",
    "param_combinations = np.array(np.meshgrid(*scan_dict.values())).T.reshape(-1, len(scan_dict))\n",
    "num_iterations = len(param_combinations)\n",
    "\n",
    "# Generate random indices for sampling\n",
    "random_indices = random.sample(range(num_iterations), num_samples)\n",
    "results = []\n",
    "\n",
    "\n",
    "# Iterate through parameter combinations\n",
    "for idx in tqdm(random_indices):\n",
    "    \n",
    "    params = {key: int(val) for key, val in zip(scan_dict.keys(), param_combinations[idx])}\n",
    "    if os.path.isfile(filename):\n",
    "        df = pd.read_json(filename)\n",
    "        with open(filename, 'r') as results_file:\n",
    "            results = json.load(results_file)\n",
    "            \n",
    "            \n",
    "    A_dense, A_sparse, B_dense, B_sparse, K_dense, K_sparse = simulate_data.generate_synthetic_data(params)\n",
    "    pattern_template, sublist_keys_filt, window_time, cluster_time, sequence_time = scan.scan_raster(A_sparse[1], A_sparse[0], window_dim=params['D'])\n",
    "\n",
    "    print(params)\n",
    "\n",
    "\n",
    "    result = {\n",
    "        'idx':idx,\n",
    "        'window_time':window_time,   \n",
    "        'cluster_time':cluster_time,\n",
    "        'sequence_time':sequence_time\n",
    "    }\n",
    "\n",
    "    results.append(result)\n",
    "\n",
    "    with open(filename, 'w') as results_file:\n",
    "        json.dump(results, results_file, indent=4)\n",
    "    \n",
    "    \n",
    "    "
   ]
  },
  {
   "cell_type": "code",
   "execution_count": 46,
   "id": "648466b2",
   "metadata": {},
   "outputs": [
    {
     "data": {
      "text/plain": [
       "11"
      ]
     },
     "execution_count": 46,
     "metadata": {},
     "output_type": "execute_result"
    }
   ],
   "source": [
    "params['D']"
   ]
  },
  {
   "cell_type": "code",
   "execution_count": 33,
   "id": "94563d60",
   "metadata": {},
   "outputs": [
    {
     "data": {
      "text/plain": [
       "{'M': 16,\n",
       " 'N': 10,\n",
       " 'D': 11,\n",
       " 'T': 1000,\n",
       " 'seed': 0,\n",
       " 'num_SM_events': 8,\n",
       " 'SM_total_spikes': 5,\n",
       " 'noise': 1000}"
      ]
     },
     "execution_count": 33,
     "metadata": {},
     "output_type": "execute_result"
    }
   ],
   "source": [
    "params"
   ]
  },
  {
   "cell_type": "code",
   "execution_count": 48,
   "id": "618eb603",
   "metadata": {},
   "outputs": [],
   "source": [
    "df = pd.read_json(filename)"
   ]
  },
  {
   "cell_type": "code",
   "execution_count": 49,
   "id": "3bac9614",
   "metadata": {},
   "outputs": [
    {
     "data": {
      "text/html": [
       "<div>\n",
       "<style scoped>\n",
       "    .dataframe tbody tr th:only-of-type {\n",
       "        vertical-align: middle;\n",
       "    }\n",
       "\n",
       "    .dataframe tbody tr th {\n",
       "        vertical-align: top;\n",
       "    }\n",
       "\n",
       "    .dataframe thead th {\n",
       "        text-align: right;\n",
       "    }\n",
       "</style>\n",
       "<table border=\"1\" class=\"dataframe\">\n",
       "  <thead>\n",
       "    <tr style=\"text-align: right;\">\n",
       "      <th></th>\n",
       "      <th>idx</th>\n",
       "      <th>test</th>\n",
       "      <th>window_time</th>\n",
       "      <th>cluster_time</th>\n",
       "      <th>sequence_time</th>\n",
       "    </tr>\n",
       "  </thead>\n",
       "  <tbody>\n",
       "    <tr>\n",
       "      <th>0</th>\n",
       "      <td>6090</td>\n",
       "      <td>test</td>\n",
       "      <td>NaN</td>\n",
       "      <td>NaN</td>\n",
       "      <td>NaN</td>\n",
       "    </tr>\n",
       "    <tr>\n",
       "      <th>1</th>\n",
       "      <td>12262</td>\n",
       "      <td>test</td>\n",
       "      <td>NaN</td>\n",
       "      <td>NaN</td>\n",
       "      <td>NaN</td>\n",
       "    </tr>\n",
       "    <tr>\n",
       "      <th>2</th>\n",
       "      <td>6635</td>\n",
       "      <td>test</td>\n",
       "      <td>NaN</td>\n",
       "      <td>NaN</td>\n",
       "      <td>NaN</td>\n",
       "    </tr>\n",
       "    <tr>\n",
       "      <th>3</th>\n",
       "      <td>15176</td>\n",
       "      <td>NaN</td>\n",
       "      <td>0.860845</td>\n",
       "      <td>1.173667</td>\n",
       "      <td>0.001995</td>\n",
       "    </tr>\n",
       "    <tr>\n",
       "      <th>4</th>\n",
       "      <td>4466</td>\n",
       "      <td>NaN</td>\n",
       "      <td>0.059833</td>\n",
       "      <td>0.575803</td>\n",
       "      <td>0.000000</td>\n",
       "    </tr>\n",
       "  </tbody>\n",
       "</table>\n",
       "</div>"
      ],
      "text/plain": [
       "     idx  test  window_time  cluster_time  sequence_time\n",
       "0   6090  test          NaN           NaN            NaN\n",
       "1  12262  test          NaN           NaN            NaN\n",
       "2   6635  test          NaN           NaN            NaN\n",
       "3  15176   NaN     0.860845      1.173667       0.001995\n",
       "4   4466   NaN     0.059833      0.575803       0.000000"
      ]
     },
     "execution_count": 49,
     "metadata": {},
     "output_type": "execute_result"
    }
   ],
   "source": [
    "df.head()"
   ]
  },
  {
   "cell_type": "code",
   "execution_count": 51,
   "id": "f550d78a",
   "metadata": {},
   "outputs": [
    {
     "name": "stdout",
     "output_type": "stream",
     "text": [
      "15867 Windows\n",
      "38 patterns found...... 97% 10.01 | opt_cutoff - 0.38 | most_detections - 19tections - 199detections - 7\n"
     ]
    },
    {
     "ename": "KeyboardInterrupt",
     "evalue": "",
     "output_type": "error",
     "traceback": [
      "\u001b[1;31m---------------------------------------------------------------------------\u001b[0m",
      "\u001b[1;31mKeyboardInterrupt\u001b[0m                         Traceback (most recent call last)",
      "Cell \u001b[1;32mIn[51], line 24\u001b[0m\n\u001b[0;32m     22\u001b[0m start \u001b[38;5;241m=\u001b[39m time\u001b[38;5;241m.\u001b[39mtime()\n\u001b[0;32m     23\u001b[0m A_dense, A_sparse, B_dense, B_sparse, K_dense, K_sparse \u001b[38;5;241m=\u001b[39m simulate_data\u001b[38;5;241m.\u001b[39mgenerate_synthetic_data(params)\n\u001b[1;32m---> 24\u001b[0m pattern_template, sublist_keys_filt, window_time, cluster_time, sequence_time \u001b[38;5;241m=\u001b[39m scan\u001b[38;5;241m.\u001b[39mscan_raster(A_sparse[\u001b[38;5;241m1\u001b[39m], A_sparse[\u001b[38;5;241m0\u001b[39m], window_dim\u001b[38;5;241m=\u001b[39mparams[\u001b[38;5;124m'\u001b[39m\u001b[38;5;124mD\u001b[39m\u001b[38;5;124m'\u001b[39m])\n\u001b[0;32m     25\u001b[0m end \u001b[38;5;241m=\u001b[39m time\u001b[38;5;241m.\u001b[39mtime()\n\u001b[0;32m     26\u001b[0m \u001b[38;5;28mprint\u001b[39m(end\u001b[38;5;241m-\u001b[39mstart)\n",
      "File \u001b[1;32m~\\Projects\\thesis_notebooks\\2023.09.26 - Final Drafts\\scan.py:119\u001b[0m, in \u001b[0;36mscan_raster\u001b[1;34m(T_labels, N_labels, window_dim)\u001b[0m\n\u001b[0;32m    116\u001b[0m \u001b[38;5;28mprint\u001b[39m(\u001b[38;5;124mf\u001b[39m\u001b[38;5;124m\"\u001b[39m\u001b[38;5;132;01m{\u001b[39;00m\u001b[38;5;28mlen\u001b[39m(pattern_template)\u001b[38;5;132;01m}\u001b[39;00m\u001b[38;5;124m patterns found...\u001b[39m\u001b[38;5;124m\"\u001b[39m)\n\u001b[0;32m    118\u001b[0m \u001b[38;5;28;01mfor\u001b[39;00m i,pattern \u001b[38;5;129;01min\u001b[39;00m \u001b[38;5;28menumerate\u001b[39m(pattern_template):\n\u001b[1;32m--> 119\u001b[0m     counts \u001b[38;5;241m=\u001b[39m [pattern\u001b[38;5;241m.\u001b[39mcount(k) \u001b[38;5;28;01mfor\u001b[39;00m k \u001b[38;5;129;01min\u001b[39;00m pattern]\n\u001b[0;32m    120\u001b[0m     pattern_template[i] \u001b[38;5;241m=\u001b[39m np\u001b[38;5;241m.\u001b[39marray(pattern)[np\u001b[38;5;241m.\u001b[39mwhere(counts \u001b[38;5;241m==\u001b[39m np\u001b[38;5;241m.\u001b[39mmax(counts))[\u001b[38;5;241m0\u001b[39m]]\n\u001b[0;32m    121\u001b[0m     pattern_template[i][:,\u001b[38;5;241m0\u001b[39m] \u001b[38;5;241m-\u001b[39m\u001b[38;5;241m=\u001b[39m \u001b[38;5;28mmin\u001b[39m(pattern_template[i][:,\u001b[38;5;241m0\u001b[39m])\n",
      "File \u001b[1;32m~\\Projects\\thesis_notebooks\\2023.09.26 - Final Drafts\\scan.py:119\u001b[0m, in \u001b[0;36m<listcomp>\u001b[1;34m(.0)\u001b[0m\n\u001b[0;32m    116\u001b[0m \u001b[38;5;28mprint\u001b[39m(\u001b[38;5;124mf\u001b[39m\u001b[38;5;124m\"\u001b[39m\u001b[38;5;132;01m{\u001b[39;00m\u001b[38;5;28mlen\u001b[39m(pattern_template)\u001b[38;5;132;01m}\u001b[39;00m\u001b[38;5;124m patterns found...\u001b[39m\u001b[38;5;124m\"\u001b[39m)\n\u001b[0;32m    118\u001b[0m \u001b[38;5;28;01mfor\u001b[39;00m i,pattern \u001b[38;5;129;01min\u001b[39;00m \u001b[38;5;28menumerate\u001b[39m(pattern_template):\n\u001b[1;32m--> 119\u001b[0m     counts \u001b[38;5;241m=\u001b[39m [pattern\u001b[38;5;241m.\u001b[39mcount(k) \u001b[38;5;28;01mfor\u001b[39;00m k \u001b[38;5;129;01min\u001b[39;00m pattern]\n\u001b[0;32m    120\u001b[0m     pattern_template[i] \u001b[38;5;241m=\u001b[39m np\u001b[38;5;241m.\u001b[39marray(pattern)[np\u001b[38;5;241m.\u001b[39mwhere(counts \u001b[38;5;241m==\u001b[39m np\u001b[38;5;241m.\u001b[39mmax(counts))[\u001b[38;5;241m0\u001b[39m]]\n\u001b[0;32m    121\u001b[0m     pattern_template[i][:,\u001b[38;5;241m0\u001b[39m] \u001b[38;5;241m-\u001b[39m\u001b[38;5;241m=\u001b[39m \u001b[38;5;28mmin\u001b[39m(pattern_template[i][:,\u001b[38;5;241m0\u001b[39m])\n",
      "\u001b[1;31mKeyboardInterrupt\u001b[0m: "
     ]
    }
   ],
   "source": [
    "N = 1000\n",
    "M = 10\n",
    "D = 71\n",
    "T = 1000\n",
    "seed=0\n",
    "\n",
    "num_SM_events = 10\n",
    "SM_total_spikes = 150\n",
    "noise = 1000\n",
    "\n",
    "params = {\n",
    "    'N':N,\n",
    "    'M':M,\n",
    "    'D':D,\n",
    "    'T':T,\n",
    "    'seed':seed,\n",
    "    'num_SM_events':num_SM_events,\n",
    "    'SM_total_spikes':SM_total_spikes,\n",
    "    'noise':noise\n",
    "}\n",
    "\n",
    "start = time.time()\n",
    "A_dense, A_sparse, B_dense, B_sparse, K_dense, K_sparse = simulate_data.generate_synthetic_data(params)\n",
    "pattern_template, sublist_keys_filt, window_time, cluster_time, sequence_time = scan.scan_raster(A_sparse[1], A_sparse[0], window_dim=params['D'])\n",
    "end = time.time()\n",
    "print(end-start)"
   ]
  }
 ],
 "metadata": {
  "kernelspec": {
   "display_name": "Python 3 (ipykernel)",
   "language": "python",
   "name": "python3"
  },
  "language_info": {
   "codemirror_mode": {
    "name": "ipython",
    "version": 3
   },
   "file_extension": ".py",
   "mimetype": "text/x-python",
   "name": "python",
   "nbconvert_exporter": "python",
   "pygments_lexer": "ipython3",
   "version": "3.11.3"
  }
 },
 "nbformat": 4,
 "nbformat_minor": 5
}
