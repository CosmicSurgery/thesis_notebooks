{
 "cells": [
  {
   "cell_type": "code",
   "execution_count": 60,
   "id": "964ad278",
   "metadata": {},
   "outputs": [],
   "source": [
    "import torch\n",
    "import torch.nn as nn\n",
    "import snntorch as snn\n",
    "import matplotlib.pyplot as plt\n",
    "import numpy as np"
   ]
  },
  {
   "cell_type": "code",
   "execution_count": 14,
   "id": "0362b354",
   "metadata": {},
   "outputs": [
    {
     "name": "stdout",
     "output_type": "stream",
     "text": [
      "Using cpu device\n"
     ]
    }
   ],
   "source": [
    "# Get cpu, gpu or mps device for training.\n",
    "device = (\n",
    "    \"cuda\"\n",
    "    if torch.cuda.is_available()\n",
    "    else \"mps\"\n",
    "    if torch.backends.mps.is_available()\n",
    "    else \"cpu\"\n",
    ")\n",
    "print(f\"Using {device} device\")"
   ]
  },
  {
   "cell_type": "code",
   "execution_count": 17,
   "id": "7339c2c4",
   "metadata": {},
   "outputs": [],
   "source": [
    "batch_size = 128\n",
    "data_path='/data/mnist'\n",
    "device = torch.device(\"cuda\") if torch.cuda.is_available() else torch.device(\"cpu\")"
   ]
  },
  {
   "cell_type": "code",
   "execution_count": 18,
   "id": "b8ece2c7",
   "metadata": {},
   "outputs": [
    {
     "name": "stdout",
     "output_type": "stream",
     "text": [
      "Downloading http://yann.lecun.com/exdb/mnist/train-images-idx3-ubyte.gz\n",
      "Downloading http://yann.lecun.com/exdb/mnist/train-images-idx3-ubyte.gz to /data/mnist\\MNIST\\raw\\train-images-idx3-ubyte.gz\n"
     ]
    },
    {
     "name": "stderr",
     "output_type": "stream",
     "text": [
      "100%|██████████████████████████████████████████████████████████████████| 9912422/9912422 [00:00<00:00, 10799469.49it/s]\n"
     ]
    },
    {
     "name": "stdout",
     "output_type": "stream",
     "text": [
      "Extracting /data/mnist\\MNIST\\raw\\train-images-idx3-ubyte.gz to /data/mnist\\MNIST\\raw\n",
      "\n",
      "Downloading http://yann.lecun.com/exdb/mnist/train-labels-idx1-ubyte.gz\n",
      "Downloading http://yann.lecun.com/exdb/mnist/train-labels-idx1-ubyte.gz to /data/mnist\\MNIST\\raw\\train-labels-idx1-ubyte.gz\n"
     ]
    },
    {
     "name": "stderr",
     "output_type": "stream",
     "text": [
      "100%|███████████████████████████████████████████████████████████████████████| 28881/28881 [00:00<00:00, 9816506.79it/s]"
     ]
    },
    {
     "name": "stdout",
     "output_type": "stream",
     "text": [
      "Extracting /data/mnist\\MNIST\\raw\\train-labels-idx1-ubyte.gz to /data/mnist\\MNIST\\raw\n",
      "\n",
      "Downloading http://yann.lecun.com/exdb/mnist/t10k-images-idx3-ubyte.gz\n"
     ]
    },
    {
     "name": "stderr",
     "output_type": "stream",
     "text": [
      "\n"
     ]
    },
    {
     "name": "stdout",
     "output_type": "stream",
     "text": [
      "Downloading http://yann.lecun.com/exdb/mnist/t10k-images-idx3-ubyte.gz to /data/mnist\\MNIST\\raw\\t10k-images-idx3-ubyte.gz\n"
     ]
    },
    {
     "name": "stderr",
     "output_type": "stream",
     "text": [
      "100%|███████████████████████████████████████████████████████████████████| 1648877/1648877 [00:00<00:00, 9856428.79it/s]\n"
     ]
    },
    {
     "name": "stdout",
     "output_type": "stream",
     "text": [
      "Extracting /data/mnist\\MNIST\\raw\\t10k-images-idx3-ubyte.gz to /data/mnist\\MNIST\\raw\n",
      "\n",
      "Downloading http://yann.lecun.com/exdb/mnist/t10k-labels-idx1-ubyte.gz\n",
      "Downloading http://yann.lecun.com/exdb/mnist/t10k-labels-idx1-ubyte.gz to /data/mnist\\MNIST\\raw\\t10k-labels-idx1-ubyte.gz\n"
     ]
    },
    {
     "name": "stderr",
     "output_type": "stream",
     "text": [
      "100%|█████████████████████████████████████████████████████████████████████████| 4542/4542 [00:00<00:00, 2275505.11it/s]"
     ]
    },
    {
     "name": "stdout",
     "output_type": "stream",
     "text": [
      "Extracting /data/mnist\\MNIST\\raw\\t10k-labels-idx1-ubyte.gz to /data/mnist\\MNIST\\raw\n",
      "\n"
     ]
    },
    {
     "name": "stderr",
     "output_type": "stream",
     "text": [
      "\n"
     ]
    }
   ],
   "source": [
    "from torch.utils.data import DataLoader\n",
    "from torchvision import datasets, transforms\n",
    "\n",
    "# Define a transform\n",
    "transform = transforms.Compose([\n",
    "            transforms.Resize((28, 28)),\n",
    "            transforms.Grayscale(),\n",
    "            transforms.ToTensor(),\n",
    "            transforms.Normalize((0,), (1,))])\n",
    "\n",
    "mnist_train = datasets.MNIST(data_path, train=True, download=True, transform=transform)\n",
    "mnist_test = datasets.MNIST(data_path, train=False, download=True, transform=transform)\n",
    "\n",
    "# Create DataLoaders\n",
    "train_loader = DataLoader(mnist_train, batch_size=batch_size, shuffle=True)\n",
    "test_loader = DataLoader(mnist_test, batch_size=batch_size, shuffle=True)"
   ]
  },
  {
   "cell_type": "code",
   "execution_count": 19,
   "id": "cd9dda81",
   "metadata": {},
   "outputs": [],
   "source": [
    "from snntorch import surrogate\n",
    "\n",
    "beta = 0.9  # neuron decay rate\n",
    "spike_grad = surrogate.fast_sigmoid() # fast sigmoid surrogate gradient\n",
    "\n",
    "#  Initialize Convolutional SNN\n",
    "net = nn.Sequential(nn.Conv2d(1, 8, 5),\n",
    "                    nn.MaxPool2d(2),\n",
    "                    snn.Leaky(beta=beta, spike_grad=spike_grad, init_hidden=True),\n",
    "                    nn.Conv2d(8, 16, 5),\n",
    "                    nn.MaxPool2d(2),\n",
    "                    snn.Leaky(beta=beta, spike_grad=spike_grad, init_hidden=True),\n",
    "                    nn.Flatten(),\n",
    "                    nn.Linear(16*4*4, 10),\n",
    "                    snn.Leaky(beta=beta, spike_grad=spike_grad, init_hidden=True, output=True)\n",
    "                    ).to(device)"
   ]
  },
  {
   "cell_type": "code",
   "execution_count": 22,
   "id": "97795535",
   "metadata": {},
   "outputs": [],
   "source": [
    "import snntorch.functional as SF\n",
    "\n",
    "optimizer = torch.optim.Adam(net.parameters(), lr=2e-3, betas=(0.9, 0.999))\n",
    "loss_fn = SF.mse_count_loss(correct_rate=0.8, incorrect_rate=0.2)"
   ]
  },
  {
   "cell_type": "code",
   "execution_count": null,
   "id": "375cbe1d",
   "metadata": {},
   "outputs": [],
   "source": []
  },
  {
   "cell_type": "code",
   "execution_count": 43,
   "id": "a7686235",
   "metadata": {},
   "outputs": [],
   "source": [
    "import torch.nn.functional as F\n",
    "\n",
    "# Define Network\n",
    "class Net(nn.Module):\n",
    "    def __init__(self):\n",
    "        super().__init__()\n",
    "\n",
    "        num_inputs = 784 # number of inputs\n",
    "        num_hidden = 300 # number of hidden neurons\n",
    "        num_outputs = 10 # number of classes (i.e., output neurons)\n",
    "\n",
    "        beta1 = 0.9 # global decay rate for all leaky neurons in layer 1\n",
    "        beta2 = torch.rand((num_outputs), dtype = torch.float) # independent decay rate for each leaky neuron in layer 2: [0, 1)\n",
    "\n",
    "        # Initialize layers\n",
    "        self.fc1 = nn.Linear(num_inputs, num_hidden)\n",
    "        self.lif1 = snn.Leaky(beta=beta1) # not a learnable decay rate\n",
    "        self.fc2 = nn.Linear(num_hidden, num_outputs)\n",
    "        self.lif2 = snn.Leaky(beta=beta2, learn_beta=True) # learnable decay rate\n",
    "\n",
    "    def forward(self, x):\n",
    "        mem1 = self.lif1.init_leaky() # reset/init hidden states at t=0\n",
    "        mem2 = self.lif2.init_leaky() # reset/init hidden states at t=0\n",
    "        spk2_rec = [] # record output spikes\n",
    "        mem2_rec = [] # record output hidden states\n",
    "\n",
    "        for step in range(num_steps): # loop over time\n",
    "            cur1 = self.fc1(x.flatten(1))\n",
    "            spk1, mem1 = self.lif1(cur1, mem1)\n",
    "            cur2 = self.fc2(spk1)\n",
    "            spk2, mem2 = self.lif2(cur2, mem2)\n",
    "\n",
    "            spk2_rec.append(spk2) # record spikes\n",
    "            mem2_rec.append(mem2) # record membrane\n",
    "\n",
    "        return torch.stack(spk2_rec), torch.stack(mem2_rec)\n",
    "\n",
    "# Load the network onto CUDA if available\n",
    "net = Net().to(device)"
   ]
  },
  {
   "cell_type": "code",
   "execution_count": null,
   "id": "8efca209",
   "metadata": {},
   "outputs": [],
   "source": []
  },
  {
   "cell_type": "code",
   "execution_count": 44,
   "id": "89d4d31f",
   "metadata": {
    "scrolled": true
   },
   "outputs": [
    {
     "name": "stdout",
     "output_type": "stream",
     "text": [
      "Epoch 0, Iteration 0 \n",
      "Train Loss: 2.48\n",
      "Accuracy: 16.41%\n",
      "\n",
      "Epoch 0, Iteration 25 \n",
      "Train Loss: 0.62\n",
      "Accuracy: 72.66%\n",
      "\n",
      "Epoch 0, Iteration 50 \n",
      "Train Loss: 0.40\n",
      "Accuracy: 80.47%\n",
      "\n",
      "Epoch 0, Iteration 75 \n",
      "Train Loss: 0.25\n",
      "Accuracy: 95.31%\n",
      "\n",
      "Epoch 0, Iteration 100 \n",
      "Train Loss: 0.23\n",
      "Accuracy: 93.75%\n",
      "\n",
      "Epoch 0, Iteration 125 \n",
      "Train Loss: 0.22\n",
      "Accuracy: 89.84%\n",
      "\n",
      "Epoch 0, Iteration 150 \n",
      "Train Loss: 0.19\n",
      "Accuracy: 93.75%\n",
      "\n",
      "Epoch 0, Iteration 175 \n",
      "Train Loss: 0.19\n",
      "Accuracy: 92.97%\n",
      "\n",
      "Epoch 0, Iteration 200 \n",
      "Train Loss: 0.15\n",
      "Accuracy: 96.09%\n",
      "\n",
      "Epoch 0, Iteration 225 \n",
      "Train Loss: 0.16\n",
      "Accuracy: 96.09%\n",
      "\n",
      "Epoch 0, Iteration 250 \n",
      "Train Loss: 0.13\n",
      "Accuracy: 95.31%\n",
      "\n",
      "Epoch 0, Iteration 275 \n",
      "Train Loss: 0.13\n",
      "Accuracy: 95.31%\n",
      "\n",
      "Epoch 0, Iteration 300 \n",
      "Train Loss: 0.17\n",
      "Accuracy: 92.19%\n",
      "\n",
      "Epoch 0, Iteration 325 \n",
      "Train Loss: 0.14\n",
      "Accuracy: 96.88%\n",
      "\n",
      "Epoch 0, Iteration 350 \n",
      "Train Loss: 0.14\n",
      "Accuracy: 95.31%\n",
      "\n",
      "Epoch 0, Iteration 375 \n",
      "Train Loss: 0.13\n",
      "Accuracy: 95.31%\n",
      "\n",
      "Epoch 0, Iteration 400 \n",
      "Train Loss: 0.12\n",
      "Accuracy: 95.31%\n",
      "\n",
      "Epoch 0, Iteration 425 \n",
      "Train Loss: 0.12\n",
      "Accuracy: 96.88%\n",
      "\n",
      "Epoch 0, Iteration 450 \n",
      "Train Loss: 0.13\n",
      "Accuracy: 97.66%\n",
      "\n"
     ]
    }
   ],
   "source": [
    "optimizer = torch.optim.Adam(net.parameters(), lr=2e-3, betas=(0.9, 0.999))\n",
    "loss_fn = SF.mse_count_loss(correct_rate=0.8, incorrect_rate=0.2)\n",
    "\n",
    "num_epochs = 1 # run for 1 epoch - each data sample is seen only once\n",
    "num_steps = 25  # run for 25 time steps\n",
    "\n",
    "loss_hist = [] # record loss over iterations\n",
    "acc_hist = [] # record accuracy over iterations\n",
    "\n",
    "# training loop\n",
    "for epoch in range(num_epochs):\n",
    "    for i, (data, targets) in enumerate(iter(train_loader)):\n",
    "        data = data.to(device)\n",
    "        targets = targets.to(device)\n",
    "\n",
    "        net.train()\n",
    "        spk_rec, _ = net(data) # forward-pass\n",
    "        loss_val = loss_fn(spk_rec, targets) # loss calculation\n",
    "        optimizer.zero_grad() # null gradients\n",
    "        loss_val.backward() # calculate gradients\n",
    "        optimizer.step() # update weights\n",
    "        loss_hist.append(loss_val.item()) # store loss\n",
    "\n",
    "        # print every 25 iterations\n",
    "        if i % 25 == 0:\n",
    "          net.eval()\n",
    "          print(f\"Epoch {epoch}, Iteration {i} \\nTrain Loss: {loss_val.item():.2f}\")\n",
    "\n",
    "          # check accuracy on a single batch\n",
    "          acc = SF.accuracy_rate(spk_rec, targets)\n",
    "          acc_hist.append(acc)\n",
    "          print(f\"Accuracy: {acc * 100:.2f}%\\n\")\n",
    "\n",
    "        # uncomment for faster termination\n",
    "        # if i == 150:\n",
    "        #     break"
   ]
  },
  {
   "cell_type": "code",
   "execution_count": 62,
   "id": "377922d8",
   "metadata": {},
   "outputs": [
    {
     "data": {
      "text/plain": [
       "(array([ 0,  0,  1, ..., 24, 24, 24], dtype=int64),\n",
       " array([62, 71,  0, ..., 95, 95, 95], dtype=int64),\n",
       " array([7, 7, 9, ..., 3, 7, 9], dtype=int64))"
      ]
     },
     "execution_count": 62,
     "metadata": {},
     "output_type": "execute_result"
    }
   ],
   "source": [
    "spk_rec.shape\n",
    "np.where(spk_rec.detach().numpy())"
   ]
  },
  {
   "cell_type": "code",
   "execution_count": 66,
   "id": "8a70856c",
   "metadata": {},
   "outputs": [],
   "source": [
    "temp = spk_rec[:,0,:]"
   ]
  },
  {
   "cell_type": "code",
   "execution_count": 71,
   "id": "a223c884",
   "metadata": {},
   "outputs": [
    {
     "data": {
      "image/png": "[encoded data removed]",
      "text/plain": [
       "<Figure size 640x480 with 1 Axes>"
      ]
     },
     "metadata": {},
     "output_type": "display_data"
    }
   ],
   "source": [
    "plt.figure()\n",
    "plt.scatter(np.where(temp.detach().numpy())[0], np.where(temp.detach().numpy())[1],alpha=1)\n",
    "plt.show()"
   ]
  },
  {
   "cell_type": "code",
   "execution_count": 51,
   "id": "12f216bf",
   "metadata": {},
   "outputs": [
    {
     "data": {
      "text/plain": [
       "(torch.Size([128, 1, 28, 28]), torch.Size([128]))"
      ]
     },
     "execution_count": 51,
     "metadata": {},
     "output_type": "execute_result"
    }
   ],
   "source": [
    "data, targets = next(enumerate(train_loader))\n",
    "targets[0].shape,targets[1].shape"
   ]
  },
  {
   "cell_type": "code",
   "execution_count": 45,
   "id": "c2858ff4",
   "metadata": {},
   "outputs": [
    {
     "name": "stdout",
     "output_type": "stream",
     "text": [
      "Trained decay rate of the first layer: 0.900\n",
      "\n",
      "Trained decay rates of the second layer: Parameter containing:\n",
      "tensor([0.3060, 0.3592, 0.7304, 0.8296, 0.8427, 0.5422, 0.5867, 0.4185, 0.9465,\n",
      "        0.5542], requires_grad=True)\n"
     ]
    }
   ],
   "source": [
    "print(f\"Trained decay rate of the first layer: {net.lif1.beta:.3f}\\n\")\n",
    "\n",
    "print(f\"Trained decay rates of the second layer: {net.lif2.beta}\")"
   ]
  },
  {
   "cell_type": "code",
   "execution_count": 47,
   "id": "c93726bf",
   "metadata": {},
   "outputs": [
    {
     "ename": "AttributeError",
     "evalue": "'Net' object has no attribute 'mem2_rec'",
     "output_type": "error",
     "traceback": [
      "\u001b[1;31m---------------------------------------------------------------------------\u001b[0m",
      "\u001b[1;31mAttributeError\u001b[0m                            Traceback (most recent call last)",
      "Cell \u001b[1;32mIn[47], line 1\u001b[0m\n\u001b[1;32m----> 1\u001b[0m net\u001b[38;5;241m.\u001b[39mmem2_rec\n",
      "File \u001b[1;32m~\\anaconda3\\envs\\mysnn\\Lib\\site-packages\\torch\\nn\\modules\\module.py:1614\u001b[0m, in \u001b[0;36mModule.__getattr__\u001b[1;34m(self, name)\u001b[0m\n\u001b[0;32m   1612\u001b[0m     \u001b[38;5;28;01mif\u001b[39;00m name \u001b[38;5;129;01min\u001b[39;00m modules:\n\u001b[0;32m   1613\u001b[0m         \u001b[38;5;28;01mreturn\u001b[39;00m modules[name]\n\u001b[1;32m-> 1614\u001b[0m \u001b[38;5;28;01mraise\u001b[39;00m \u001b[38;5;167;01mAttributeError\u001b[39;00m(\u001b[38;5;124m\"\u001b[39m\u001b[38;5;124m'\u001b[39m\u001b[38;5;132;01m{}\u001b[39;00m\u001b[38;5;124m'\u001b[39m\u001b[38;5;124m object has no attribute \u001b[39m\u001b[38;5;124m'\u001b[39m\u001b[38;5;132;01m{}\u001b[39;00m\u001b[38;5;124m'\u001b[39m\u001b[38;5;124m\"\u001b[39m\u001b[38;5;241m.\u001b[39mformat(\n\u001b[0;32m   1615\u001b[0m     \u001b[38;5;28mtype\u001b[39m(\u001b[38;5;28mself\u001b[39m)\u001b[38;5;241m.\u001b[39m\u001b[38;5;18m__name__\u001b[39m, name))\n",
      "\u001b[1;31mAttributeError\u001b[0m: 'Net' object has no attribute 'mem2_rec'"
     ]
    }
   ],
   "source": [
    "net.mem2_rec"
   ]
  }
 ],
 "metadata": {
  "kernelspec": {
   "display_name": "Python 3 (ipykernel)",
   "language": "python",
   "name": "python3"
  },
  "language_info": {
   "codemirror_mode": {
    "name": "ipython",
    "version": 3
   },
   "file_extension": ".py",
   "mimetype": "text/x-python",
   "name": "python",
   "nbconvert_exporter": "python",
   "pygments_lexer": "ipython3",
   "version": "3.11.3"
  }
 },
 "nbformat": 4,
 "nbformat_minor": 5
}
