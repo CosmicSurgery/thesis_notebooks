{
 "cells": [
  {
   "cell_type": "code",
   "execution_count": 2,
   "id": "19babb67",
   "metadata": {},
   "outputs": [],
   "source": [
    "import numpy as np\n",
    "import matplotlib.pyplot as plt"
   ]
  },
  {
   "cell_type": "code",
   "execution_count": 7,
   "id": "c2ad416c",
   "metadata": {},
   "outputs": [],
   "source": [
    "import torch\n",
    "import torchvision"
   ]
  },
  {
   "cell_type": "code",
   "execution_count": 9,
   "id": "2bfa3e46",
   "metadata": {},
   "outputs": [],
   "source": [
    "n_epochs = 3\n",
    "batch_size_train = 64\n",
    "batch_size_test = 1000\n",
    "learning_rate = 0.01"
   ]
  },
  {
   "cell_type": "code",
   "execution_count": 10,
   "id": "0db11a35",
   "metadata": {},
   "outputs": [],
   "source": [
    "train_loader = torch.utils.data.DataLoader(\n",
    "  torchvision.datasets.MNIST('/files/', train=True, download=True,\n",
    "                             transform=torchvision.transforms.Compose([\n",
    "                               torchvision.transforms.ToTensor(),\n",
    "                               torchvision.transforms.Normalize(\n",
    "                                 (0.1307,), (0.3081,))\n",
    "                             ])),\n",
    "  batch_size=batch_size_train, shuffle=True)\n",
    "\n",
    "test_loader = torch.utils.data.DataLoader(\n",
    "  torchvision.datasets.MNIST('/files/', train=False, download=True,\n",
    "                             transform=torchvision.transforms.Compose([\n",
    "                               torchvision.transforms.ToTensor(),\n",
    "                               torchvision.transforms.Normalize(\n",
    "                                 (0.1307,), (0.3081,))\n",
    "                             ])),\n",
    "  batch_size=batch_size_test, shuffle=True)"
   ]
  },
  {
   "cell_type": "code",
   "execution_count": 11,
   "id": "f8439029",
   "metadata": {},
   "outputs": [],
   "source": [
    "examples = enumerate(test_loader)\n",
    "batch_idx, (example_data, example_targets) = next(examples)"
   ]
  },
  {
   "cell_type": "code",
   "execution_count": 18,
   "id": "a5be7ef1",
   "metadata": {},
   "outputs": [
    {
     "data": {
      "text/plain": [
       "<matplotlib.image.AxesImage at 0x1c5d11b53d0>"
      ]
     },
     "execution_count": 18,
     "metadata": {},
     "output_type": "execute_result"
    },
    {
     "data": {
      "image/png": "[encoded data removed]",
      "text/plain": [
       "<Figure size 640x480 with 1 Axes>"
      ]
     },
     "metadata": {},
     "output_type": "display_data"
    }
   ],
   "source": [
    "plt.figure()\n",
    "plt.imshow(example_data[0,0], cmap='gray')"
   ]
  },
  {
   "cell_type": "code",
   "execution_count": 143,
   "id": "cc880766",
   "metadata": {},
   "outputs": [
    {
     "data": {
      "text/plain": [
       "tensor(7)"
      ]
     },
     "execution_count": 143,
     "metadata": {},
     "output_type": "execute_result"
    }
   ],
   "source": [
    "example_targets[0]"
   ]
  },
  {
   "cell_type": "code",
   "execution_count": 110,
   "id": "8b03c2af",
   "metadata": {},
   "outputs": [],
   "source": [
    "layer1 = torch.zeros(len(example_data[0,0].flatten()))\n",
    "layer2 = torch.zeros(10)\n",
    "weights = torch.rand(len(layer1),len(layer2))\n",
    "bias = torch.rand(len(layer2))\n"
   ]
  },
  {
   "cell_type": "code",
   "execution_count": 153,
   "id": "60c217ef",
   "metadata": {},
   "outputs": [],
   "source": [
    "forward = lambda x, weights, bias : torch.matmul(x,weights) + bias\n",
    "softmax = lambda x : torch.exp(x)/torch.sum(torch.exp(x))"
   ]
  },
  {
   "cell_type": "code",
   "execution_count": 157,
   "id": "a9e765b9",
   "metadata": {},
   "outputs": [],
   "source": [
    "result = -torch.log(softmax(forward(example_data[0,0].flatten(),weights,bias)))\n",
    "y_train = torch.zeros(10)\n",
    "y_train[example_targets[0]] =1"
   ]
  },
  {
   "cell_type": "code",
   "execution_count": 160,
   "id": "1f33e50f",
   "metadata": {},
   "outputs": [
    {
     "data": {
      "text/plain": [
       "tensor(15.6546)"
      ]
     },
     "execution_count": 160,
     "metadata": {},
     "output_type": "execute_result"
    }
   ],
   "source": [
    "result[example_targets[0]]"
   ]
  },
  {
   "cell_type": "code",
   "execution_count": 161,
   "id": "589bae48",
   "metadata": {},
   "outputs": [
    {
     "data": {
      "text/plain": [
       "tensor([1.2420e+01, 1.4085e+01, 1.4837e+01, 1.1457e+01, 5.1320e+00, 6.1849e-03,\n",
       "        8.8199e+00, 1.5655e+01, 9.3463e+00, 1.1512e+01])"
      ]
     },
     "execution_count": 161,
     "metadata": {},
     "output_type": "execute_result"
    }
   ],
   "source": [
    "result"
   ]
  },
  {
   "cell_type": "code",
   "execution_count": 156,
   "id": "a456e0bc",
   "metadata": {},
   "outputs": [
    {
     "data": {
      "text/plain": [
       "tensor([4.0385e-06, 7.6406e-07, 3.5998e-07, 1.0573e-05, 5.9049e-03, 9.9383e-01,\n",
       "        1.4777e-04, 1.5896e-07, 8.7288e-05, 1.0005e-05])"
      ]
     },
     "execution_count": 156,
     "metadata": {},
     "output_type": "execute_result"
    }
   ],
   "source": [
    "softmax(forward(example_data[0,0].flatten(),weights,bias))"
   ]
  },
  {
   "cell_type": "code",
   "execution_count": 145,
   "id": "77133f59",
   "metadata": {},
   "outputs": [
    {
     "data": {
      "text/plain": [
       "tensor([0., 0., 0., 0., 0., 0., 0., 1., 0., 0.])"
      ]
     },
     "execution_count": 145,
     "metadata": {},
     "output_type": "execute_result"
    }
   ],
   "source": [
    "y_train = torch.zeros(10)\n",
    "y_train[example_targets[0]] =1\n",
    "y_train"
   ]
  },
  {
   "cell_type": "code",
   "execution_count": 50,
   "id": "bcb0ad50",
   "metadata": {},
   "outputs": [
    {
     "name": "stdout",
     "output_type": "stream",
     "text": [
      "Mean Squared Error: 0.027999991551041603\n"
     ]
    }
   ],
   "source": [
    "def mean_squared_error(y_true, y_pred):\n",
    "    \"\"\"\n",
    "    Calculate the Mean Squared Error (MSE) between two PyTorch tensors.\n",
    "\n",
    "    Parameters:\n",
    "    - y_true: A PyTorch tensor containing the true values.\n",
    "    - y_pred: A PyTorch tensor containing the predicted values.\n",
    "\n",
    "    Returns:\n",
    "    - mse: The Mean Squared Error between the two tensors.\n",
    "    \"\"\"\n",
    "    if y_true.size() != y_pred.size():\n",
    "        raise ValueError(\"Input tensors must have the same shape\")\n",
    "    \n",
    "    mse = torch.mean((y_true - y_pred) ** 2)\n",
    "    \n",
    "    return mse\n",
    "\n",
    "# Example usage:\n",
    "true_values = torch.tensor([1.0, 2.0, 3.0, 4.0, 5.0])\n",
    "predicted_values = torch.tensor([1.1, 2.2, 2.8, 4.2, 4.9])\n",
    "\n",
    "mse = mean_squared_error(true_values, predicted_values)\n",
    "print(\"Mean Squared Error:\", mse.item())  # Use .item() to get the scalar value from the tensor\n"
   ]
  },
  {
   "cell_type": "code",
   "execution_count": null,
   "id": "eb26995e",
   "metadata": {},
   "outputs": [],
   "source": []
  }
 ],
 "metadata": {
  "kernelspec": {
   "display_name": "Python 3 (ipykernel)",
   "language": "python",
   "name": "python3"
  },
  "language_info": {
   "codemirror_mode": {
    "name": "ipython",
    "version": 3
   },
   "file_extension": ".py",
   "mimetype": "text/x-python",
   "name": "python",
   "nbconvert_exporter": "python",
   "pygments_lexer": "ipython3",
   "version": "3.11.3"
  }
 },
 "nbformat": 4,
 "nbformat_minor": 5
}
