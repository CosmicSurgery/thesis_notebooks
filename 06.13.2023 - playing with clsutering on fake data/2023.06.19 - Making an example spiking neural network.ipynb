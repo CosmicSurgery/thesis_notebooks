{
 "cells": [
  {
   "cell_type": "code",
   "execution_count": 291,
   "id": "9cc23df7",
   "metadata": {},
   "outputs": [],
   "source": [
    "import numpy as np\n",
    "import matplotlib.pyplot as plt\n",
    "from scipy.ndimage import gaussian_filter1d\n",
    "from scipy.stats import zscore\n",
    "from sklearn.cluster import KMeans\n",
    "from sklearn.datasets import make_blobs\n",
    "from sklearn.decomposition import PCA\n",
    "from sklearn.preprocessing import StandardScaler\n",
    "\n",
    "from tqdm import tqdm\n"
   ]
  },
  {
   "cell_type": "code",
   "execution_count": 55,
   "id": "460ea2f2",
   "metadata": {},
   "outputs": [],
   "source": [
    "disp_figs = True"
   ]
  },
  {
   "cell_type": "code",
   "execution_count": 338,
   "id": "daa30bd7",
   "metadata": {},
   "outputs": [],
   "source": [
    "# A layer of different Izhikevich neurons that that are very excitable and thus spontaneously generate spikes\n",
    "# N is number of layer 1 neurons, M is number of layer 2 neurons\n",
    "N = 21\n",
    "M = 21 # these are inhibitory neurons?\n",
    "\n",
    "# feed-forward with lateral recurrency in layer 2?\n",
    "\n",
    "rs = {'a': 0.02, 'b': 0.20, 'c': -65.0, 'd': 8.00}\n",
    "ib = {'a': 0.02, 'b': 0.20, 'c': -55.0, 'd': 4.00}\n",
    "ch = {'a': 0.02, 'b': 0.20, 'c': -50.0, 'd': 2.00}\n",
    "fs = {'a': 0.10, 'b': 0.20, 'c': -65.0, 'd': 2.00}\n",
    "th = {'a': 0.02, 'b': 0.25, 'c': -65.0, 'd': 0.05}\n",
    "res = {'a': 0.10, 'b': 0.25, 'c': -65.0, 'd': 2.00}\n",
    "lts = {'a': 0.02, 'b': 0.25, 'c': -65.0, 'd': 2.00}\n",
    "nrns={\n",
    "    'rs':rs,\n",
    "    'in':ib,\n",
    "    'ch':ch,\n",
    "    'fs':fs,\n",
    "    'th':th,\n",
    "    'res':res,\n",
    "    'lts':lts,\n",
    "}\n",
    "nrn_types = np.array([3*[k] for k in nrns]).flatten()\n",
    "\n",
    "a = [nrns[k]['a'] for k in nrn_types]\n",
    "b = [nrns[k]['b'] for k in nrn_types]\n",
    "c = [nrns[k]['c'] for k in nrn_types]\n",
    "d = [nrns[k]['d'] for k in nrn_types]\n",
    "paramsl1 = np.array([a,b,c,d])\n",
    "paramsl2 = np.array([a,b,c,d])\n",
    "\n",
    "T = 10000 # length in samples\n",
    "dt = 0.1\n",
    "\n",
    "\n",
    "coincident_psps = 2\n",
    "psp_amp = 120/coincident_psps*np.ones((N))\n",
    "\n",
    "\n",
    "\n",
    "S = {'weights':np.random.randint(5,10,(N,M))/N, # set of all synapses (should be a )\n",
    "     'delays':np.random.randint(2,20,(N,M))  # fixed delays\n",
    "    }\n",
    "\n",
    "init_S = S.copy()"
   ]
  },
  {
   "cell_type": "code",
   "execution_count": 414,
   "id": "3fc6ffa0",
   "metadata": {},
   "outputs": [],
   "source": [
    "def run_l1(T,params,dt=0.1):\n",
    "    N=params.shape[1]\n",
    "    a,b,c,d = params\n",
    "    \n",
    "    V_0 = c\n",
    "    u_0 = -14\n",
    "    V_spike = 35\n",
    "\n",
    "    V = np.zeros((T,N))\n",
    "    u = np.zeros((T,N))\n",
    "    V[0,...] = V_0*np.ones(N)\n",
    "    u[0,...] = u_0*np.ones(N)\n",
    "    spikes = np.zeros((T,N))\n",
    "    stim = np.zeros(T)\n",
    "\n",
    "\n",
    "    spikes = np.zeros_like(V)\n",
    "    for t in tqdm (range(1, len(V[:,0]))):\n",
    "        noise = np.random.randint(8,10,N)/10\n",
    "        # if we still didnt reach spike potential\n",
    "        for i in range(V.shape[1]):\n",
    "            stim[t] = (1+np.sin(t*dt**2.5*noise[i]))\n",
    "            if V[t-1,i] < V_spike:\n",
    "                # ODE for membrane potential\n",
    "                dV      = (0.04 * V[t-1,i] + 5) * V[t-1,i] + 140 - u[t-1,i]\n",
    "                V[t,i]    = V[t-1,i] + (dV + 3*stim[t]) * dt # these cells have a low base input... lol\n",
    "                # ODE for recovery variable\n",
    "                du      = a[i] * (b[i] * V[t-1,i] - u[t-1,i])\n",
    "                u[t,i]    = u[t-1,i] + dt * du\n",
    "            # spike reached!\n",
    "            else:\n",
    "                V[t-1,i] = V_spike    # set to spike value\n",
    "                V[t,i] = c[i]                # reset membrane voltage\n",
    "                u[t,i] = u[t-1,i] + d[i]       # reset recovery\n",
    "                spikes[t-1,i] = 1\n",
    "                \n",
    "    return V, spikes,stim"
   ]
  },
  {
   "cell_type": "code",
   "execution_count": 415,
   "id": "506bbe62",
   "metadata": {},
   "outputs": [
    {
     "name": "stderr",
     "output_type": "stream",
     "text": [
      "100%|███████████████████████████████████████████████████████████████████████████| 9999/9999 [00:00<00:00, 11287.55it/s]\n"
     ]
    }
   ],
   "source": [
    "if disp_figs:\n",
    "    V1, spikes,stim = run_l1(T,paramsl1)\n",
    "    %matplotlib qt\n",
    "    fig,ax = plt.subplot_mosaic('AB')\n",
    "    ax['A'].plot(np.arange(0,int(T*dt),dt),V1,alpha=0.5)\n",
    "    ax['B'].scatter(np.where(spikes==1)[0]*dt,np.where(spikes==1)[1],color='black')\n",
    "    ax['B'].plot(np.arange(0,int(T*dt),dt),stim,alpha=0.5)"
   ]
  },
  {
   "cell_type": "code",
   "execution_count": 416,
   "id": "9c4ae206",
   "metadata": {},
   "outputs": [],
   "source": [
    "def run_l2(I,S,params,dt=0.1,psp_amp=60):\n",
    "    # I is a dense input matrix with the form ( T X N )\n",
    "    \n",
    "    T=I.shape[0]\n",
    "    N=params.shape[1]\n",
    "    a,b,c,d = params\n",
    "    psp_amp=psp_amp*np.ones(N)\n",
    "    \n",
    "    V_0 = c\n",
    "    u_0 = -14\n",
    "    V_spike = 35\n",
    "\n",
    "    V = np.zeros((T,N))\n",
    "    u = np.zeros((T,N))\n",
    "    V[0,...] = V_0*np.ones(N)\n",
    "    u[0,...] = u_0*np.ones(N)\n",
    "    spikes = np.zeros((T,N))\n",
    "    stim = np.zeros(T)\n",
    "    \n",
    "    spikes = np.zeros_like(V)\n",
    "    for t in tqdm(range(1, len(V[:,0]))):\n",
    "        # if we still didnt reach spike potential\n",
    "        for i in range(V.shape[1]):\n",
    "            # calculate incoming psps\n",
    "            PSC = sum(I[t,...,i])*psp_amp[i]       \n",
    "            if V[t-1,i] < V_spike:\n",
    "                # ODE for membrane potential\n",
    "                dV      = (0.04 * V[t-1,i] + 5) * V[t-1,i] + 140 - u[t-1,i]\n",
    "                V[t,i]    = V[t-1,i] + (dV +PSC) * dt # these cells have a low base input... lol\n",
    "                # ODE for recovery variable\n",
    "                du      = a[i] * (b[i] * V[t-1,i] - u[t-1,i])\n",
    "                u[t,i]    = u[t-1,i] + dt * du\n",
    "            # spike reached!\n",
    "            else:\n",
    "                V[t-1,i] = V_spike    # set to spike value\n",
    "                V[t,i] = c[i]                # reset membrane voltage\n",
    "                u[t,i] = u[t-1,i] + d[i]       # reset recovery\n",
    "                spikes[t-1,i] = 1\n",
    "    return V, spikes"
   ]
  },
  {
   "cell_type": "code",
   "execution_count": 417,
   "id": "1ae9ca18",
   "metadata": {},
   "outputs": [],
   "source": [
    "delayed_I = np.zeros((T,N,M))\n",
    "for i in range(M):\n",
    "    for j in range(N):\n",
    "        d = S['delays'][i][j]\n",
    "        delayed_I[:,i,j] = np.concatenate((d*[0],spikes.T[i][:-d]))\n",
    "        "
   ]
  },
  {
   "cell_type": "code",
   "execution_count": 418,
   "id": "9785d0d5",
   "metadata": {},
   "outputs": [
    {
     "data": {
      "text/plain": [
       "([0, 0], [1, 2, 3])"
      ]
     },
     "execution_count": 418,
     "metadata": {},
     "output_type": "execute_result"
    }
   ],
   "source": [
    "x = [1,2,3,4,5]\n",
    "2*[0],x[:-2]"
   ]
  },
  {
   "cell_type": "code",
   "execution_count": 419,
   "id": "03d828ec",
   "metadata": {},
   "outputs": [],
   "source": [
    "if disp_figs:\n",
    "    plt.figure()\n",
    "    plt.scatter(np.where(spikes==1)[0]*dt,np.where(spikes==1)[1],alpha=0.9)\n",
    "    plt.scatter(np.where(delayed_I[...,1]==1)[0]*dt,np.where(delayed_I[...,1]==1)[1],alpha=0.5)\n",
    "    plt.show()"
   ]
  },
  {
   "cell_type": "code",
   "execution_count": 420,
   "id": "66472fb4",
   "metadata": {},
   "outputs": [
    {
     "name": "stderr",
     "output_type": "stream",
     "text": [
      "100%|███████████████████████████████████████████████████████████████████████████| 9999/9999 [00:00<00:00, 10434.67it/s]\n"
     ]
    }
   ],
   "source": [
    "if disp_figs:\n",
    "    V2, out = run_l2(delayed_I,S,paramsl2,dt=dt,psp_amp=psp_amp)\n",
    "    plt.figure()\n",
    "    plt.scatter(np.where(out==1)[0]*dt,np.where(out==1)[1],color='black', marker='.',alpha=0.9,s=100)\n",
    "#     plt.scatter(np.where(spikes==1)[0]*dt,np.where(spikes==1)[1],marker='.',s=100)\n",
    "    plt.show()"
   ]
  },
  {
   "cell_type": "code",
   "execution_count": 423,
   "id": "8c71fa74",
   "metadata": {},
   "outputs": [],
   "source": [
    "def run_l2_inh(I,S,params,dt=0.1,psp_amp=60):\n",
    "    # I is a dense input matrix with the form ( T X N )\n",
    "    \n",
    "    T=I.shape[0]\n",
    "    N=params.shape[1]\n",
    "    a,b,c,d = params\n",
    "    psp_amp=psp_amp*np.ones(N)\n",
    "    \n",
    "    V_0 = c\n",
    "    u_0 = -14\n",
    "    V_spike = 35\n",
    "\n",
    "    V = np.zeros((T,N))\n",
    "    u = np.zeros((T,N))\n",
    "    V[0,...] = V_0*np.ones(N)\n",
    "    u[0,...] = u_0*np.ones(N)\n",
    "    spikes = np.zeros((T,N))\n",
    "    stim = np.zeros(T)\n",
    "    debug_depress = np.zeros((T,N))\n",
    "    \n",
    "    spikes = np.zeros_like(V)\n",
    "    for t in tqdm(range(1, len(V[:,0]))):\n",
    "        # if we still didnt reach spike potential\n",
    "        for i in range(V.shape[1]):\n",
    "            # calculate incoming psps\n",
    "            if spikes[t-1,i-1] or spikes[t-1,(i+1)%N]:\n",
    "                PSC = -20*psp_amp[i]\n",
    "                debug_depress[t,i]=1\n",
    "            else:\n",
    "                PSC = sum(I[t-1,...,i])*psp_amp[i]       \n",
    "            if V[t-1,i] < V_spike:\n",
    "                # ODE for membrane potential\n",
    "                dV      = (0.04 * V[t-1,i] + 5) * V[t-1,i] + 140 - u[t-1,i]\n",
    "                V[t,i]    = V[t-1,i] + (dV +PSC) * dt # these cells have a low base input... lol\n",
    "                # ODE for recovery variable\n",
    "                du      = a[i] * (b[i] * V[t-1,i] - u[t-1,i])\n",
    "                u[t,i]    = u[t-1,i] + dt * du\n",
    "            # spike reached!\n",
    "            else:\n",
    "                V[t-1,i] = V_spike    # set to spike value\n",
    "                V[t,i] = c[i]                # reset membrane voltage\n",
    "                u[t,i] = u[t-1,i] + d[i]       # reset recovery\n",
    "                spikes[t,i] = 1\n",
    "    return V, spikes,debug_depress"
   ]
  },
  {
   "cell_type": "code",
   "execution_count": 424,
   "id": "f79d1a45",
   "metadata": {},
   "outputs": [
    {
     "name": "stderr",
     "output_type": "stream",
     "text": [
      "100%|████████████████████████████████████████████████████████████████████████████| 9999/9999 [00:01<00:00, 9142.13it/s]\n"
     ]
    }
   ],
   "source": [
    "V3, out3,debug_depress = run_l2_inh(delayed_I,S,paramsl2,dt=dt,psp_amp=psp_amp)"
   ]
  },
  {
   "cell_type": "code",
   "execution_count": 425,
   "id": "6043cea3",
   "metadata": {},
   "outputs": [
    {
     "data": {
      "text/plain": [
       "<matplotlib.collections.PathCollection at 0x250ee9daed0>"
      ]
     },
     "execution_count": 425,
     "metadata": {},
     "output_type": "execute_result"
    }
   ],
   "source": [
    "plt.figure()\n",
    "plt.scatter(np.where(debug_depress==1)[0]*dt,np.where(debug_depress==1)[1],alpha=0.9)\n",
    "plt.scatter(np.where(out3==1)[0]*dt,np.where(out3==1)[1],alpha=0.9)"
   ]
  },
  {
   "cell_type": "code",
   "execution_count": 426,
   "id": "485c5b7f",
   "metadata": {},
   "outputs": [],
   "source": [
    "plt.figure()\n",
    "plt.plot(V3[:,0])\n",
    "plt.show()"
   ]
  },
  {
   "cell_type": "code",
   "execution_count": 427,
   "id": "0b9f874c",
   "metadata": {},
   "outputs": [],
   "source": [
    "if disp_figs:\n",
    "    fig,ax = plt.subplot_mosaic('AB')\n",
    "    ax['A'].scatter(np.where(out3==1)[0]*dt,np.where(out3==1)[1],color='black', marker='.',alpha=0.9,s=100)\n",
    "    ax['B'].scatter(np.where(out==1)[0]*dt,np.where(out==1)[1],color='black', marker='.',alpha=0.9,s=100)\n",
    "    plt.show()"
   ]
  },
  {
   "cell_type": "code",
   "execution_count": 15,
   "id": "42b7c233",
   "metadata": {},
   "outputs": [],
   "source": [
    "sigmoid = lambda x: 1/(1 + np.exp(-x))\n"
   ]
  },
  {
   "cell_type": "code",
   "execution_count": 18,
   "id": "cf2894e7",
   "metadata": {},
   "outputs": [
    {
     "data": {
      "image/png": "[encoded data removed]",
      "text/plain": [
       "<Figure size 640x480 with 1 Axes>"
      ]
     },
     "metadata": {},
     "output_type": "display_data"
    }
   ],
   "source": [
    "plt.figure()\n",
    "plt.plot(np.arange(-10,10),sigmoid(np.arange(-10,10)))\n",
    "plt.show()"
   ]
  },
  {
   "cell_type": "code",
   "execution_count": 13,
   "id": "3a4e26e0",
   "metadata": {},
   "outputs": [
    {
     "data": {
      "text/plain": [
       "array([[2, 7, 5, 8, 3, 1, 0, 5, 4, 7, 3, 4, 7, 0, 4, 4, 7, 4, 2, 5],\n",
       "       [6, 7, 7, 8, 5, 5, 0, 1, 0, 1, 8, 1, 5, 7, 6, 8, 2, 0, 7, 4],\n",
       "       [3, 0, 3, 1, 7, 5, 3, 6, 8, 1, 1, 3, 3, 3, 5, 2, 0, 1, 2, 3],\n",
       "       [4, 7, 5, 5, 6, 6, 2, 6, 4, 1, 7, 0, 3, 1, 2, 5, 1, 2, 3, 3],\n",
       "       [3, 5, 6, 8, 1, 1, 0, 4, 4, 4, 5, 2, 7, 2, 2, 1, 1, 2, 0, 3],\n",
       "       [8, 0, 3, 1, 5, 2, 4, 0, 5, 0, 3, 5, 7, 5, 5, 6, 8, 3, 6, 8],\n",
       "       [2, 8, 5, 6, 7, 6, 8, 7, 1, 6, 0, 7, 8, 1, 8, 4, 4, 1, 4, 5],\n",
       "       [5, 3, 7, 1, 8, 5, 4, 0, 5, 4, 4, 7, 1, 3, 2, 5, 8, 5, 3, 7],\n",
       "       [7, 3, 3, 8, 0, 8, 3, 8, 7, 2, 0, 2, 4, 7, 3, 3, 2, 6, 8, 3],\n",
       "       [7, 0, 8, 4, 8, 2, 7, 5, 1, 2, 5, 6, 6, 4, 2, 6, 6, 3, 4, 6],\n",
       "       [3, 6, 2, 6, 3, 5, 3, 2, 7, 3, 7, 4, 0, 5, 5, 3, 4, 3, 5, 2],\n",
       "       [7, 2, 8, 2, 3, 0, 3, 1, 4, 3, 2, 4, 8, 4, 5, 3, 5, 5, 1, 2],\n",
       "       [0, 5, 5, 3, 6, 3, 6, 8, 6, 8, 3, 2, 2, 8, 7, 6, 2, 0, 7, 3],\n",
       "       [5, 2, 6, 2, 7, 2, 1, 4, 5, 6, 8, 6, 2, 7, 5, 8, 2, 8, 6, 1],\n",
       "       [1, 8, 8, 1, 5, 1, 2, 1, 6, 0, 7, 8, 2, 5, 3, 5, 5, 6, 7, 1],\n",
       "       [8, 6, 7, 4, 4, 8, 1, 3, 2, 6, 8, 8, 8, 4, 3, 1, 0, 5, 5, 7],\n",
       "       [2, 8, 3, 3, 2, 5, 6, 8, 3, 3, 8, 5, 1, 0, 8, 2, 8, 7, 7, 0],\n",
       "       [5, 6, 8, 8, 8, 0, 7, 5, 4, 4, 3, 2, 7, 7, 6, 2, 8, 6, 1, 8],\n",
       "       [3, 0, 2, 8, 8, 0, 4, 7, 4, 1, 8, 3, 4, 5, 5, 8, 2, 3, 6, 1],\n",
       "       [7, 0, 2, 8, 4, 3, 0, 5, 4, 8, 1, 3, 7, 0, 4, 0, 0, 8, 4, 8]])"
      ]
     },
     "execution_count": 13,
     "metadata": {},
     "output_type": "execute_result"
    }
   ],
   "source": [
    "np.random.randint(0,9,(N,M))"
   ]
  },
  {
   "cell_type": "code",
   "execution_count": null,
   "id": "04c1f714",
   "metadata": {},
   "outputs": [],
   "source": []
  }
 ],
 "metadata": {
  "kernelspec": {
   "display_name": "Python 3 (ipykernel)",
   "language": "python",
   "name": "python3"
  },
  "language_info": {
   "codemirror_mode": {
    "name": "ipython",
    "version": 3
   },
   "file_extension": ".py",
   "mimetype": "text/x-python",
   "name": "python",
   "nbconvert_exporter": "python",
   "pygments_lexer": "ipython3",
   "version": "3.11.3"
  }
 },
 "nbformat": 4,
 "nbformat_minor": 5
}
