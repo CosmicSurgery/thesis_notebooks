{
 "cells": [
  {
   "cell_type": "code",
   "execution_count": 57,
   "id": "63217ebd",
   "metadata": {},
   "outputs": [],
   "source": [
    "import numpy as np\n",
    "import matplotlib.pyplot as plt\n",
    "from scipy.ndimage import gaussian_filter1d\n",
    "from scipy.stats import zscore\n",
    "from sklearn.cluster import KMeans\n",
    "from sklearn.datasets import make_blobs\n",
    "from sklearn.decomposition import PCA\n",
    "from sklearn.preprocessing import StandardScaler"
   ]
  },
  {
   "cell_type": "code",
   "execution_count": 248,
   "id": "66535f73",
   "metadata": {},
   "outputs": [],
   "source": [
    "rs = {'a': 0.02, 'b': 0.20, 'c': -65.0, 'd': 8.00}\n",
    "ib = {'a': 0.02, 'b': 0.20, 'c': -55.0, 'd': 4.00}\n",
    "ch = {'a': 0.02, 'b': 0.20, 'c': -50.0, 'd': 2.00}\n",
    "fs = {'a': 0.10, 'b': 0.20, 'c': -65.0, 'd': 2.00}\n",
    "th = {'a': 0.02, 'b': 0.25, 'c': -65.0, 'd': 0.05}\n",
    "res = {'a': 0.10, 'b': 0.25, 'c': -65.0, 'd': 2.00}\n",
    "lts = {'a': 0.02, 'b': 0.25, 'c': -65.0, 'd': 2.00}\n",
    "nrns={\n",
    "    'rs':rs,\n",
    "    'ib':ib,\n",
    "    'ch':ch,\n",
    "    'fs':fs,\n",
    "    'th':th,\n",
    "    'res':res,\n",
    "    'lts':lts,\n",
    "}\n",
    "\n",
    "a = [nrns[k]['a'] for k in nrns]\n",
    "b = [nrns[k]['b'] for k in nrns]\n",
    "c = [nrns[k]['c'] for k in nrns]\n",
    "d = [nrns[k]['d'] for k in nrns]\n",
    "\n",
    "N = len(nrns)\n",
    "T = 9000 # length in samples\n",
    "dt = 0.1\n",
    "\n",
    "V_0 = c\n",
    "u_0 = -14\n",
    "V_spike = 35\n",
    "\n",
    "V = np.zeros((T,N))\n",
    "u = np.zeros((T,N))\n",
    "V[0,...] = V_0*np.ones(N)\n",
    "u[0,...] = u_0*np.ones(N)\n",
    "\n",
    "\n",
    "\n",
    "spikes = np.zeros((T,N))\n",
    "stim = np.zeros(T)\n",
    "\n",
    "def run_l1():\n",
    "    for t in range(1, T):\n",
    "        noise = np.random.randint(8,10,7)/10\n",
    "        # if we still didnt reach spike potential\n",
    "        for i in range(len(V[t-1])):\n",
    "            stim[t] = (1+np.sin(t*dt**2.5*noise[i]))\n",
    "            if V[t-1,i] < V_spike:\n",
    "                # ODE for membrane potential\n",
    "                dV      = (0.04 * V[t-1,i] + 5) * V[t-1,i] + 140 - u[t-1,i]\n",
    "                V[t,i]    = V[t-1,i] + (dV + 3*stim[t]) * dt # these cells have a low base input... lol\n",
    "                # ODE for recovery variable\n",
    "                du      = a[i] * (b[i] * V[t-1,i] - u[t-1,i])\n",
    "                u[t,i]    = u[t-1,i] + dt * du\n",
    "            # spike reached!\n",
    "            else:\n",
    "                V[t-1,i] = V_spike    # set to spike value\n",
    "                V[t,i] = c[i]                # reset membrane voltage\n",
    "                u[t,i] = u[t-1,i] + d[i]       # reset recovery\n",
    "                spikes[t-1,i] = 1"
   ]
  },
  {
   "cell_type": "code",
   "execution_count": 250,
   "id": "0ab89c06",
   "metadata": {},
   "outputs": [
    {
     "data": {
      "text/plain": [
       "[<matplotlib.lines.Line2D at 0x2c5c800f9d0>]"
      ]
     },
     "execution_count": 250,
     "metadata": {},
     "output_type": "execute_result"
    }
   ],
   "source": [
    "run_l1()\n",
    "%matplotlib qt\n",
    "fig,ax = plt.subplot_mosaic('AB')\n",
    "ax['A'].plot(np.arange(0,int(T*dt),dt),V,alpha=0.5)\n",
    "ax['B'].scatter(np.where(spikes==1)[0]*dt,np.where(spikes==1)[1],color='black')\n",
    "ax['B'].plot(np.arange(0,int(T*dt),dt),stim,alpha=0.5)"
   ]
  },
  {
   "cell_type": "code",
   "execution_count": 247,
   "id": "b56a36b8",
   "metadata": {},
   "outputs": [
    {
     "data": {
      "text/plain": [
       "array([ 5.,  7., 16., 15., 72., 54., 24.])"
      ]
     },
     "execution_count": 247,
     "metadata": {},
     "output_type": "execute_result"
    }
   ],
   "source": [
    "sum(spikes)"
   ]
  }
 ],
 "metadata": {
  "kernelspec": {
   "display_name": "Python 3 (ipykernel)",
   "language": "python",
   "name": "python3"
  },
  "language_info": {
   "codemirror_mode": {
    "name": "ipython",
    "version": 3
   },
   "file_extension": ".py",
   "mimetype": "text/x-python",
   "name": "python",
   "nbconvert_exporter": "python",
   "pygments_lexer": "ipython3",
   "version": "3.11.3"
  }
 },
 "nbformat": 4,
 "nbformat_minor": 5
}
