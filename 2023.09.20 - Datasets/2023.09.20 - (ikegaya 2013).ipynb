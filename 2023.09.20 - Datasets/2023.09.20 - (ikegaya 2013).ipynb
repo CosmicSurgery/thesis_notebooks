{
 "cells": [
  {
   "cell_type": "code",
   "execution_count": 2,
   "id": "70b88236",
   "metadata": {},
   "outputs": [],
   "source": [
    "import os\n",
    "import numpy as np\n",
    "import matplotlib.pyplot as plt\n",
    "import pandas as pd"
   ]
  },
  {
   "cell_type": "code",
   "execution_count": 38,
   "id": "c2639a17",
   "metadata": {},
   "outputs": [],
   "source": [
    "dataset_path = r'C:\\Users\\miles\\Projects\\datasets\\ikegaya\\DATA_001.txt'"
   ]
  },
  {
   "cell_type": "code",
   "execution_count": 39,
   "id": "aa5bc737",
   "metadata": {},
   "outputs": [
    {
     "data": {
      "text/plain": [
       "'C:\\\\Users\\\\miles\\\\Projects\\\\thesis_notebooks\\\\2023.09.20 - Datasets'"
      ]
     },
     "execution_count": 39,
     "metadata": {},
     "output_type": "execute_result"
    }
   ],
   "source": [
    "os.getcwd()"
   ]
  },
  {
   "cell_type": "code",
   "execution_count": 48,
   "id": "1028bbea",
   "metadata": {},
   "outputs": [],
   "source": [
    "df = pd.read_csv(dataset_path,delimiter='\\t')"
   ]
  },
  {
   "cell_type": "code",
   "execution_count": 49,
   "id": "035f4258",
   "metadata": {},
   "outputs": [
    {
     "data": {
      "text/plain": [
       "Index(['Cell No.   X      Y    N_Spikes  Frames'], dtype='object')"
      ]
     },
     "execution_count": 49,
     "metadata": {},
     "output_type": "execute_result"
    }
   ],
   "source": [
    "df.columns"
   ]
  },
  {
   "cell_type": "code",
   "execution_count": 50,
   "id": "a7096925",
   "metadata": {},
   "outputs": [
    {
     "data": {
      "text/html": [
       "<div>\n",
       "<style scoped>\n",
       "    .dataframe tbody tr th:only-of-type {\n",
       "        vertical-align: middle;\n",
       "    }\n",
       "\n",
       "    .dataframe tbody tr th {\n",
       "        vertical-align: top;\n",
       "    }\n",
       "\n",
       "    .dataframe thead th {\n",
       "        text-align: right;\n",
       "    }\n",
       "</style>\n",
       "<table border=\"1\" class=\"dataframe\">\n",
       "  <thead>\n",
       "    <tr style=\"text-align: right;\">\n",
       "      <th></th>\n",
       "      <th>Cell No.   X      Y    N_Spikes  Frames</th>\n",
       "    </tr>\n",
       "  </thead>\n",
       "  <tbody>\n",
       "    <tr>\n",
       "      <th>0</th>\n",
       "      <td>Cell#001  278.8  271.7   097 :   123  138  193...</td>\n",
       "    </tr>\n",
       "    <tr>\n",
       "      <th>1</th>\n",
       "      <td>Cell#002  358.6  268.3   064 :   28  123  451 ...</td>\n",
       "    </tr>\n",
       "    <tr>\n",
       "      <th>2</th>\n",
       "      <td>Cell#003  361.5  261.6   011 :   1273  5052  5...</td>\n",
       "    </tr>\n",
       "    <tr>\n",
       "      <th>3</th>\n",
       "      <td>Cell#004  316.9  258.6   008 :   1257  1486  5...</td>\n",
       "    </tr>\n",
       "    <tr>\n",
       "      <th>4</th>\n",
       "      <td>Cell#005  281.7  242.1   031 :   296  411  579...</td>\n",
       "    </tr>\n",
       "    <tr>\n",
       "      <th>...</th>\n",
       "      <td>...</td>\n",
       "    </tr>\n",
       "    <tr>\n",
       "      <th>57</th>\n",
       "      <td>Cell#058  043.3  051.1   142 :   29  68  85  2...</td>\n",
       "    </tr>\n",
       "    <tr>\n",
       "      <th>58</th>\n",
       "      <td>Cell#059  132.5  049.4   001 :   8616</td>\n",
       "    </tr>\n",
       "    <tr>\n",
       "      <th>59</th>\n",
       "      <td>Cell#060  154.5  040.0   013 :   318  781  861...</td>\n",
       "    </tr>\n",
       "    <tr>\n",
       "      <th>60</th>\n",
       "      <td>Cell#061  093.0  032.9   154 :   15  79  263  ...</td>\n",
       "    </tr>\n",
       "    <tr>\n",
       "      <th>61</th>\n",
       "      <td>Cell#062  019.2  011.7   041 :   64  94  478  ...</td>\n",
       "    </tr>\n",
       "  </tbody>\n",
       "</table>\n",
       "<p>62 rows × 1 columns</p>\n",
       "</div>"
      ],
      "text/plain": [
       "              Cell No.   X      Y    N_Spikes  Frames\n",
       "0   Cell#001  278.8  271.7   097 :   123  138  193...\n",
       "1   Cell#002  358.6  268.3   064 :   28  123  451 ...\n",
       "2   Cell#003  361.5  261.6   011 :   1273  5052  5...\n",
       "3   Cell#004  316.9  258.6   008 :   1257  1486  5...\n",
       "4   Cell#005  281.7  242.1   031 :   296  411  579...\n",
       "..                                                ...\n",
       "57  Cell#058  043.3  051.1   142 :   29  68  85  2...\n",
       "58             Cell#059  132.5  049.4   001 :   8616 \n",
       "59  Cell#060  154.5  040.0   013 :   318  781  861...\n",
       "60  Cell#061  093.0  032.9   154 :   15  79  263  ...\n",
       "61  Cell#062  019.2  011.7   041 :   64  94  478  ...\n",
       "\n",
       "[62 rows x 1 columns]"
      ]
     },
     "execution_count": 50,
     "metadata": {},
     "output_type": "execute_result"
    }
   ],
   "source": [
    "df"
   ]
  },
  {
   "cell_type": "code",
   "execution_count": null,
   "id": "86241ea2",
   "metadata": {},
   "outputs": [],
   "source": []
  }
 ],
 "metadata": {
  "kernelspec": {
   "display_name": "Python 3 (ipykernel)",
   "language": "python",
   "name": "python3"
  },
  "language_info": {
   "codemirror_mode": {
    "name": "ipython",
    "version": 3
   },
   "file_extension": ".py",
   "mimetype": "text/x-python",
   "name": "python",
   "nbconvert_exporter": "python",
   "pygments_lexer": "ipython3",
   "version": "3.11.3"
  }
 },
 "nbformat": 4,
 "nbformat_minor": 5
}
