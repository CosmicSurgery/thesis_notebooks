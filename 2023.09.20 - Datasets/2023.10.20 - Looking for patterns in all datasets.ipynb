{
 "cells": [
  {
   "cell_type": "code",
   "execution_count": 4,
   "id": "9e66bc62",
   "metadata": {},
   "outputs": [],
   "source": [
    "import numpy as np\n",
    "import matplotlib.pyplot as plt\n",
    "import os\n",
    "import scan\n",
    "import simulate_data"
   ]
  },
  {
   "cell_type": "markdown",
   "id": "bc0e4c5b",
   "metadata": {},
   "source": [
    "# h2 hippocampus"
   ]
  },
  {
   "cell_type": "code",
   "execution_count": 2,
   "id": "8943feef",
   "metadata": {},
   "outputs": [],
   "source": [
    "def get_data(clusters_file, spikes_file):\n",
    "#     labels_file = open(labels_file)\n",
    "    clusters = clusters_file.readlines()\n",
    "    num_clu = int(clusters[0][:-1])-2\n",
    "#     num_clu = clusters[0][:-1]\n",
    "    clusters = np.array([k[:-1] for k in clusters],dtype='int')[1:]\n",
    "#     labels = np.array([k[:-1] for k in labels])\n",
    "    \n",
    "    spikes = spikes_file.readlines()\n",
    "    spikes = np.array([k[:-1] for k in spikes],dtype='float')\n",
    "    \n",
    "    spikes = spikes[clusters>1]\n",
    "    clusters = clusters[clusters>1]\n",
    "    \n",
    "    spikes, clusters = spikes[spikes.argsort()], clusters[spikes.argsort()] # sorting the arrays by spike time\n",
    "    \n",
    "    \n",
    "    return clusters, spikes, num_clu\n"
   ]
  },
  {
   "cell_type": "code",
   "execution_count": 5,
   "id": "c76c2db9",
   "metadata": {},
   "outputs": [
    {
     "data": {
      "text/plain": [
       "'C:\\\\Users\\\\miles\\\\Projects\\\\datasets'"
      ]
     },
     "execution_count": 5,
     "metadata": {},
     "output_type": "execute_result"
    }
   ],
   "source": [
    "file =r'C:\\Users\\miles\\Projects\\datasets\\crcns\\hc2\\ec013.527\\ec013.527.clu.1'\n",
    "os.path.abspath('C:\\\\Users\\\\miles\\\\Projects\\\\datasets')"
   ]
  },
  {
   "cell_type": "code",
   "execution_count": 6,
   "id": "2ba62d90",
   "metadata": {},
   "outputs": [],
   "source": [
    "shanks = 4\n",
    "clusters, spikes, num_clu = [],[],[]\n",
    "\n",
    "for i in range(shanks):\n",
    "    (clusters_file, spikes_file) = (\n",
    "        open(f\"C:\\\\Users\\\\miles\\\\Projects\\\\datasets\\\\crcns\\\\hc2\\\\ec013.527\\\\ec013.527.clu.{i+1}\"),\n",
    "        open(f\"C:\\\\Users\\miles\\\\Projects\\\\datasets\\\\crcns\\\\hc2\\\\ec013.527\\\\ec013.527.res.{i+1}\")\n",
    "    )\n",
    "    a,b,c = get_data(clusters_file, spikes_file)\n",
    "    clusters.append(a)\n",
    "    spikes.append(b)\n",
    "    num_clu.append(c)"
   ]
  },
  {
   "cell_type": "code",
   "execution_count": null,
   "id": "325fdabe",
   "metadata": {},
   "outputs": [],
   "source": []
  }
 ],
 "metadata": {
  "kernelspec": {
   "display_name": "Python 3 (ipykernel)",
   "language": "python",
   "name": "python3"
  },
  "language_info": {
   "codemirror_mode": {
    "name": "ipython",
    "version": 3
   },
   "file_extension": ".py",
   "mimetype": "text/x-python",
   "name": "python",
   "nbconvert_exporter": "python",
   "pygments_lexer": "ipython3",
   "version": "3.11.5"
  }
 },
 "nbformat": 4,
 "nbformat_minor": 5
}
