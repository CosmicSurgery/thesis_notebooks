{
 "cells": [
  {
   "cell_type": "code",
   "execution_count": 1,
   "id": "d769c16a",
   "metadata": {},
   "outputs": [],
   "source": [
    "import numpy as np\n",
    "import matplotlib.pyplot as plt"
   ]
  },
  {
   "cell_type": "code",
   "execution_count": 2,
   "id": "26ff02ad",
   "metadata": {},
   "outputs": [],
   "source": [
    "N=100\n",
    "T=100\n",
    "delay_range=(1,30)\n",
    "layer_1 = np.arange(0,N)\n",
    "layer_2 = np.arange(0,N)"
   ]
  },
  {
   "cell_type": "code",
   "execution_count": 3,
   "id": "2b97b1f7",
   "metadata": {},
   "outputs": [
    {
     "data": {
      "text/plain": [
       "array([[20, 17, 14, ...,  8, 20, 15],\n",
       "       [23, 20,  3, ..., 18, 16, 17],\n",
       "       [ 1,  4,  8, ..., 19, 13, 17],\n",
       "       ...,\n",
       "       [19, 11, 28, ..., 18, 12, 18],\n",
       "       [18, 14,  2, ..., 15, 25, 29],\n",
       "       [ 2, 17, 22, ..., 15, 19, 15]])"
      ]
     },
     "execution_count": 3,
     "metadata": {},
     "output_type": "execute_result"
    }
   ],
   "source": [
    "delays = np.random.randint(*delay_range,(N,N))\n",
    "delays"
   ]
  },
  {
   "cell_type": "code",
   "execution_count": 4,
   "id": "3a7783e3",
   "metadata": {},
   "outputs": [
    {
     "data": {
      "text/plain": [
       "(array([[ 5,  9, 12, 56, 60],\n",
       "        [26, 26, 51, 57, 59],\n",
       "        [25, 49, 56, 60, 62],\n",
       "        [14, 28, 36, 44, 68],\n",
       "        [21, 45, 45, 54, 63],\n",
       "        [ 7,  7, 28, 34, 53],\n",
       "        [ 9, 19, 23, 28, 68],\n",
       "        [28, 30, 31, 40, 54],\n",
       "        [ 0, 13, 47, 54, 68],\n",
       "        [13, 36, 39, 53, 67],\n",
       "        [ 7, 31, 57, 59, 66],\n",
       "        [ 9, 25, 29, 56, 62],\n",
       "        [ 0,  8, 14, 28, 29],\n",
       "        [24, 28, 48, 53, 59],\n",
       "        [ 3, 13, 16, 38, 39],\n",
       "        [ 5, 13, 40, 46, 57],\n",
       "        [ 9, 10, 43, 44, 46],\n",
       "        [ 0, 30, 30, 33, 35],\n",
       "        [ 5,  6,  7, 34, 61],\n",
       "        [ 0, 31, 38, 56, 64],\n",
       "        [24, 24, 36, 38, 50],\n",
       "        [ 3, 31, 53, 61, 68],\n",
       "        [30, 30, 31, 34, 50],\n",
       "        [ 5, 28, 43, 55, 63],\n",
       "        [11, 28, 46, 55, 56],\n",
       "        [ 2, 10, 31, 34, 47],\n",
       "        [14, 24, 39, 43, 51],\n",
       "        [ 7, 14, 16, 23, 37],\n",
       "        [ 2,  9, 21, 34, 36],\n",
       "        [15, 15, 20, 53, 55],\n",
       "        [ 7, 20, 27, 45, 48],\n",
       "        [ 8, 14, 41, 65, 67],\n",
       "        [ 6, 53, 53, 58, 59],\n",
       "        [ 7, 26, 30, 62, 65],\n",
       "        [ 5,  8,  9, 14, 21],\n",
       "        [ 8, 10, 31, 57, 63],\n",
       "        [16, 18, 36, 38, 59],\n",
       "        [ 4,  7, 30, 31, 38],\n",
       "        [ 0, 29, 55, 56, 62],\n",
       "        [ 5, 18, 26, 41, 53],\n",
       "        [11, 28, 41, 55, 56],\n",
       "        [11, 14, 28, 39, 63],\n",
       "        [ 1,  2, 28, 50, 52],\n",
       "        [19, 29, 44, 47, 58],\n",
       "        [ 8, 22, 35, 57, 62],\n",
       "        [ 5,  9, 27, 38, 64],\n",
       "        [28, 40, 42, 52, 65],\n",
       "        [ 6, 25, 26, 52, 61],\n",
       "        [18, 20, 23, 47, 57],\n",
       "        [14, 28, 32, 36, 64],\n",
       "        [ 9, 46, 47, 66, 67],\n",
       "        [ 8, 21, 26, 67, 68],\n",
       "        [ 6, 19, 32, 40, 43],\n",
       "        [ 0,  7, 10, 28, 65],\n",
       "        [29, 44, 51, 54, 66],\n",
       "        [ 4, 37, 46, 55, 60],\n",
       "        [11, 12, 15, 56, 68],\n",
       "        [ 5, 28, 40, 58, 58],\n",
       "        [33, 37, 41, 48, 60],\n",
       "        [ 5, 28, 28, 50, 68],\n",
       "        [24, 44, 48, 56, 57],\n",
       "        [17, 30, 43, 63, 66],\n",
       "        [ 3, 14, 20, 21, 47],\n",
       "        [25, 31, 62, 63, 68],\n",
       "        [ 6, 10, 15, 26, 59],\n",
       "        [27, 28, 36, 48, 55],\n",
       "        [20, 34, 35, 45, 50],\n",
       "        [38, 39, 50, 52, 65],\n",
       "        [21, 38, 43, 46, 56],\n",
       "        [29, 42, 45, 59, 65],\n",
       "        [ 6, 16, 27, 37, 40],\n",
       "        [ 3, 14, 14, 32, 50],\n",
       "        [11, 32, 50, 51, 60],\n",
       "        [24, 56, 57, 57, 58],\n",
       "        [13, 22, 54, 56, 67],\n",
       "        [25, 26, 32, 57, 63],\n",
       "        [ 3,  6, 36, 39, 59],\n",
       "        [10, 13, 34, 51, 62],\n",
       "        [ 4, 14, 28, 56, 64],\n",
       "        [ 6, 26, 36, 38, 61],\n",
       "        [ 1,  2, 15, 32, 35],\n",
       "        [46, 48, 51, 58, 61],\n",
       "        [39, 47, 56, 66, 66],\n",
       "        [ 8, 17, 24, 53, 68],\n",
       "        [36, 53, 57, 68, 68],\n",
       "        [11, 12, 26, 42, 45],\n",
       "        [16, 18, 48, 65, 68],\n",
       "        [ 9, 27, 32, 58, 68],\n",
       "        [ 8, 24, 25, 50, 59],\n",
       "        [ 3, 33, 51, 54, 65],\n",
       "        [ 1, 10, 17, 31, 55],\n",
       "        [14, 14, 38, 58, 68],\n",
       "        [ 3, 12, 15, 45, 51],\n",
       "        [ 1, 11, 16, 17, 33],\n",
       "        [ 1, 28, 31, 40, 55],\n",
       "        [ 5, 17, 20, 27, 51],\n",
       "        [ 2, 22, 44, 46, 65],\n",
       "        [ 9, 16, 30, 31, 60],\n",
       "        [14, 16, 47, 48, 55],\n",
       "        [13, 28, 32, 61, 63]]),\n",
       " array([[ 0,  0,  0,  0,  0],\n",
       "        [ 1,  1,  1,  1,  1],\n",
       "        [ 2,  2,  2,  2,  2],\n",
       "        [ 3,  3,  3,  3,  3],\n",
       "        [ 4,  4,  4,  4,  4],\n",
       "        [ 5,  5,  5,  5,  5],\n",
       "        [ 6,  6,  6,  6,  6],\n",
       "        [ 7,  7,  7,  7,  7],\n",
       "        [ 8,  8,  8,  8,  8],\n",
       "        [ 9,  9,  9,  9,  9],\n",
       "        [10, 10, 10, 10, 10],\n",
       "        [11, 11, 11, 11, 11],\n",
       "        [12, 12, 12, 12, 12],\n",
       "        [13, 13, 13, 13, 13],\n",
       "        [14, 14, 14, 14, 14],\n",
       "        [15, 15, 15, 15, 15],\n",
       "        [16, 16, 16, 16, 16],\n",
       "        [17, 17, 17, 17, 17],\n",
       "        [18, 18, 18, 18, 18],\n",
       "        [19, 19, 19, 19, 19],\n",
       "        [20, 20, 20, 20, 20],\n",
       "        [21, 21, 21, 21, 21],\n",
       "        [22, 22, 22, 22, 22],\n",
       "        [23, 23, 23, 23, 23],\n",
       "        [24, 24, 24, 24, 24],\n",
       "        [25, 25, 25, 25, 25],\n",
       "        [26, 26, 26, 26, 26],\n",
       "        [27, 27, 27, 27, 27],\n",
       "        [28, 28, 28, 28, 28],\n",
       "        [29, 29, 29, 29, 29],\n",
       "        [30, 30, 30, 30, 30],\n",
       "        [31, 31, 31, 31, 31],\n",
       "        [32, 32, 32, 32, 32],\n",
       "        [33, 33, 33, 33, 33],\n",
       "        [34, 34, 34, 34, 34],\n",
       "        [35, 35, 35, 35, 35],\n",
       "        [36, 36, 36, 36, 36],\n",
       "        [37, 37, 37, 37, 37],\n",
       "        [38, 38, 38, 38, 38],\n",
       "        [39, 39, 39, 39, 39],\n",
       "        [40, 40, 40, 40, 40],\n",
       "        [41, 41, 41, 41, 41],\n",
       "        [42, 42, 42, 42, 42],\n",
       "        [43, 43, 43, 43, 43],\n",
       "        [44, 44, 44, 44, 44],\n",
       "        [45, 45, 45, 45, 45],\n",
       "        [46, 46, 46, 46, 46],\n",
       "        [47, 47, 47, 47, 47],\n",
       "        [48, 48, 48, 48, 48],\n",
       "        [49, 49, 49, 49, 49],\n",
       "        [50, 50, 50, 50, 50],\n",
       "        [51, 51, 51, 51, 51],\n",
       "        [52, 52, 52, 52, 52],\n",
       "        [53, 53, 53, 53, 53],\n",
       "        [54, 54, 54, 54, 54],\n",
       "        [55, 55, 55, 55, 55],\n",
       "        [56, 56, 56, 56, 56],\n",
       "        [57, 57, 57, 57, 57],\n",
       "        [58, 58, 58, 58, 58],\n",
       "        [59, 59, 59, 59, 59],\n",
       "        [60, 60, 60, 60, 60],\n",
       "        [61, 61, 61, 61, 61],\n",
       "        [62, 62, 62, 62, 62],\n",
       "        [63, 63, 63, 63, 63],\n",
       "        [64, 64, 64, 64, 64],\n",
       "        [65, 65, 65, 65, 65],\n",
       "        [66, 66, 66, 66, 66],\n",
       "        [67, 67, 67, 67, 67],\n",
       "        [68, 68, 68, 68, 68],\n",
       "        [69, 69, 69, 69, 69],\n",
       "        [70, 70, 70, 70, 70],\n",
       "        [71, 71, 71, 71, 71],\n",
       "        [72, 72, 72, 72, 72],\n",
       "        [73, 73, 73, 73, 73],\n",
       "        [74, 74, 74, 74, 74],\n",
       "        [75, 75, 75, 75, 75],\n",
       "        [76, 76, 76, 76, 76],\n",
       "        [77, 77, 77, 77, 77],\n",
       "        [78, 78, 78, 78, 78],\n",
       "        [79, 79, 79, 79, 79],\n",
       "        [80, 80, 80, 80, 80],\n",
       "        [81, 81, 81, 81, 81],\n",
       "        [82, 82, 82, 82, 82],\n",
       "        [83, 83, 83, 83, 83],\n",
       "        [84, 84, 84, 84, 84],\n",
       "        [85, 85, 85, 85, 85],\n",
       "        [86, 86, 86, 86, 86],\n",
       "        [87, 87, 87, 87, 87],\n",
       "        [88, 88, 88, 88, 88],\n",
       "        [89, 89, 89, 89, 89],\n",
       "        [90, 90, 90, 90, 90],\n",
       "        [91, 91, 91, 91, 91],\n",
       "        [92, 92, 92, 92, 92],\n",
       "        [93, 93, 93, 93, 93],\n",
       "        [94, 94, 94, 94, 94],\n",
       "        [95, 95, 95, 95, 95],\n",
       "        [96, 96, 96, 96, 96],\n",
       "        [97, 97, 97, 97, 97],\n",
       "        [98, 98, 98, 98, 98],\n",
       "        [99, 99, 99, 99, 99]]))"
      ]
     },
     "execution_count": 4,
     "metadata": {},
     "output_type": "execute_result"
    }
   ],
   "source": [
    "spikes = np.random.randint(0,T-31,(N,5))\n",
    "spikes = np.sort(spikes,axis=1)\n",
    "temp = np.array([np.array(5*[k]) for k in layer_1])\n",
    "spikes, temp\n",
    "# spikes.flatten(), temp.flatten()"
   ]
  },
  {
   "cell_type": "code",
   "execution_count": 5,
   "id": "d4b9c204",
   "metadata": {},
   "outputs": [
    {
     "data": {
      "image/png": "[encoded data removed]",
      "text/plain": [
       "<Figure size 640x480 with 1 Axes>"
      ]
     },
     "metadata": {},
     "output_type": "display_data"
    }
   ],
   "source": [
    "plt.figure()\n",
    "plt.scatter(spikes.flatten(), temp.flatten(),c='black')\n",
    "plt.show()"
   ]
  },
  {
   "cell_type": "markdown",
   "id": "4633834f",
   "metadata": {},
   "source": [
    "$$z\\ =\\ \\exp(k*(x-c))$$\n",
    "$k$ defines the steepness of the curve\n",
    "$c$ defines hte time of the spike"
   ]
  },
  {
   "cell_type": "code",
   "execution_count": 13,
   "id": "c64f6666",
   "metadata": {},
   "outputs": [
    {
     "data": {
      "text/plain": [
       "17.449402268886445"
      ]
     },
     "execution_count": 13,
     "metadata": {},
     "output_type": "execute_result"
    }
   ],
   "source": [
    "prev"
   ]
  },
  {
   "cell_type": "code",
   "execution_count": 21,
   "id": "327e9bbe",
   "metadata": {},
   "outputs": [
    {
     "data": {
      "image/png": "[encoded data removed]",
      "text/plain": [
       "<Figure size 640x480 with 1 Axes>"
      ]
     },
     "metadata": {},
     "output_type": "display_data"
    }
   ],
   "source": [
    "x = np.arange(*delay_range)\n",
    "c=5\n",
    "plt.figure()\n",
    "plt.plot(x, np.exp(2*(x-c)))\n",
    "prev=1.1\n",
    "for k in x:\n",
    "    prev *=5\n",
    "    plt.scatter(k,prev)\n",
    "plt.show()"
   ]
  },
  {
   "cell_type": "code",
   "execution_count": 40,
   "id": "a822436e",
   "metadata": {},
   "outputs": [
    {
     "data": {
      "image/png": "[encoded data removed]",
      "text/plain": [
       "<Figure size 640x480 with 1 Axes>"
      ]
     },
     "metadata": {},
     "output_type": "display_data"
    }
   ],
   "source": [
    "x= np.arange(1,100)\n",
    "y= np.zeros_like(x,dtype='float')\n",
    "y[0]=1.0001\n",
    "for i,k in enumerate(x[:-1]):\n",
    "    y[i+1] = y[i]*1.00001*k\n",
    "plt.figure()\n",
    "plt.plot(x,y)\n",
    "plt.show()"
   ]
  },
  {
   "cell_type": "code",
   "execution_count": null,
   "id": "a5b3f21b",
   "metadata": {},
   "outputs": [],
   "source": []
  },
  {
   "cell_type": "code",
   "execution_count": null,
   "id": "1e1ab93a",
   "metadata": {},
   "outputs": [],
   "source": [
    "# Here I will put the parameters for the formula "
   ]
  },
  {
   "cell_type": "code",
   "execution_count": null,
   "id": "cc16efc1",
   "metadata": {},
   "outputs": [],
   "source": [
    "for pre in layer_1:\n",
    "    for post in layer_2:\n",
    "        "
   ]
  },
  {
   "cell_type": "code",
   "execution_count": 71,
   "id": "13b1eb03",
   "metadata": {},
   "outputs": [
    {
     "ename": "ModuleNotFoundError",
     "evalue": "No module named 'bindsnet'",
     "output_type": "error",
     "traceback": [
      "\u001b[1;31m---------------------------------------------------------------------------\u001b[0m",
      "\u001b[1;31mModuleNotFoundError\u001b[0m                       Traceback (most recent call last)",
      "Cell \u001b[1;32mIn[71], line 1\u001b[0m\n\u001b[1;32m----> 1\u001b[0m \u001b[38;5;28;01mimport\u001b[39;00m \u001b[38;5;21;01mbindsnet\u001b[39;00m\n",
      "\u001b[1;31mModuleNotFoundError\u001b[0m: No module named 'bindsnet'"
     ]
    }
   ],
   "source": [
    "import bindsnet"
   ]
  },
  {
   "cell_type": "markdown",
   "id": "bc075fb4",
   "metadata": {},
   "source": [
    "# FAIL"
   ]
  },
  {
   "cell_type": "markdown",
   "id": "6e672865",
   "metadata": {},
   "source": [
    "```python\n",
    "f(x) = 1 - k*(1+x)"
   ]
  },
  {
   "cell_type": "code",
   "execution_count": null,
   "id": "f9ef91c7",
   "metadata": {},
   "outputs": [],
   "source": [
    "def run_nodes():\n",
    "    "
   ]
  }
 ],
 "metadata": {
  "kernelspec": {
   "display_name": "Python 3 (ipykernel)",
   "language": "python",
   "name": "python3"
  },
  "language_info": {
   "codemirror_mode": {
    "name": "ipython",
    "version": 3
   },
   "file_extension": ".py",
   "mimetype": "text/x-python",
   "name": "python",
   "nbconvert_exporter": "python",
   "pygments_lexer": "ipython3",
   "version": "3.10.12"
  }
 },
 "nbformat": 4,
 "nbformat_minor": 5
}
