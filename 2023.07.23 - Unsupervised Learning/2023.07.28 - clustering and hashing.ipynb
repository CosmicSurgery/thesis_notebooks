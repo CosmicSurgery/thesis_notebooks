{
 "cells": [
  {
   "cell_type": "code",
   "execution_count": 15,
   "id": "5857129f",
   "metadata": {
    "scrolled": false
   },
   "outputs": [
    {
     "name": "stdout",
     "output_type": "stream",
     "text": [
      "Cluster 1: [(0, 31), (0, 74), (0, 89)]\n",
      "Cluster 2: [(0, 43)]\n",
      "Cluster 3: [(0, 55), (0, 67)]\n"
     ]
    }
   ],
   "source": [
    "import numpy as np\n",
    "\n",
    "# Generate a noise-free binary matrix of size 3 by 100 filled with zeros\n",
    "matrix = np.zeros((3, 100), dtype=int)\n",
    "\n",
    "# Define the window size for patterns (3 by 10)\n",
    "window_size = (3, 3)\n",
    "\n",
    "# Generate a priori patterns\n",
    "patterns = [\n",
    "    np.array([[1, 1, 1], [1, 0, 1], [1, 1, 1]]),\n",
    "    np.array([[1, 1, 0], [1, 0, 1], [0, 1, 1]]),\n",
    "    np.array([[0, 1, 1], [1, 0, 1], [1, 1, 0]])\n",
    "]\n",
    "\n",
    "# Randomly place the patterns within the matrix\n",
    "repetitions = 3\n",
    "for repetition in range(repetitions):\n",
    "    for pattern in patterns:\n",
    "        row_pos, col_pos = np.random.randint(0, matrix.shape[0] - window_size[0] + 1), np.random.randint(0, matrix.shape[1] - window_size[1] + 1)\n",
    "        matrix[row_pos:row_pos + window_size[0], col_pos:col_pos + window_size[1]] = pattern\n",
    "\n",
    "# Step 1: Pattern-Based Clustering\n",
    "def extract_windows(matrix, window_size):\n",
    "    windows = []\n",
    "    for col in range(matrix.shape[1] - window_size[1] + 1):\n",
    "        window = matrix[:, col : col + window_size[1]]\n",
    "        windows.append(window)\n",
    "    return windows\n",
    "\n",
    "windows = extract_windows(matrix, window_size)\n",
    "\n",
    "# Step 2: Hashing or Dictionary\n",
    "pattern_dict = {}\n",
    "for idx, window in enumerate(windows):\n",
    "    for pattern_id, pattern in enumerate(patterns):\n",
    "        if np.array_equal(window, pattern):\n",
    "            if pattern_id not in pattern_dict:\n",
    "                pattern_dict[pattern_id] = []\n",
    "            pattern_dict[pattern_id].append((idx // matrix.shape[1], idx % matrix.shape[1]))  # Convert idx to (row, col)\n",
    "\n",
    "# Step 3: Identify Repeats\n",
    "clusters = list(pattern_dict.values())\n",
    "\n",
    "# Step 4: Count and Analyze\n",
    "for idx, cluster in enumerate(clusters):\n",
    "    print(f\"Cluster {idx+1}: {cluster}\")\n",
    "\n",
    "# Step 5: Post-Processing (Optional)\n"
   ]
  },
  {
   "cell_type": "code",
   "execution_count": 16,
   "id": "c935dacd",
   "metadata": {},
   "outputs": [
    {
     "data": {
      "image/png": "[encoded data removed]",
      "text/plain": [
       "<Figure size 640x480 with 1 Axes>"
      ]
     },
     "metadata": {},
     "output_type": "display_data"
    }
   ],
   "source": [
    "plt.figure()\n",
    "plt.scatter(np.where(matrix)[1], np.where(matrix)[0], marker='|')\n",
    "plt.show()"
   ]
  },
  {
   "cell_type": "code",
   "execution_count": 17,
   "id": "dd73f8ce",
   "metadata": {},
   "outputs": [
    {
     "data": {
      "text/plain": [
       "46"
      ]
     },
     "execution_count": 17,
     "metadata": {},
     "output_type": "execute_result"
    }
   ],
   "source": [
    "np.sum(matrix)"
   ]
  },
  {
   "cell_type": "code",
   "execution_count": 18,
   "id": "06308d6e",
   "metadata": {},
   "outputs": [
    {
     "data": {
      "text/plain": [
       "98"
      ]
     },
     "execution_count": 18,
     "metadata": {},
     "output_type": "execute_result"
    }
   ],
   "source": [
    "len(windows)"
   ]
  }
 ],
 "metadata": {
  "kernelspec": {
   "display_name": "Python 3 (ipykernel)",
   "language": "python",
   "name": "python3"
  },
  "language_info": {
   "codemirror_mode": {
    "name": "ipython",
    "version": 3
   },
   "file_extension": ".py",
   "mimetype": "text/x-python",
   "name": "python",
   "nbconvert_exporter": "python",
   "pygments_lexer": "ipython3",
   "version": "3.11.3"
  }
 },
 "nbformat": 4,
 "nbformat_minor": 5
}
