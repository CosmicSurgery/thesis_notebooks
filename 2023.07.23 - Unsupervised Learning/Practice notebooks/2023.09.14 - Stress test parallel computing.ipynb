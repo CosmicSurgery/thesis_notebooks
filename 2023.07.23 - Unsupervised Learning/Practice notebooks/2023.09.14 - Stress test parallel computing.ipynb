{
 "cells": [
  {
   "cell_type": "code",
   "execution_count": 213,
   "id": "8a2fbaea",
   "metadata": {},
   "outputs": [],
   "source": [
    "import random\n",
    "import numpy as np\n",
    "import json\n",
    "from tqdm import tqdm\n",
    "from scipy.cluster.hierarchy import dendrogram, linkage, fcluster\n",
    "from scipy.spatial.distance import pdist, squareform\n",
    "from scipy.optimize import linear_sum_assignment\n",
    "from collections import Counter\n",
    "import time\n",
    "import os\n"
   ]
  },
  {
   "cell_type": "code",
   "execution_count": 214,
   "id": "0e1e0f34",
   "metadata": {},
   "outputs": [],
   "source": [
    "filename = 'scan_stats.json'"
   ]
  },
  {
   "cell_type": "code",
   "execution_count": 148,
   "id": "9be94178",
   "metadata": {},
   "outputs": [],
   "source": [
    "def generate_synthetic_data(params):\n",
    "    '''\n",
    "    Synthetic Data Generation\n",
    "    '''\n",
    "    # Dense K: matrix of binary images of sizeNxDxM\n",
    "    # Sparse K: set of (delay d, neuron a, and pg b)\n",
    "\n",
    "    M,N,D,T,nrn_fr,pg_fr,background_noise_fr = params['M'], params['N'], params['D'], params['T'], params['nrn_fr'],params['pg_fr'],params['background_noise_fr'],    \n",
    "    '''\n",
    "    Synthetic Data Generation\n",
    "    '''\n",
    "    # Dense K: matrix of binary images of sizeNxDxM\n",
    "    # Sparse K: set of (delay d, neuron a, and pg b)\n",
    "\n",
    "    K_dense = np.random.rand(N,D,M)*1000\n",
    "    nrn_frs = np.zeros((M))\n",
    "    for m in range(M):\n",
    "        nrn_frs[m] = np.random.poisson(nrn_fr)\n",
    "        K_dense[:,:,m] = (K_dense[:,:,m] < nrn_frs[m]).astype('int')\n",
    "    K_sparse = np.where(K_dense)\n",
    "    K_sparse = (K_sparse[0],K_sparse[1],K_sparse[2]+1)\n",
    "\n",
    "\n",
    "    # dense B: the binary image of the occurrences of the spiking motif as a ( M x T) matrix\n",
    "    # spare B: set of all times t and pg's b\n",
    "    B_dense = np.random.rand(M,T)*1000\n",
    "    pg_frs = np.zeros((M))\n",
    "    for m in range(M):\n",
    "        pg_frs[m] = np.random.poisson(pg_fr)\n",
    "        B_dense[m,:] = (B_dense[m,:] < pg_frs[m]).astype('int')\n",
    "    B_sparse = np.where(B_dense)\n",
    "    B_sparse = (B_sparse[0]+1,B_sparse[1])# This way the first motif starts at index 1 instead of index 0\n",
    "\n",
    "    # now to make the full raster plot keeping the labels in-tact\n",
    "    # dense A: the layered binary images of all neuron spikes by PG ( N x T x M\n",
    "    A_dense = np.zeros((N,T+D,M+1))\n",
    "    A_dense[...,0] = np.random.rand(N,T+D)*1000\n",
    "    A_dense[...,0] = (A_dense[...,0] < background_noise_fr).astype('int')\n",
    "    for i in range(len(B_sparse[0])):\n",
    "        t = B_sparse[1][i]\n",
    "        b = B_sparse[0][i]\n",
    "        A_dense[:, t:t+D, b] += K_dense[...,b-1]\n",
    "\n",
    "    A_sparse = np.where(A_dense)\n",
    "    A_dense = np.sum(A_dense,axis=2)\n",
    "    A_dense[A_dense>1] = 1\n",
    "    \n",
    "    stats = _get_stats(A_sparse, B_sparse, K_sparse)\n",
    "    \n",
    "    return A_dense, A_sparse, B_dense, B_sparse, K_dense, K_sparse, stats\n",
    "\n",
    "def _get_stats(A_sparse, B_sparse, K_sparse):\n",
    "    A_fr = [A_sparse[0].tolist().count(n) for n in np.unique(A_sparse[0])]\n",
    "    B_fr = [B_sparse[0].tolist().count(n) for n in np.unique(B_sparse[0])]\n",
    "    K_fr = [[K_sparse[0][K_sparse[2]==m].tolist().count(n) for n in np.unique(A_sparse[0])] for m in np.unique(K_sparse[2])]\n",
    "    return A_fr, B_fr, K_fr"
   ]
  },
  {
   "cell_type": "code",
   "execution_count": 216,
   "id": "867f603e",
   "metadata": {},
   "outputs": [],
   "source": [
    "def scan_raster(T_labels, N_labels, window_dim = None):\n",
    "    '''\n",
    "    T_labels an array of spiketimes\n",
    "    N_labels corresponding array of neuron labels\n",
    "    window_dim is the size of the window to cluster the spikes\n",
    "    '''\n",
    "    if window_dim == None:\n",
    "        window_dim = 100\n",
    "        \n",
    "    T_labels = np.round(T_labels).astype(int)\n",
    "    T_labels, N_labels = np.unique(np.array([T_labels,N_labels]),axis=1) # This removes any spikes that occur at the same neuron at the same time\n",
    "    N=max(N_labels)+1\n",
    "\n",
    "    print(f'{len(T_labels)} Windows')\n",
    "    windows = np.zeros((len(T_labels)),dtype='object')\n",
    "    for i,window_time in enumerate(T_labels):\n",
    "        condition = (T_labels > window_time-window_dim) & (T_labels < window_time + window_dim)\n",
    "        window = np.array([T_labels[condition]-window_time, N_labels[condition]]).T\n",
    "        window =  {tuple(row) for row in  window}\n",
    "        windows[i] = window\n",
    "        print(f'Windowing... {round(100*i/len(T_labels))}%',end='\\r')\n",
    "        \n",
    "    # Set the cutoff value for clustering\n",
    "    cutoff = 0\n",
    "    lr = 0.01\n",
    "\n",
    "    max_iter=50\n",
    "    lr = 0.01\n",
    "    iter_ = 0\n",
    "\n",
    "    opt_cutoff = cutoff\n",
    "    max_seq_rep = 0\n",
    "    sim_mats = _get_sim_mats(windows, T_labels, N_labels)\n",
    "    \n",
    "    \n",
    "    print(\"Clustering...\",end=\"\\r\")\n",
    "\n",
    "    while iter_ <= max_iter: # this is just a for loop...\n",
    "        clusters = _cluster_windows(cutoff, N_labels, sim_mats)\n",
    "        cluster_sq, _sq_counts, sublist_keys_filt = _check_seq(clusters, T_labels, N_labels)\n",
    "\n",
    "        if len(sublist_keys_filt) != 0:\n",
    "            max_ = np.max([len(k) for k in sublist_keys_filt])\n",
    "            if max_seq_rep < max_:\n",
    "                max_seq_rep = max_\n",
    "                opt_cutoff=cutoff\n",
    "\n",
    "        cutoff += lr\n",
    "        iter_ +=1\n",
    "\n",
    "\n",
    "        print(f'iter - {iter_/max_iter} | cutoff - {cutoff} | opt_cutoff - {opt_cutoff} | most_detections - {max_seq_rep}',end='\\r')\n",
    "\n",
    "    clusters = _cluster_windows(opt_cutoff, N_labels, sim_mats)\n",
    "    cluster_sq, sq_counts, sublist_keys_filt = _check_seq(clusters, T_labels, N_labels)\n",
    "    \n",
    "\n",
    "    ''' to get the timings'''\n",
    "\n",
    "    # Sort y according to x\n",
    "    sorted_indices = np.argsort(T_labels)\n",
    "    sorted_x = T_labels[sorted_indices]\n",
    "    \n",
    "    print(\"Re-Clustering...\",end=\"\\r\")\n",
    "\n",
    "    all_times = []\n",
    "    all_labels = []\n",
    "    for key in sublist_keys_filt:\n",
    "        pattern_repetition_labels = np.zeros((len(cluster_sq[str(key)]),len(clusters)))\n",
    "        for i,k in enumerate(cluster_sq[str(key)]):\n",
    "            pattern_repetition_labels[i][clusters==k] = 1\n",
    "            pattern_repetition_labels[i] *= np.cumsum(pattern_repetition_labels[i])\n",
    "        pattern_repetition_labels = np.sum(pattern_repetition_labels,axis=0,dtype='int')\n",
    "        all_labels.append(pattern_repetition_labels)\n",
    "\n",
    "        sorted_y = pattern_repetition_labels[sorted_indices]\n",
    "        pattern_times = np.array([sorted_x[sorted_y==i][0] for i in range(1,max(pattern_repetition_labels)+1)])\n",
    "        all_times.append(pattern_times)\n",
    "        \n",
    "    print(\"Extracting templates...\",end=\"\\r\")\n",
    "\n",
    "    pattern_template = []\n",
    "    patterns = []\n",
    "    for i in range(len(all_times)):\n",
    "        pattern = []\n",
    "        pattern_template.append([])\n",
    "        for time in all_times[i]:\n",
    "            condition = (T_labels > time-window_dim*2) & (T_labels < time + window_dim*2)\n",
    "            pattern = [tuple(k) for k in np.array([T_labels[condition]-time, N_labels[condition]]).T] # creating a list of tuples\n",
    "            pattern_template[-1] += pattern # adds all points of each pattern to template_pattern\n",
    "            patterns.append(pattern)\n",
    "        print(f\"Extracting templates... {round(100*i/len(all_times))}%\",end=\"\\r\")\n",
    "    \n",
    "    print(f\"{len(pattern_template)} patterns found...\")\n",
    "\n",
    "    for i,pattern in enumerate(pattern_template):\n",
    "        counts = [pattern.count(k) for k in pattern]\n",
    "        pattern_template[i] = np.array(pattern)[np.where(counts == np.max(counts))[0]]\n",
    "        pattern_template[i][:,0] -= min(pattern_template[i][:,0])\n",
    "        pattern_template[i] = np.unique(pattern_template[i],axis=0)\n",
    "    \n",
    "    if len(pattern_template) == 0:\n",
    "        return pattern_template, sublist_keys_filt, None\n",
    "    \n",
    "    win_size = (N,1+max([max(k[:,0]) for k in pattern_template]))\n",
    "    pattern_img = np.zeros((len(pattern_template),*win_size))\n",
    "    for p,pattern in enumerate(pattern_template):\n",
    "        for (i,j) in pattern:\n",
    "            pattern_img[p,j,i] = 1\n",
    "\n",
    "    return pattern_template, sublist_keys_filt, pattern_img\n",
    "\n",
    "def _get_sim_mats(windows, T_labels, N_labels):\n",
    "    sim_mats = np.zeros(np.max(N_labels)+1,dtype='object')\n",
    "    for n in np.unique(N_labels):\n",
    "        idc = np.where(N_labels==n)[0]\n",
    "        windows_n = windows[idc]\n",
    "        if len(windows_n) > 1:\n",
    "            x = np.zeros((len(windows_n),len(windows_n)))\n",
    "            for i in range(windows_n.shape[0]):\n",
    "                for j in range(windows_n.shape[0]):\n",
    "                    common_rows = windows_n[i].intersection(windows_n[j])\n",
    "                    num_identical_rows = len(common_rows)\n",
    "                    x[i,j] = len(common_rows)/min(len(windows_n[i]),len(windows_n[j]))\n",
    "            np.fill_diagonal(x,0)# make sure the diagonals are zero, this is important the more spikes there are...\n",
    "            sim_mats[n] = x-1 \n",
    "        print(f\"Generating sim matrices {round(n*100/np.max(N_labels))}%\", end = \"\\r\")\n",
    "    return sim_mats\n",
    "\n",
    "def _cluster_windows(cutoff, N_labels, sim_mats):\n",
    "    clusters = np.zeros_like(N_labels)\n",
    "    for n in np.unique(N_labels):\n",
    "        idc = np.where(N_labels==n)[0]\n",
    "        if (type(sim_mats[n]) == np.ndarray) and (not np.all(sim_mats[n] == 0)):\n",
    "            l = max(clusters)+1\n",
    "            clusters[idc]= l+fcluster(linkage(sim_mats[n], method='complete'), cutoff, criterion='distance')\n",
    "    return clusters\n",
    "\n",
    "def _check_seq(clusters, T_labels, N_labels):\n",
    "\n",
    "    time_differences = []\n",
    "    cluster_sq = {}\n",
    "    for cluster in np.unique(clusters):\n",
    "        temp = list(np.diff(np.unique(T_labels[clusters == cluster])))\n",
    "        str_temp = str(temp)\n",
    "        time_differences.append(temp)\n",
    "        if str_temp in cluster_sq.keys():\n",
    "            cluster_sq[str_temp] = cluster_sq[str_temp] + [cluster]\n",
    "        else:\n",
    "            cluster_sq[str_temp] = [cluster]\n",
    "\n",
    "    # Convert the list of lists to a set of tuples to remove duplicates\n",
    "    unique_sublists_set = set(tuple(sublist) for sublist in time_differences if sublist)\n",
    "\n",
    "    # Convert the set of tuples back to a list of lists\n",
    "    unique_sublists = [list(sublist) for sublist in unique_sublists_set]\n",
    "\n",
    "    # Count the occurrences of each unique sublist in the original list\n",
    "    sublist_counts = Counter(tuple(sublist) for sublist in time_differences if sublist)\n",
    "\n",
    "    # Print the unique sublists and their respective counts\n",
    "    sq_counts = np.zeros(len(sublist_counts)) \n",
    "    for i,sublist in enumerate(unique_sublists):\n",
    "        count = sublist_counts[tuple(sublist)]\n",
    "        sq_counts[i] = count\n",
    "    #     print(f\"{sublist}: {count} occurrences\")\n",
    "    sublist_keys_np = np.array([list(key) for key in sublist_counts.keys()],dtype='object')\n",
    "    sublist_keys_filt = sublist_keys_np[np.array(list(sublist_counts.values())) >1] # only bother clustering repetitions that appear for more than one neuron\n",
    "    \n",
    "    return cluster_sq, sq_counts, sublist_keys_filt\n"
   ]
  },
  {
   "cell_type": "code",
   "execution_count": 157,
   "id": "ccf37a74",
   "metadata": {},
   "outputs": [],
   "source": [
    "from scipy.signal import correlate\n",
    "def get_acc(ground_truths,detected_patterns):\n",
    "    # Calculate cross-correlation matrix\n",
    "    cross_corr_matrix = np.zeros((ground_truths.shape[2], detected_patterns.shape[2]))\n",
    "    SM_acc = np.zeros((ground_truths.shape[2]))\n",
    "    \n",
    "    if len(detected_patterns == 0):\n",
    "        return SM_acc, cross_corr_matrix\n",
    "    \n",
    "    for ground_truths_idx in range(ground_truths.shape[2]):\n",
    "        for detected_patterns_idx in range(detected_patterns.shape[2]):\n",
    "            cross_corr = np.zeros((ground_truths.shape[1]+detected_patterns.shape[1]-1))\n",
    "            for n in range(ground_truths.shape[0]):\n",
    "                cross_corr += correlate(ground_truths[n, :, ground_truths_idx], detected_patterns[n, :, detected_patterns_idx], mode='full')\n",
    "            max_corr = np.max(cross_corr) / max(np.sum(ground_truths[...,ground_truths_idx]),np.sum(detected_patterns[...,detected_patterns_idx]))\n",
    "            cross_corr_matrix[ground_truths_idx, detected_patterns_idx] = max_corr\n",
    "#     print(cross_corr_matrix)\n",
    "#     print( np.sum(ground_truths[...,ground_truths_idx]))\n",
    "    SM_acc = np.max(cross_corr_matrix,axis=1)\n",
    "    return SM_acc, cross_corr_matrix"
   ]
  },
  {
   "cell_type": "code",
   "execution_count": 250,
   "id": "2066d78a",
   "metadata": {
    "scrolled": true
   },
   "outputs": [
    {
     "name": "stderr",
     "output_type": "stream",
     "text": [
      "\r",
      "  0%|                                                                                            | 0/5 [00:00<?, ?it/s]"
     ]
    },
    {
     "name": "stdout",
     "output_type": "stream",
     "text": [
      "Params: {'M': 64, 'N': 30, 'D': 150, 'T': 1000, 'nrn_fr': 5, 'pg_fr': 5, 'background_noise_fr': 5}\n",
      "Generating raster plot...\n",
      "6012 Windows\n",
      "80 patterns found...... 99%00000000000002 | opt_cutoff - 0.3900000000000002 | most_detections - 332\n"
     ]
    },
    {
     "name": "stderr",
     "output_type": "stream",
     "text": [
      "\r",
      " 20%|████████████████▌                                                                  | 1/5 [10:36<42:26, 636.65s/it]"
     ]
    },
    {
     "name": "stdout",
     "output_type": "stream",
     "text": [
      "(0.0, 0.0)\n",
      "Params: {'M': 64, 'N': 30, 'D': 30, 'T': 1000, 'nrn_fr': 15, 'pg_fr': 5, 'background_noise_fr': 5}\n",
      "Generating raster plot...\n",
      "3910 Windows\n",
      "iter - 1.02 | cutoff - 0.5100000000000002 | opt_cutoff - 0.36000000000000015 | most_detections - 11\r"
     ]
    },
    {
     "name": "stderr",
     "output_type": "stream",
     "text": [
      "\r",
      " 40%|█████████████████████████████████▏                                                 | 2/5 [11:10<14:06, 282.32s/it]"
     ]
    },
    {
     "name": "stdout",
     "output_type": "stream",
     "text": [
      "1 patterns found...s... 0%\n",
      "(0.0, 0.0)\n",
      "Params: {'M': 4, 'N': 5, 'D': 150, 'T': 1000, 'nrn_fr': 15, 'pg_fr': 3, 'background_noise_fr': 2}\n",
      "Generating raster plot...\n",
      "259 Windows\n",
      "iter - 0.98 | cutoff - 0.49000000000000027 | opt_cutoff - 0.38000000000000017 | most_detections - 4\r"
     ]
    },
    {
     "name": "stderr",
     "output_type": "stream",
     "text": [
      "\r",
      " 60%|█████████████████████████████████████████████████▊                                 | 3/5 [11:11<05:07, 153.84s/it]"
     ]
    },
    {
     "name": "stdout",
     "output_type": "stream",
     "text": [
      "1 patterns found...s... 0%100000000000002 | opt_cutoff - 0.38000000000000017 | most_detections - 4\n",
      "(0.0, 0.0)\n",
      "Params: {'M': 16, 'N': 5, 'D': 30, 'T': 1000, 'nrn_fr': 10, 'pg_fr': 4, 'background_noise_fr': 0}\n",
      "Generating raster plot...\n",
      "126 Windows\n",
      "iter - 0.82 | cutoff - 0.4100000000000002 | opt_cutoff - 0 | most_detections - 000\r"
     ]
    },
    {
     "name": "stderr",
     "output_type": "stream",
     "text": [
      "\r",
      " 80%|███████████████████████████████████████████████████████████████████▏                | 4/5 [11:12<01:33, 93.29s/it]"
     ]
    },
    {
     "name": "stdout",
     "output_type": "stream",
     "text": [
      "0 patterns found...s...0.5100000000000002 | opt_cutoff - 0 | most_detections - 00\n",
      "(0, 0)\n",
      "Params: {'M': 64, 'N': 60, 'D': 70, 'T': 1000, 'nrn_fr': 15, 'pg_fr': 3, 'background_noise_fr': 0}\n",
      "Generating raster plot...\n",
      "11245 Windows\n",
      "62 patterns found...... 98%00000000000002 | opt_cutoff - 0.4300000000000002 | most_detections - 442\n"
     ]
    },
    {
     "name": "stderr",
     "output_type": "stream",
     "text": [
      "100%|███████████████████████████████████████████████████████████████████████████████████| 5/5 [24:32<00:00, 294.43s/it]"
     ]
    },
    {
     "name": "stdout",
     "output_type": "stream",
     "text": [
      "(0.0, 0.0)\n"
     ]
    },
    {
     "name": "stderr",
     "output_type": "stream",
     "text": [
      "\n"
     ]
    }
   ],
   "source": [
    " # Define the number of random samples you want to take\n",
    "num_samples = 5  # Adjust this based on your computational resources\n",
    "\n",
    "trials = 1\n",
    "\n",
    "# List to hold the results\n",
    "results = []\n",
    "\n",
    "param_combinations = np.array(np.meshgrid(*scan_dict.values())).T.reshape(-1, len(scan_dict))\n",
    "num_iterations = len(param_combinations)\n",
    "\n",
    "# Generate random indices for sampling\n",
    "random_indices = random.sample(range(num_iterations), num_samples)\n",
    "\n",
    "\n",
    "# Iterate through parameter combinations\n",
    "for idx in tqdm(random_indices):\n",
    "    for trial in range(0,trials):\n",
    "        seed=trial\n",
    "        \n",
    "        if os.path.isfile(filename):\n",
    "            with open(filename, 'r') as results_file:\n",
    "                results = json.load(results_file)\n",
    "        \n",
    "        if idc in df['idc'].tolist():\n",
    "            while seed in df[df['idc'] == idc]['trial'].tolist():\n",
    "                seed+=1\n",
    "        \n",
    "        np.random.seed(seed)\n",
    "        params = {key: int(val) for key, val in zip(scan_dict.keys(), param_combinations[idx])}\n",
    "\n",
    "        # Run your program here to generate performance results\n",
    "        print(\"Params:\", params)\n",
    "        print(\"Generating raster plot...\")\n",
    "        start = time.time()\n",
    "        _, A_sparse, _, B_sparse, K_dense, K_sparse, stats = generate_synthetic_data(params)\n",
    "        pattern_template, sublist_keys_filt, pattern_img = scan_raster(A_sparse[1],A_sparse[0],window_dim=params['D'])\n",
    "        if type(pattern_img) != np.ndarray:\n",
    "            performance_result = (0,0)\n",
    "        else:\n",
    "            pattern_img = np.transpose(pattern_img,axes=[1,2,0])\n",
    "            SM_acc, _ = get_acc(K_dense, pattern_img)\n",
    "            performance_result = (np.sum(SM_acc>0.8)/len(SM_acc), np.mean(SM_acc))\n",
    "        end = time.time()\n",
    "\n",
    "        # Create a dictionary to store the result\n",
    "        result = {\n",
    "            'idc': idx,\n",
    "            'seed':seed,\n",
    "            'raster_fr':stats[0],\n",
    "            'pg_fr':stats[1],\n",
    "            'spikes_in_pg':stats[2],\n",
    "            **params,  # Unpack the parameters as separate columns\n",
    "            'performance':performance_result,\n",
    "            'time':round(end-start)\n",
    "        }\n",
    "\n",
    "        print(performance_result)\n",
    "\n",
    "        # Append the result to the list\n",
    "        results.append(result)\n",
    "    # Write the entire list of results to a JSON file\n",
    "    with open(filename, 'w') as results_file:\n",
    "        json.dump(results, results_file, indent=4)"
   ]
  },
  {
   "cell_type": "code",
   "execution_count": null,
   "id": "a702f23b",
   "metadata": {},
   "outputs": [],
   "source": []
  },
  {
   "cell_type": "code",
   "execution_count": 251,
   "id": "00944780",
   "metadata": {},
   "outputs": [],
   "source": [
    "if os.path.isfile(filename):\n",
    "    with open(filename, 'r') as results_file:\n",
    "        test = json.load(results_file)"
   ]
  },
  {
   "cell_type": "code",
   "execution_count": 252,
   "id": "a1c12ff2",
   "metadata": {},
   "outputs": [
    {
     "data": {
      "text/plain": [
       "[4157, 4277, 2624, 348, 218]"
      ]
     },
     "execution_count": 252,
     "metadata": {},
     "output_type": "execute_result"
    }
   ],
   "source": [
    "[k['idc'] for k in test]"
   ]
  },
  {
   "cell_type": "code",
   "execution_count": 253,
   "id": "c4eb31c7",
   "metadata": {},
   "outputs": [],
   "source": [
    "import pandas as pd\n",
    "df = pd.DataFrame(test)"
   ]
  },
  {
   "cell_type": "code",
   "execution_count": 254,
   "id": "91e64e80",
   "metadata": {},
   "outputs": [
    {
     "data": {
      "text/html": [
       "<div>\n",
       "<style scoped>\n",
       "    .dataframe tbody tr th:only-of-type {\n",
       "        vertical-align: middle;\n",
       "    }\n",
       "\n",
       "    .dataframe tbody tr th {\n",
       "        vertical-align: top;\n",
       "    }\n",
       "\n",
       "    .dataframe thead th {\n",
       "        text-align: right;\n",
       "    }\n",
       "</style>\n",
       "<table border=\"1\" class=\"dataframe\">\n",
       "  <thead>\n",
       "    <tr style=\"text-align: right;\">\n",
       "      <th></th>\n",
       "      <th>idc</th>\n",
       "      <th>seed</th>\n",
       "      <th>raster_fr</th>\n",
       "      <th>pg_fr</th>\n",
       "      <th>spikes_in_pg</th>\n",
       "      <th>M</th>\n",
       "      <th>N</th>\n",
       "      <th>D</th>\n",
       "      <th>T</th>\n",
       "      <th>nrn_fr</th>\n",
       "      <th>background_noise_fr</th>\n",
       "      <th>performance</th>\n",
       "      <th>time</th>\n",
       "    </tr>\n",
       "  </thead>\n",
       "  <tbody>\n",
       "    <tr>\n",
       "      <th>0</th>\n",
       "      <td>4157</td>\n",
       "      <td>0</td>\n",
       "      <td>[246, 223, 328, 157, 215, 207, 194, 228, 197, ...</td>\n",
       "      <td>5</td>\n",
       "      <td>[[0, 2, 1, 0, 0, 0, 0, 1, 0, 1, 1, 0, 0, 0, 0,...</td>\n",
       "      <td>64</td>\n",
       "      <td>30</td>\n",
       "      <td>150</td>\n",
       "      <td>1000</td>\n",
       "      <td>5</td>\n",
       "      <td>5</td>\n",
       "      <td>[0.0, 0.0]</td>\n",
       "      <td>637</td>\n",
       "    </tr>\n",
       "    <tr>\n",
       "      <th>1</th>\n",
       "      <td>4277</td>\n",
       "      <td>0</td>\n",
       "      <td>[111, 173, 170, 152, 187, 111, 111, 144, 153, ...</td>\n",
       "      <td>5</td>\n",
       "      <td>[[0, 1, 0, 0, 1, 1, 2, 2, 0, 1, 0, 2, 0, 1, 1,...</td>\n",
       "      <td>64</td>\n",
       "      <td>30</td>\n",
       "      <td>30</td>\n",
       "      <td>1000</td>\n",
       "      <td>15</td>\n",
       "      <td>5</td>\n",
       "      <td>[0.0, 0.0]</td>\n",
       "      <td>34</td>\n",
       "    </tr>\n",
       "    <tr>\n",
       "      <th>2</th>\n",
       "      <td>2624</td>\n",
       "      <td>0</td>\n",
       "      <td>[65, 52, 38, 71, 37]</td>\n",
       "      <td>3</td>\n",
       "      <td>[[2, 1, 1, 1, 1], [4, 4, 1, 2, 1], [5, 5, 3, 5...</td>\n",
       "      <td>4</td>\n",
       "      <td>5</td>\n",
       "      <td>150</td>\n",
       "      <td>1000</td>\n",
       "      <td>15</td>\n",
       "      <td>2</td>\n",
       "      <td>[0.0, 0.0]</td>\n",
       "      <td>1</td>\n",
       "    </tr>\n",
       "    <tr>\n",
       "      <th>3</th>\n",
       "      <td>348</td>\n",
       "      <td>0</td>\n",
       "      <td>[6, 42, 27, 11, 42]</td>\n",
       "      <td>4</td>\n",
       "      <td>[[0, 0, 0, 1, 1], [0, 0, 0, 1, 0], [0, 0, 1, 0...</td>\n",
       "      <td>16</td>\n",
       "      <td>5</td>\n",
       "      <td>30</td>\n",
       "      <td>1000</td>\n",
       "      <td>10</td>\n",
       "      <td>0</td>\n",
       "      <td>[0, 0]</td>\n",
       "      <td>0</td>\n",
       "    </tr>\n",
       "    <tr>\n",
       "      <th>4</th>\n",
       "      <td>218</td>\n",
       "      <td>0</td>\n",
       "      <td>[236, 206, 175, 210, 288, 264, 157, 159, 157, ...</td>\n",
       "      <td>3</td>\n",
       "      <td>[[1, 0, 3, 1, 2, 1, 0, 1, 0, 0, 0, 0, 0, 0, 0,...</td>\n",
       "      <td>64</td>\n",
       "      <td>60</td>\n",
       "      <td>70</td>\n",
       "      <td>1000</td>\n",
       "      <td>15</td>\n",
       "      <td>0</td>\n",
       "      <td>[0.0, 0.0]</td>\n",
       "      <td>800</td>\n",
       "    </tr>\n",
       "  </tbody>\n",
       "</table>\n",
       "</div>"
      ],
      "text/plain": [
       "    idc  seed                                          raster_fr  pg_fr  \\\n",
       "0  4157     0  [246, 223, 328, 157, 215, 207, 194, 228, 197, ...      5   \n",
       "1  4277     0  [111, 173, 170, 152, 187, 111, 111, 144, 153, ...      5   \n",
       "2  2624     0                               [65, 52, 38, 71, 37]      3   \n",
       "3   348     0                                [6, 42, 27, 11, 42]      4   \n",
       "4   218     0  [236, 206, 175, 210, 288, 264, 157, 159, 157, ...      3   \n",
       "\n",
       "                                        spikes_in_pg   M   N    D     T  \\\n",
       "0  [[0, 2, 1, 0, 0, 0, 0, 1, 0, 1, 1, 0, 0, 0, 0,...  64  30  150  1000   \n",
       "1  [[0, 1, 0, 0, 1, 1, 2, 2, 0, 1, 0, 2, 0, 1, 1,...  64  30   30  1000   \n",
       "2  [[2, 1, 1, 1, 1], [4, 4, 1, 2, 1], [5, 5, 3, 5...   4   5  150  1000   \n",
       "3  [[0, 0, 0, 1, 1], [0, 0, 0, 1, 0], [0, 0, 1, 0...  16   5   30  1000   \n",
       "4  [[1, 0, 3, 1, 2, 1, 0, 1, 0, 0, 0, 0, 0, 0, 0,...  64  60   70  1000   \n",
       "\n",
       "   nrn_fr  background_noise_fr performance  time  \n",
       "0       5                    5  [0.0, 0.0]   637  \n",
       "1      15                    5  [0.0, 0.0]    34  \n",
       "2      15                    2  [0.0, 0.0]     1  \n",
       "3      10                    0      [0, 0]     0  \n",
       "4      15                    0  [0.0, 0.0]   800  "
      ]
     },
     "execution_count": 254,
     "metadata": {},
     "output_type": "execute_result"
    }
   ],
   "source": [
    "df"
   ]
  },
  {
   "cell_type": "code",
   "execution_count": 204,
   "id": "d926c036",
   "metadata": {},
   "outputs": [
    {
     "data": {
      "text/plain": [
       "0    4622\n",
       "Name: idc, dtype: int64"
      ]
     },
     "execution_count": 204,
     "metadata": {},
     "output_type": "execute_result"
    }
   ],
   "source": [
    "df['idc']"
   ]
  },
  {
   "cell_type": "code",
   "execution_count": 211,
   "id": "cb70d108",
   "metadata": {},
   "outputs": [
    {
     "data": {
      "text/plain": [
       "[0]"
      ]
     },
     "execution_count": 211,
     "metadata": {},
     "output_type": "execute_result"
    }
   ],
   "source": [
    "df[df['idc'] == idc]['trial'].tolist()"
   ]
  },
  {
   "cell_type": "code",
   "execution_count": 199,
   "id": "6e8503e0",
   "metadata": {},
   "outputs": [
    {
     "data": {
      "text/plain": [
       "[4622]"
      ]
     },
     "execution_count": 199,
     "metadata": {},
     "output_type": "execute_result"
    }
   ],
   "source": [
    "df['idc'].tolist()"
   ]
  },
  {
   "cell_type": "code",
   "execution_count": null,
   "id": "c4460839",
   "metadata": {},
   "outputs": [],
   "source": [
    "if idc in df['idc'].tolist():\n",
    "    while seed in df[df['idc'] == idc]['trial'].tolist():\n",
    "        seed+=1\n",
    "        "
   ]
  },
  {
   "cell_type": "code",
   "execution_count": 212,
   "id": "d2392eb6",
   "metadata": {},
   "outputs": [
    {
     "ename": "FileNotFoundError",
     "evalue": "[Errno 2] No such file or directory: 'scan_statds.json'",
     "output_type": "error",
     "traceback": [
      "\u001b[1;31m---------------------------------------------------------------------------\u001b[0m",
      "\u001b[1;31mFileNotFoundError\u001b[0m                         Traceback (most recent call last)",
      "Cell \u001b[1;32mIn[212], line 1\u001b[0m\n\u001b[1;32m----> 1\u001b[0m \u001b[38;5;28;01mwith\u001b[39;00m \u001b[38;5;28mopen\u001b[39m(\u001b[38;5;124m'\u001b[39m\u001b[38;5;124mscan_statds.json\u001b[39m\u001b[38;5;124m'\u001b[39m, \u001b[38;5;124m'\u001b[39m\u001b[38;5;124mr\u001b[39m\u001b[38;5;124m'\u001b[39m) \u001b[38;5;28;01mas\u001b[39;00m results_file:\n\u001b[0;32m      2\u001b[0m     test \u001b[38;5;241m=\u001b[39m json\u001b[38;5;241m.\u001b[39mload(results_file)\n",
      "File \u001b[1;32m~\\anaconda3\\envs\\mysnn\\Lib\\site-packages\\IPython\\core\\interactiveshell.py:284\u001b[0m, in \u001b[0;36m_modified_open\u001b[1;34m(file, *args, **kwargs)\u001b[0m\n\u001b[0;32m    277\u001b[0m \u001b[38;5;28;01mif\u001b[39;00m file \u001b[38;5;129;01min\u001b[39;00m {\u001b[38;5;241m0\u001b[39m, \u001b[38;5;241m1\u001b[39m, \u001b[38;5;241m2\u001b[39m}:\n\u001b[0;32m    278\u001b[0m     \u001b[38;5;28;01mraise\u001b[39;00m \u001b[38;5;167;01mValueError\u001b[39;00m(\n\u001b[0;32m    279\u001b[0m         \u001b[38;5;124mf\u001b[39m\u001b[38;5;124m\"\u001b[39m\u001b[38;5;124mIPython won\u001b[39m\u001b[38;5;124m'\u001b[39m\u001b[38;5;124mt let you open fd=\u001b[39m\u001b[38;5;132;01m{\u001b[39;00mfile\u001b[38;5;132;01m}\u001b[39;00m\u001b[38;5;124m by default \u001b[39m\u001b[38;5;124m\"\u001b[39m\n\u001b[0;32m    280\u001b[0m         \u001b[38;5;124m\"\u001b[39m\u001b[38;5;124mas it is likely to crash IPython. If you know what you are doing, \u001b[39m\u001b[38;5;124m\"\u001b[39m\n\u001b[0;32m    281\u001b[0m         \u001b[38;5;124m\"\u001b[39m\u001b[38;5;124myou can use builtins\u001b[39m\u001b[38;5;124m'\u001b[39m\u001b[38;5;124m open.\u001b[39m\u001b[38;5;124m\"\u001b[39m\n\u001b[0;32m    282\u001b[0m     )\n\u001b[1;32m--> 284\u001b[0m \u001b[38;5;28;01mreturn\u001b[39;00m io_open(file, \u001b[38;5;241m*\u001b[39margs, \u001b[38;5;241m*\u001b[39m\u001b[38;5;241m*\u001b[39mkwargs)\n",
      "\u001b[1;31mFileNotFoundError\u001b[0m: [Errno 2] No such file or directory: 'scan_statds.json'"
     ]
    }
   ],
   "source": [
    "with open('scan_statds.json', 'r') as results_file:\n",
    "    test = json.load(results_file)"
   ]
  },
  {
   "cell_type": "code",
   "execution_count": null,
   "id": "9c5ddf4f",
   "metadata": {},
   "outputs": [],
   "source": []
  },
  {
   "cell_type": "code",
   "execution_count": null,
   "id": "5dd9e1f0",
   "metadata": {},
   "outputs": [],
   "source": []
  },
  {
   "cell_type": "code",
   "execution_count": 144,
   "id": "8319fec5",
   "metadata": {},
   "outputs": [],
   "source": [
    "def main():\n",
    "        # Define the number of random samples you want to take\n",
    "    num_samples = 1  # Adjust this based on your computational resources\n",
    "    \n",
    "    trials = 1\n",
    "    \n",
    "    # List to hold the results\n",
    "    results = []\n",
    "    \n",
    "    param_combinations = np.array(np.meshgrid(*scan_dict.values())).T.reshape(-1, len(scan_dict))\n",
    "    num_iterations = len(param_combinations)\n",
    "    \n",
    "    # Generate random indices for sampling\n",
    "    random_indices = random.sample(range(num_iterations), num_samples)\n",
    "    \n",
    "    # Iterate through parameter combinations\n",
    "    for idx in tqdm(random_indices):\n",
    "        for trial in range(0,trials):\n",
    "            seed=trial\n",
    "            np.random.seed(seed)\n",
    "            params = {key: int(val) for key, val in zip(scan_dict.keys(), param_combinations[idx])}\n",
    "\n",
    "            # Run your program here to generate performance results\n",
    "            print(\"Params:\", params)\n",
    "            print(\"Generating raster plot...\")\n",
    "            _, A_sparse, _, B_sparse, K_dense, K_sparse, stats = generate_synthetic_data(params)\n",
    "            print(\"Clustering...\")\n",
    "            pattern_template, sublist_keys_filt, pattern_img = scan_raster(A_sparse[1],A_sparse[0],window_dim=params['D'])\n",
    "            if type(pattern_img) != np.ndarray:\n",
    "                performance_result = (0,0)\n",
    "            else:\n",
    "                pattern_img = np.transpose(pattern_img,axes=[1,2,0])\n",
    "                SM_acc, _ = get_acc(K_dense, pattern_img)\n",
    "                performance_result = (np.sum(SM_acc>0.8)/len(SM_acc), np.mean(SM_acc))\n",
    "\n",
    "            # Create a dictionary to store the result\n",
    "            result = {\n",
    "                'idc': idx,\n",
    "                'trial':trial,\n",
    "                'data':[A_sparse,K_sparse,B_sparse],\n",
    "                **params,  # Unpack the parameters as separate columns\n",
    "                'performance':performance_result\n",
    "            }\n",
    "            \n",
    "            print(performance_result)\n",
    "\n",
    "            # Append the result to the list\n",
    "            results.append(result)\n",
    "        # Write the entire list of results to a JSON file\n",
    "    with open('scan_stats.json', 'w') as results_file:\n",
    "        json.dump(results, results_file, indent=4)\n",
    "        \n",
    "    return results\n"
   ]
  },
  {
   "cell_type": "code",
   "execution_count": 145,
   "id": "102d9b09",
   "metadata": {},
   "outputs": [],
   "source": [
    "'''\n",
    "Model default parameters\n",
    "'''\n",
    "\n",
    "M = 4 # Number of Spiking motifs\n",
    "N = 20 # Number of input neurons\n",
    "D = 71 # temporal depth of receptive field\n",
    "T = 1000\n",
    "nrn_fr = 15 # hz\n",
    "pg_fr = 6 # hz\n",
    "background_noise_fr = 10 # hz\n",
    "seed=41\n",
    "np.random.seed(seed)"
   ]
  },
  {
   "cell_type": "code",
   "execution_count": 146,
   "id": "25860de3",
   "metadata": {},
   "outputs": [],
   "source": [
    "default_params = {\n",
    "    'M':M,\n",
    "    'N':N,\n",
    "    'D':D,\n",
    "    'T':T,\n",
    "    'nrn_fr':nrn_fr,\n",
    "    'pg_fr':pg_fr,\n",
    "    'background_noise_fr':background_noise_fr,\n",
    "    'seed':seed\n",
    "}\n",
    "scan_dict = {\n",
    "    'M':[1,4,16,32,64],\n",
    "    'N':[5,30,60,100],\n",
    "    'D':[10,30,70,150],\n",
    "    'T':[1000],\n",
    "    'nrn_fr':[5,10,15],\n",
    "    'pg_fr':[3,4,5,8,10],\n",
    "    'background_noise_fr':[0,1,2,5,10]\n",
    "}"
   ]
  },
  {
   "cell_type": "code",
   "execution_count": 147,
   "id": "5d2b7139",
   "metadata": {
    "scrolled": true
   },
   "outputs": [
    {
     "name": "stderr",
     "output_type": "stream",
     "text": [
      "  0%|                                                                                            | 0/1 [00:00<?, ?it/s]"
     ]
    },
    {
     "name": "stdout",
     "output_type": "stream",
     "text": [
      "Params: {'M': 1, 'N': 60, 'D': 70, 'T': 1000, 'nrn_fr': 15, 'pg_fr': 5, 'background_noise_fr': 2}\n",
      "Generating raster plot...\n"
     ]
    },
    {
     "name": "stderr",
     "output_type": "stream",
     "text": [
      "\n"
     ]
    },
    {
     "ename": "ValueError",
     "evalue": "too many values to unpack (expected 6)",
     "output_type": "error",
     "traceback": [
      "\u001b[1;31m---------------------------------------------------------------------------\u001b[0m",
      "\u001b[1;31mValueError\u001b[0m                                Traceback (most recent call last)",
      "Cell \u001b[1;32mIn[147], line 1\u001b[0m\n\u001b[1;32m----> 1\u001b[0m results \u001b[38;5;241m=\u001b[39m main()\n",
      "Cell \u001b[1;32mIn[144], line 26\u001b[0m, in \u001b[0;36mmain\u001b[1;34m()\u001b[0m\n\u001b[0;32m     24\u001b[0m \u001b[38;5;28mprint\u001b[39m(\u001b[38;5;124m\"\u001b[39m\u001b[38;5;124mParams:\u001b[39m\u001b[38;5;124m\"\u001b[39m, params)\n\u001b[0;32m     25\u001b[0m \u001b[38;5;28mprint\u001b[39m(\u001b[38;5;124m\"\u001b[39m\u001b[38;5;124mGenerating raster plot...\u001b[39m\u001b[38;5;124m\"\u001b[39m)\n\u001b[1;32m---> 26\u001b[0m _, A_sparse, _, B_sparse, K_dense, K_sparse \u001b[38;5;241m=\u001b[39m generate_synthetic_data(params)\n\u001b[0;32m     27\u001b[0m \u001b[38;5;28mprint\u001b[39m(\u001b[38;5;124m\"\u001b[39m\u001b[38;5;124mClustering...\u001b[39m\u001b[38;5;124m\"\u001b[39m)\n\u001b[0;32m     28\u001b[0m pattern_template, sublist_keys_filt, pattern_img \u001b[38;5;241m=\u001b[39m scan_raster(A_sparse[\u001b[38;5;241m1\u001b[39m],A_sparse[\u001b[38;5;241m0\u001b[39m],window_dim\u001b[38;5;241m=\u001b[39mparams[\u001b[38;5;124m'\u001b[39m\u001b[38;5;124mD\u001b[39m\u001b[38;5;124m'\u001b[39m])\n",
      "\u001b[1;31mValueError\u001b[0m: too many values to unpack (expected 6)"
     ]
    }
   ],
   "source": [
    "results = main()"
   ]
  },
  {
   "cell_type": "code",
   "execution_count": 19,
   "id": "fdd883fe",
   "metadata": {},
   "outputs": [],
   "source": [
    "params = {'M': 32, 'N': 5, 'D': 150, 'T': 1000, 'nrn_fr': 5, 'pg_fr': 5, 'background_noise_fr': 0}"
   ]
  },
  {
   "cell_type": "code",
   "execution_count": 21,
   "id": "cfe4f3b7",
   "metadata": {},
   "outputs": [],
   "source": [
    "_, A_sparse, _, B_sparse, K_dense, K_sparse = generate_synthetic_data(params)\n",
    "N_labels, T_labels = A_sparse[0], A_sparse[1]"
   ]
  },
  {
   "cell_type": "code",
   "execution_count": 26,
   "id": "03651dbd",
   "metadata": {},
   "outputs": [],
   "source": [
    "window_dim = None"
   ]
  },
  {
   "cell_type": "code",
   "execution_count": 27,
   "id": "4b6679d5",
   "metadata": {},
   "outputs": [
    {
     "name": "stdout",
     "output_type": "stream",
     "text": [
      "Cleaning spikes...\r",
      "Windowing... 717\n"
     ]
    },
    {
     "ename": "IndexError",
     "evalue": "index 4 is out of bounds for axis 0 with size 4",
     "output_type": "error",
     "traceback": [
      "\u001b[1;31m---------------------------------------------------------------------------\u001b[0m",
      "\u001b[1;31mIndexError\u001b[0m                                Traceback (most recent call last)",
      "Cell \u001b[1;32mIn[27], line 28\u001b[0m\n\u001b[0;32m     26\u001b[0m opt_cutoff \u001b[38;5;241m=\u001b[39m cutoff\n\u001b[0;32m     27\u001b[0m max_seq_rep \u001b[38;5;241m=\u001b[39m \u001b[38;5;241m0\u001b[39m\n\u001b[1;32m---> 28\u001b[0m sim_mats \u001b[38;5;241m=\u001b[39m _get_sim_mats(windows, T_labels, N_labels)\n\u001b[0;32m     30\u001b[0m \u001b[38;5;28;01mwhile\u001b[39;00m iter_ \u001b[38;5;241m<\u001b[39m\u001b[38;5;241m=\u001b[39m max_iter: \u001b[38;5;66;03m# this is just a for loop...\u001b[39;00m\n\u001b[0;32m     31\u001b[0m     clusters \u001b[38;5;241m=\u001b[39m _cluster_windows(cutoff, N_labels, sim_mats)\n",
      "Cell \u001b[1;32mIn[24], line 15\u001b[0m, in \u001b[0;36m_get_sim_mats\u001b[1;34m(windows, T_labels, N_labels)\u001b[0m\n\u001b[0;32m     13\u001b[0m                 x[i,j] \u001b[38;5;241m=\u001b[39m \u001b[38;5;28mlen\u001b[39m(common_rows)\u001b[38;5;241m/\u001b[39m\u001b[38;5;28mmin\u001b[39m(\u001b[38;5;28mlen\u001b[39m(windows_n[i]),\u001b[38;5;28mlen\u001b[39m(windows_n[j]))\n\u001b[0;32m     14\u001b[0m         np\u001b[38;5;241m.\u001b[39mfill_diagonal(x,\u001b[38;5;241m0\u001b[39m)\u001b[38;5;66;03m# make sure the diagonals are zero, this is important the more spikes there are...\u001b[39;00m\n\u001b[1;32m---> 15\u001b[0m         sim_mats[n] \u001b[38;5;241m=\u001b[39m x\u001b[38;5;241m-\u001b[39m\u001b[38;5;241m1\u001b[39m \n\u001b[0;32m     16\u001b[0m \u001b[38;5;28;01mreturn\u001b[39;00m sim_mats\n",
      "\u001b[1;31mIndexError\u001b[0m: index 4 is out of bounds for axis 0 with size 4"
     ]
    }
   ],
   "source": [
    "\n",
    "print(f'Cleaning spikes...',end='\\r')\n",
    "if window_dim == None:\n",
    "    window_dim = 100\n",
    "\n",
    "T_labels = np.round(T_labels).astype(int)\n",
    "T_labels, N_labels = np.unique(np.array([T_labels,N_labels]),axis=1) # This removes any spikes that occur at the same neuron at the same time\n",
    "N=max(N_labels)+1\n",
    "\n",
    "print(f'Windowing... {len(T_labels)}')\n",
    "windows = np.zeros((len(T_labels)),dtype='object')\n",
    "for i,window_time in enumerate(T_labels):\n",
    "    condition = (T_labels > window_time-window_dim) & (T_labels < window_time + window_dim)\n",
    "    window = np.array([T_labels[condition]-window_time, N_labels[condition]]).T\n",
    "    window =  {tuple(row) for row in  window}\n",
    "    windows[i] = window\n",
    "\n",
    "\n",
    "# Set the cutoff value for clustering\n",
    "cutoff = 0\n",
    "lr = 0.01\n",
    "\n",
    "max_iter=50\n",
    "lr = 0.01\n",
    "iter_ = 0\n",
    "\n",
    "opt_cutoff = cutoff\n",
    "max_seq_rep = 0\n",
    "sim_mats = _get_sim_mats(windows, T_labels, N_labels)\n",
    "\n",
    "while iter_ <= max_iter: # this is just a for loop...\n",
    "    clusters = _cluster_windows(cutoff, N_labels, sim_mats)\n",
    "    cluster_sq, _sq_counts, sublist_keys_filt = _check_seq(clusters, T_labels, N_labels)\n",
    "\n",
    "    if len(sublist_keys_filt) != 0:\n",
    "        max_ = np.max([len(k) for k in sublist_keys_filt])\n",
    "        if max_seq_rep < max_:\n",
    "            max_seq_rep = max_\n",
    "            opt_cutoff=cutoff\n",
    "\n",
    "    cutoff += lr\n",
    "    iter_ +=1\n",
    "\n",
    "\n",
    "    print(f'iter - {iter_/max_iter} | cutoff - {cutoff} | opt_cutoff - {opt_cutoff} | most_detections - {max_seq_rep}',end='\\r')\n",
    "\n",
    "clusters = _cluster_windows(opt_cutoff, N_labels, sim_mats)\n",
    "cluster_sq, sq_counts, sublist_keys_filt = _check_seq(clusters, T_labels, N_labels)\n",
    "\n",
    "\n",
    "''' to get the timings'''\n",
    "\n",
    "# Sort y according to x\n",
    "sorted_indices = np.argsort(T_labels)\n",
    "sorted_x = T_labels[sorted_indices]\n",
    "\n",
    "all_times = []\n",
    "all_labels = []\n",
    "for key in sublist_keys_filt:\n",
    "    pattern_repetition_labels = np.zeros((len(cluster_sq[str(key)]),len(clusters)))\n",
    "    for i,k in enumerate(cluster_sq[str(key)]):\n",
    "        pattern_repetition_labels[i][clusters==k] = 1\n",
    "        pattern_repetition_labels[i] *= np.cumsum(pattern_repetition_labels[i])\n",
    "    pattern_repetition_labels = np.sum(pattern_repetition_labels,axis=0,dtype='int')\n",
    "    all_labels.append(pattern_repetition_labels)\n",
    "\n",
    "    sorted_y = pattern_repetition_labels[sorted_indices]\n",
    "    pattern_times = np.array([sorted_x[sorted_y==i][0] for i in range(1,max(pattern_repetition_labels)+1)])\n",
    "    all_times.append(pattern_times)\n",
    "\n",
    "pattern_template = []\n",
    "patterns = []\n",
    "for i in range(len(all_times)):\n",
    "    pattern = []\n",
    "    pattern_template.append([])\n",
    "    for time in all_times[i]:\n",
    "        condition = (T_labels > time-window_dim*2) & (T_labels < time + window_dim*2)\n",
    "        pattern = [tuple(k) for k in np.array([T_labels[condition]-time, N_labels[condition]]).T] # creating a list of tuples\n",
    "        pattern_template[-1] += pattern # adds all points of each pattern to template_pattern\n",
    "        patterns.append(pattern)\n",
    "\n",
    "for i,pattern in enumerate(pattern_template):\n",
    "    counts = [pattern.count(k) for k in pattern]\n",
    "    pattern_template[i] = np.array(pattern)[np.where(counts == np.max(counts))[0]]\n",
    "    pattern_template[i][:,0] -= min(pattern_template[i][:,0])\n",
    "    pattern_template[i] = np.unique(pattern_template[i],axis=0)\n",
    "\n",
    "if len(pattern_template) == 0:\n",
    "    return pattern_template, sublist_keys_filt, None\n",
    "\n",
    "win_size = (N,1+max([max(k[:,0]) for k in pattern_template]))\n",
    "pattern_img = np.zeros((len(pattern_template),*win_size))\n",
    "for p,pattern in enumerate(pattern_template):\n",
    "    for (i,j) in pattern:\n",
    "        pattern_img[p,j,i] = 1\n",
    "\n"
   ]
  },
  {
   "cell_type": "code",
   "execution_count": 38,
   "id": "fd735b53",
   "metadata": {},
   "outputs": [],
   "source": [
    "sim_mats = np.zeros(np.max(N_labels)+1,dtype='object')\n",
    "for n in np.unique(N_labels):\n",
    "    idc = np.where(N_labels==n)[0]\n",
    "    windows_n = windows[idc]\n",
    "    if len(windows_n) > 1:\n",
    "        x = np.zeros((len(windows_n),len(windows_n)))\n",
    "        for i in range(windows_n.shape[0]):\n",
    "            for j in range(windows_n.shape[0]):\n",
    "                common_rows = windows_n[i].intersection(windows_n[j])\n",
    "                num_identical_rows = len(common_rows)\n",
    "                x[i,j] = len(common_rows)/min(len(windows_n[i]),len(windows_n[j]))\n",
    "        np.fill_diagonal(x,0)# make sure the diagonals are zero, this is important the more spikes there are...\n",
    "        sim_mats[n] = x-1 "
   ]
  },
  {
   "cell_type": "code",
   "execution_count": 36,
   "id": "08a9b4b1",
   "metadata": {},
   "outputs": [
    {
     "data": {
      "text/plain": [
       "array([0, 1, 3, 1, 1, 2, 1, 2, 1, 1, 3, 1, 4, 0, 2, 1, 3, 4, 3, 0, 4, 0,\n",
       "       2, 2, 3, 0, 2, 2, 3, 4, 1, 3, 0, 4, 4, 2, 0, 4, 4, 3, 4, 1, 3, 1,\n",
       "       4, 3, 4, 1, 3, 0, 1, 0, 2, 2, 4, 2, 4, 2, 3, 1, 3, 4, 1, 2, 2, 3,\n",
       "       2, 1, 2, 4, 4, 0, 1, 3, 1, 2, 0, 4, 0, 1, 1, 0, 1, 2, 3, 1, 4, 3,\n",
       "       0, 2, 4, 0, 1, 0, 4, 0, 1, 3, 2, 4, 0, 3, 1, 2, 3, 1, 0, 3, 3, 0,\n",
       "       3, 4, 0, 0, 0, 2, 3, 0, 4, 0, 1, 3, 3, 3, 2, 3, 4, 0, 3, 1, 3, 3,\n",
       "       0, 2, 0, 0, 2, 1, 2, 0, 2, 1, 2, 4, 1, 3, 4, 0, 3, 4, 1, 1, 1, 2,\n",
       "       0, 2, 2, 0, 0, 1, 3, 0, 2, 2, 3, 3, 0, 1, 3, 3, 0, 1, 4, 3, 3, 4,\n",
       "       0, 1, 3, 3, 0, 3, 0, 1, 2, 1, 2, 3, 4, 1, 0, 0, 1, 2, 4, 0, 3, 1,\n",
       "       0, 3, 2, 3, 4, 3, 1, 4, 1, 2, 1, 0, 4, 3, 0, 3, 1, 2, 0, 3, 0, 2,\n",
       "       2, 2, 2, 1, 3, 4, 1, 0, 4, 2, 0, 1, 4, 4, 0, 2, 1, 1, 2, 3, 1, 3,\n",
       "       0, 3, 0, 0, 1, 1, 2, 2, 3, 4, 1, 3, 2, 1, 4, 0, 1, 0, 4, 2, 3, 2,\n",
       "       1, 4, 3, 0, 1, 0, 0, 3, 0, 2, 1, 1, 1, 2, 0, 4, 1, 0, 2, 0, 1, 3,\n",
       "       0, 1, 0, 2, 3, 1, 0, 2, 4, 0, 3, 1, 3, 0, 4, 0, 3, 4, 0, 4, 2, 1,\n",
       "       1, 3, 3, 2, 1, 0, 1, 2, 3, 3, 3, 4, 1, 0, 0, 2, 3, 2, 2, 0, 4, 2,\n",
       "       0, 1, 2, 3, 4, 2, 4, 4, 0, 1, 3, 1, 4, 0, 1, 2, 3, 4, 1, 3, 1, 0,\n",
       "       3, 4, 0, 2, 0, 2, 4, 1, 0, 3, 4, 4, 3, 3, 0, 2, 3, 3, 3, 0, 2, 2,\n",
       "       0, 3, 2, 1, 1, 4, 2, 0, 1, 0, 1, 1, 2, 2, 3, 3, 1, 0, 1, 2, 4, 1,\n",
       "       2, 3, 4, 1, 2, 3, 4, 1, 1, 3, 1, 1, 2, 1, 2, 3, 3, 0, 4, 1, 3, 2,\n",
       "       0, 3, 1, 2, 1, 3, 3, 2, 0, 3, 3, 2, 3, 4, 3, 1, 0, 4, 3, 0, 0, 1,\n",
       "       0, 4, 3, 0, 3, 2, 2, 3, 3, 0, 3, 4, 0, 1, 0, 2, 3, 4, 2, 0, 2, 3,\n",
       "       1, 3, 0, 3, 1, 3, 2, 3, 2, 3, 3, 3, 0, 1, 3, 1, 0, 3, 2, 3, 3, 1,\n",
       "       2, 3, 1, 0, 2, 0, 4, 1, 1, 3, 0, 3, 4, 0, 1, 1, 0, 2, 0, 1, 3, 3,\n",
       "       1, 0, 1, 2, 3, 2, 1, 0, 2, 3, 0, 1, 2, 3, 2, 4, 4, 2, 3, 0, 1, 2,\n",
       "       3, 2, 0, 2, 0, 3, 1, 1, 1, 4, 2, 4, 2, 1, 1, 3, 3, 3, 4, 0, 0, 2,\n",
       "       0, 2, 3, 3, 1, 1, 3, 4, 2, 0, 3, 0, 1, 2, 4, 1, 1, 2, 1, 2, 3, 2,\n",
       "       1, 3, 0, 4, 4, 0, 3, 4, 0, 1, 2, 4, 1, 2, 0, 4, 0, 1, 4, 1, 3, 0,\n",
       "       2, 4, 1, 0, 1, 4, 1, 4, 0, 1, 3, 3, 1, 4, 3, 4, 0, 3, 0, 1, 3, 0,\n",
       "       1, 0, 3, 3, 3, 3, 4, 1, 0, 1, 3, 4, 4, 2, 3, 0, 3, 4, 4, 3, 1, 4,\n",
       "       1, 4, 1, 3, 4, 4, 0, 0, 2, 2, 3, 3, 3, 4, 1, 3, 0, 4, 0, 2, 3, 2,\n",
       "       1, 1, 2, 4, 0, 0, 4, 2, 1, 0, 1, 3, 4, 1, 3, 1, 0, 3, 4, 0, 0, 1,\n",
       "       2, 0, 2, 0, 2, 1, 2, 3, 1, 0, 2, 3, 4, 0, 2, 3, 1, 4, 0, 1, 2, 2,\n",
       "       2, 1, 4, 1, 0, 2, 0, 0, 4, 1, 3, 4, 1], dtype=int64)"
      ]
     },
     "execution_count": 36,
     "metadata": {},
     "output_type": "execute_result"
    }
   ],
   "source": [
    "N_labels"
   ]
  },
  {
   "cell_type": "code",
   "execution_count": 24,
   "id": "dd6a5f33",
   "metadata": {},
   "outputs": [],
   "source": [
    "\n",
    "def _get_sim_mats(windows, T_labels, N_labels):\n",
    "    sim_mats = np.zeros(np.max(N_labels),dtype='object')\n",
    "    for n in np.unique(N_labels):\n",
    "        idc = np.where(N_labels==n)[0]\n",
    "        windows_n = windows[idc]\n",
    "        if len(windows_n) > 1:\n",
    "            x = np.zeros((len(windows_n),len(windows_n)))\n",
    "            for i in range(windows_n.shape[0]):\n",
    "                for j in range(windows_n.shape[0]):\n",
    "                    common_rows = windows_n[i].intersection(windows_n[j])\n",
    "                    num_identical_rows = len(common_rows)\n",
    "                    x[i,j] = len(common_rows)/min(len(windows_n[i]),len(windows_n[j]))\n",
    "            np.fill_diagonal(x,0)# make sure the diagonals are zero, this is important the more spikes there are...\n",
    "            sim_mats[n] = x-1 \n",
    "    return sim_mats\n",
    "\n",
    "def _cluster_windows(cutoff, N_labels, sim_mats):\n",
    "    clusters = np.zeros_like(N_labels)\n",
    "    for n in np.unique(N_labels):\n",
    "        idc = np.where(N_labels==n)[0]\n",
    "        if (type(sim_mats[n]) == np.ndarray) and (not np.all(sim_mats[n] == 0)):\n",
    "            l = max(clusters)+1\n",
    "            clusters[idc]= l+fcluster(linkage(sim_mats[n], method='complete'), cutoff, criterion='distance')\n",
    "    return clusters\n",
    "\n",
    "def _check_seq(clusters, T_labels, N_labels):\n",
    "\n",
    "    time_differences = []\n",
    "    cluster_sq = {}\n",
    "    for cluster in np.unique(clusters):\n",
    "        temp = list(np.diff(np.unique(T_labels[clusters == cluster])))\n",
    "        str_temp = str(temp)\n",
    "        time_differences.append(temp)\n",
    "        if str_temp in cluster_sq.keys():\n",
    "            cluster_sq[str_temp] = cluster_sq[str_temp] + [cluster]\n",
    "        else:\n",
    "            cluster_sq[str_temp] = [cluster]\n",
    "\n",
    "    # Convert the list of lists to a set of tuples to remove duplicates\n",
    "    unique_sublists_set = set(tuple(sublist) for sublist in time_differences if sublist)\n",
    "\n",
    "    # Convert the set of tuples back to a list of lists\n",
    "    unique_sublists = [list(sublist) for sublist in unique_sublists_set]\n",
    "\n",
    "    # Count the occurrences of each unique sublist in the original list\n",
    "    sublist_counts = Counter(tuple(sublist) for sublist in time_differences if sublist)\n",
    "\n",
    "    # Print the unique sublists and their respective counts\n",
    "    sq_counts = np.zeros(len(sublist_counts)) \n",
    "    for i,sublist in enumerate(unique_sublists):\n",
    "        count = sublist_counts[tuple(sublist)]\n",
    "        sq_counts[i] = count\n",
    "    #     print(f\"{sublist}: {count} occurrences\")\n",
    "    sublist_keys_np = np.array([list(key) for key in sublist_counts.keys()],dtype='object')\n",
    "    sublist_keys_filt = sublist_keys_np[np.array(list(sublist_counts.values())) >1] # only bother clustering repetitions that appear for more than one neuron\n",
    "\n",
    "    return cluster_sq, sq_counts, sublist_keys_filt"
   ]
  },
  {
   "cell_type": "code",
   "execution_count": null,
   "id": "fcef52a1",
   "metadata": {},
   "outputs": [],
   "source": []
  }
 ],
 "metadata": {
  "kernelspec": {
   "display_name": "Python 3 (ipykernel)",
   "language": "python",
   "name": "python3"
  },
  "language_info": {
   "codemirror_mode": {
    "name": "ipython",
    "version": 3
   },
   "file_extension": ".py",
   "mimetype": "text/x-python",
   "name": "python",
   "nbconvert_exporter": "python",
   "pygments_lexer": "ipython3",
   "version": "3.11.3"
  }
 },
 "nbformat": 4,
 "nbformat_minor": 5
}
